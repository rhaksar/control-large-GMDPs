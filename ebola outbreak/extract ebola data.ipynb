{
 "cells": [
  {
   "cell_type": "markdown",
   "metadata": {},
   "source": [
    "## Setup"
   ]
  },
  {
   "cell_type": "code",
   "execution_count": 1,
   "metadata": {
    "collapsed": false
   },
   "outputs": [],
   "source": [
    "import csv\n",
    "# from geopy.geocoders import Nominatim\n",
    "import geocoder\n",
    "import glob\n",
    "import math\n",
    "import matplotlib.pyplot as plt\n",
    "import numpy as np\n",
    "import os\n",
    "import pickle\n",
    "import time\n",
    "\n",
    "%matplotlib inline"
   ]
  },
  {
   "cell_type": "code",
   "execution_count": null,
   "metadata": {
    "collapsed": true
   },
   "outputs": [],
   "source": []
  },
  {
   "cell_type": "markdown",
   "metadata": {
    "collapsed": true
   },
   "source": [
    "## load data from .csv files"
   ]
  },
  {
   "cell_type": "code",
   "execution_count": 2,
   "metadata": {
    "collapsed": false,
    "scrolled": true
   },
   "outputs": [],
   "source": [
    "loc_idx = 3\n",
    "epiwk_idx = 7\n",
    "amt_idx = 13\n",
    "\n",
    "filenames = [f for f in glob.glob('*.csv')]\n",
    "data = {}\n",
    "\n",
    "dates = []\n",
    "\n",
    "for f in filenames:\n",
    "    with open(f) as csvfile:\n",
    "        readcsv = csv.reader(csvfile, delimiter=',')\n",
    "        country = \" \".join(f.split()[:-1]).lower()\n",
    "\n",
    "        # data[country] = {}\n",
    "        for row_idx, row in enumerate(readcsv):\n",
    "            loc = row[loc_idx]\n",
    "            amt = row[amt_idx]\n",
    "            if row_idx == 0 or not loc or not amt:\n",
    "                continue\n",
    "                \n",
    "            loc = row[loc_idx].lower()\n",
    "            data.setdefault((country,loc),{})\n",
    "            \n",
    "            epiwk = row[epiwk_idx].split()[-1][1:-1]\n",
    "            epiwk = (int(epiwk[0:4]),int(epiwk[6:]))\n",
    "            data[(country,loc)].setdefault('cases', {})\n",
    "            data[(country,loc)]['cases'].setdefault(epiwk, 0)\n",
    "            dates.append(epiwk)\n",
    "            data[(country,loc)]['cases'][epiwk] += float(amt)\n",
    "                \n",
    "            #loc = row[loc_idx].lower()\n",
    "            #data[country].setdefault(loc, {})\n",
    "            \n",
    "            #epiwk = row[epiwk_idx].split()[-1][1:-1]\n",
    "            #epiwk = (int(epiwk[0:4]),int(epiwk[6:]))            \n",
    "            #data[country][loc].setdefault(epiwk, 0)\n",
    "            #dates.append(epiwk)\n",
    "            \n",
    "            #data[country][loc][epiwk] += float(amt)\n",
    "            "
   ]
  },
  {
   "cell_type": "markdown",
   "metadata": {},
   "source": [
    "add population data"
   ]
  },
  {
   "cell_type": "code",
   "execution_count": 3,
   "metadata": {
    "collapsed": false
   },
   "outputs": [],
   "source": [
    "data[('liberia','bomi')]['pop'] = 82036\n",
    "data[('liberia','bong')]['pop'] = 328919\n",
    "data[('liberia','gbarpolu')]['pop'] = 83758\n",
    "data[('liberia','grand bassa')]['pop'] = 224839\n",
    "data[('liberia','grand cape mount')]['pop'] = 129055\n",
    "data[('liberia','grand gedeh')]['pop'] = 126146\n",
    "data[('liberia','grand kru')]['pop'] = 57106\n",
    "data[('liberia','lofa')]['pop'] = 270114\n",
    "data[('liberia','margibi')]['pop'] = 199689\n",
    "data[('liberia','maryland')]['pop'] = 136404\n",
    "data[('liberia','montserrado')]['pop'] = 1144806\n",
    "data[('liberia','nimba')]['pop'] = 468088\n",
    "data[('liberia','rivercess')]['pop'] = 65862\n",
    "data[('liberia','river gee')]['pop'] = 67318\n",
    "data[('liberia','sinoe')]['pop'] = 104932\n",
    "\n",
    "data[('sierra leone','kailahun')]['pop'] = 526379\n",
    "data[('sierra leone','kenema')]['pop'] = 609891\n",
    "data[('sierra leone','kono')]['pop'] = 506100\n",
    "data[('sierra leone','bombali')]['pop'] = 606544\n",
    "data[('sierra leone','koinadugu')]['pop'] = 409372\n",
    "data[('sierra leone','tonkolili')]['pop'] = 531435\n",
    "data[('sierra leone','kambia')]['pop'] = 345474\n",
    "data[('sierra leone','port loko')]['pop'] = 615376\n",
    "data[('sierra leone','bo')]['pop'] = 575478\n",
    "data[('sierra leone','bonthe')]['pop'] = 200781\n",
    "data[('sierra leone','moyamba')]['pop'] = 318588\n",
    "data[('sierra leone','pujehun')]['pop'] = 346461\n",
    "data[('sierra leone','western area rural')]['pop'] = 444270\n",
    "data[('sierra leone','western area urban')]['pop'] = 1055964\n",
    "\n",
    "# data[('guinea','beyla')]['pop'] = 17096\n",
    "# data[('guinea','boffa')]['pop'] = 27074\n",
    "# data[('guinea','boke')]['pop'] = 54898\n",
    "# data[('guinea','conakry')]['pop'] = 1660973\n",
    "# data[('guinea','coyah')]['pop'] = 49574\n",
    "# data[('guinea','dabola')]['pop'] = 25366\n",
    "# data[('guinea','dalaba')]['pop'] = 8549\n",
    "# data[('guinea','dinguiraye')]['pop'] = 18082\n",
    "# data[('guinea','dubreka')]['pop'] = 157017\n",
    "# data[('guinea','faranah')]['pop'] = 60449\n",
    "# data[('guinea','forecariah')]['pop'] = 20112\n",
    "# data[('guinea','fria')]['pop'] = 55271\n",
    "# data[('guinea','gaoual')]['pop'] = 5962\n",
    "# data[('guinea','gueckedou')]['pop'] = 62372\n",
    "# data[('guinea','kankan')]['pop'] = 190722\n",
    "# data[('guinea','kerouane')]['pop'] = 23248\n",
    "# data[('guinea','kindia')]['pop'] = 138695\n",
    "# data[('guinea','kissidougou')]['pop'] = 99931\n",
    "# data[('guinea','koubia')]['pop'] = 4325\n",
    "# data[('guinea','koundara')]['pop'] = 19230\n",
    "# data[('guinea','kouroussa')]['pop'] = 31262\n",
    "# data[('guinea','labe')]['pop'] = 92654\n",
    "# data[('guinea','lelouma')]['pop'] = 4597\n",
    "# data[('guinea','lola')]['pop'] = 28041\n",
    "# data[('guinea','macenta')]['pop'] = 58588\n",
    "# data[('guinea','mali')]['pop'] = 5421\n",
    "# data[('guinea','mamou')]['pop'] = 68139\n",
    "# data[('guinea',\"n'zerekore\")]['pop'] = 195027\n",
    "# data[('guinea','pita')]['pop'] = 21839\n",
    "# data[('guinea','siguiri')]['pop'] = 127492\n",
    "# data[('guinea','telimele')]['pop'] = 13314\n",
    "# data[('guinea','tougue')]['pop'] = 3747\n",
    "# data[('guinea','yomou')]['pop'] = 7472\n",
    "\n",
    "data[('guinea','beyla')]['pop'] = 325482\n",
    "data[('guinea','boffa')]['pop'] = 211063\n",
    "data[('guinea','boke')]['pop'] = 449405\n",
    "data[('guinea','conakry')]['pop'] = 1667864\n",
    "data[('guinea','coyah')]['pop'] = 264164\n",
    "data[('guinea','dabola')]['pop'] = 182951\n",
    "data[('guinea','dalaba')]['pop'] = 136320\n",
    "data[('guinea','dinguiraye')]['pop'] = 195662\n",
    "data[('guinea','dubreka')]['pop'] = 328418\n",
    "data[('guinea','faranah')]['pop'] = 280511\n",
    "data[('guinea','forecariah')]['pop'] = 244649\n",
    "data[('guinea','fria')]['pop'] = 96527\n",
    "data[('guinea','gaoual')]['pop'] = 194245\n",
    "data[('guinea','gueckedou')]['pop'] = 291823\n",
    "data[('guinea','kankan')]['pop'] = 472112\n",
    "data[('guinea','kerouane')]['pop'] = 211017\n",
    "data[('guinea','kindia')]['pop'] = 438315\n",
    "data[('guinea','kissidougou')]['pop'] = 283609\n",
    "data[('guinea','koubia')]['pop'] = 101171\n",
    "data[('guinea','koundara')]['pop'] = 130205\n",
    "data[('guinea','kouroussa')]['pop'] = 268224\n",
    "data[('guinea','labe')]['pop'] = 318633\n",
    "data[('guinea','lelouma')]['pop'] = 162634\n",
    "data[('guinea','lola')]['pop'] = 175213\n",
    "data[('guinea','macenta')]['pop'] = 298282\n",
    "data[('guinea','mali')]['pop'] = 290320\n",
    "data[('guinea','mamou')]['pop'] = 318738\n",
    "data[('guinea',\"n'zerekore\")]['pop'] = 396118\n",
    "data[('guinea','pita')]['pop'] = 277059\n",
    "data[('guinea','siguiri')]['pop'] = 695449\n",
    "data[('guinea','telimele')]['pop'] = 283639\n",
    "data[('guinea','tougue')]['pop'] = 122959\n",
    "data[('guinea','yomou')]['pop'] = 176664"
   ]
  },
  {
   "cell_type": "markdown",
   "metadata": {},
   "source": [
    "shift dates to week numbers"
   ]
  },
  {
   "cell_type": "code",
   "execution_count": 4,
   "metadata": {
    "collapsed": false,
    "scrolled": true
   },
   "outputs": [],
   "source": [
    "min_year, min_wk = min(dates)\n",
    "for (country,loc) in data.keys():\n",
    "    for epiwk in tuple(data[(country,loc)]['cases']):\n",
    "        year, wk = epiwk\n",
    "        wk_adj = (year-min_year)*52 + wk\n",
    "        data[(country,loc)]['cases'][wk_adj] = data[(country,loc)]['cases'].pop(epiwk)"
   ]
  },
  {
   "cell_type": "markdown",
   "metadata": {},
   "source": [
    "fill in missing data"
   ]
  },
  {
   "cell_type": "code",
   "execution_count": 5,
   "metadata": {
    "collapsed": false
   },
   "outputs": [],
   "source": [
    "max_year, max_wk = max(dates)\n",
    "wk_adj = (max_year-min_year)*52 + max_wk\n",
    "# for t in range(1,123):\n",
    "#     for key in data.keys():\n",
    "#         if t not in data[key]['cases'].keys():\n",
    "#             if t == 1:\n",
    "#                 data[key]['cases'][t] = 0\n",
    "#             else:\n",
    "#                 data[key]['cases'][t] = data[key]['cases'][t-1]\n",
    "for key in data.keys():\n",
    "    for t in range(1,123):\n",
    "        data[key]['cases'].setdefault(t, 0)\n",
    "        if t > 1:\n",
    "            data[key]['cases'][t] += data[key]['cases'][t-1]"
   ]
  },
  {
   "cell_type": "markdown",
   "metadata": {},
   "source": [
    "normalize case counts by city population"
   ]
  },
  {
   "cell_type": "code",
   "execution_count": 6,
   "metadata": {
    "collapsed": false
   },
   "outputs": [],
   "source": [
    "for c in ['liberia','sierra leone', 'guinea']:\n",
    "    for (country,loc) in data.keys():\n",
    "        if country == c:\n",
    "            for wk in range(1,123):\n",
    "                num_cases = data[(country,loc)]['cases'][wk]\n",
    "                pop = data[(country,loc)]['pop']\n",
    "                data[(country,loc)]['cases'][wk] = float(num_cases)/pop"
   ]
  },
  {
   "cell_type": "markdown",
   "metadata": {},
   "source": [
    "determine x,y position of cities from latitude, longitude"
   ]
  },
  {
   "cell_type": "code",
   "execution_count": 7,
   "metadata": {
    "collapsed": false,
    "scrolled": false
   },
   "outputs": [],
   "source": [
    "origin_lon = 0\n",
    "origin_lat = 0\n",
    "for (country,loc) in data.keys():\n",
    "    query = loc + ', ' + country\n",
    "    #time.sleep(1)\n",
    "    g = geocoder.arcgis(query)\n",
    "    pos = g.latlng\n",
    "    #print(g,pos)\n",
    "    x = (pos[1]-origin_lon)*40000*math.cos((origin_lat+pos[0])*math.pi/360)/360\n",
    "    y = (pos[0]-origin_lat)*40000/360\n",
    "    #pos = geolocator.geocode(query)\n",
    "    #x = (pos.longitude-origin_lon)*40000*math.cos((origin_lat+pos.latitude)*math.pi/360)/360\n",
    "    #y = (pos.latitude-origin_lat)*40000/360\n",
    "    #print(query,\":\",pos,pos.latitude,pos.longitude)\n",
    "    \n",
    "    data[(country,loc)]['pos'] = (x,y)"
   ]
  },
  {
   "cell_type": "markdown",
   "metadata": {
    "collapsed": true
   },
   "source": [
    "plot data for a city"
   ]
  },
  {
   "cell_type": "code",
   "execution_count": 8,
   "metadata": {
    "collapsed": false
   },
   "outputs": [
    {
     "data": {
      "text/plain": [
       "[<matplotlib.lines.Line2D at 0x7fcb28ee4b70>]"
      ]
     },
     "execution_count": 8,
     "metadata": {},
     "output_type": "execute_result"
    },
    {
     "data": {
      "image/png": "[encoded data removed]",
      "text/plain": [
       "<matplotlib.figure.Figure at 0x7fcb2b1cd2e8>"
      ]
     },
     "metadata": {},
     "output_type": "display_data"
    }
   ],
   "source": [
    "k = ('guinea','gueckedou')\n",
    "# k = ('guinea','conakry')\n",
    "cases = data[k]['cases']\n",
    "x = [key for key in cases.keys()]\n",
    "# y = [cases[key]*data[(plt_ctry,plt_loc)]['pop'] for key in cases.keys()]\n",
    "y = [cases[key] for key in cases.keys()]\n",
    "\n",
    "plt.plot(x, y, marker='o')"
   ]
  },
  {
   "cell_type": "code",
   "execution_count": 9,
   "metadata": {
    "collapsed": false
   },
   "outputs": [
    {
     "name": "stdout",
     "output_type": "stream",
     "text": [
      "(0.006297971953991942, ('sierra leone', 'western area rural'))\n"
     ]
    }
   ],
   "source": [
    "max_list = [(max(data[k]['cases'].values()),k) for k in data.keys()]\n",
    "print(max(max_list))"
   ]
  },
  {
   "cell_type": "code",
   "execution_count": null,
   "metadata": {
    "collapsed": true
   },
   "outputs": [],
   "source": []
  },
  {
   "cell_type": "code",
   "execution_count": null,
   "metadata": {
    "collapsed": true
   },
   "outputs": [],
   "source": [
    "# edges = {}\n",
    "# max_dist = 200\n",
    "# max_conn = 1\n",
    "# for k in data.keys():\n",
    "#     pos = np.asarray(data[k]['pos'])\n",
    "#     dists = [(np.linalg.norm(pos - np.asarray(data[j]['pos'])),j) for j in data.keys() if j is not k]\n",
    "#     dists = [d for d in dists if d[0] <= max_dist]\n",
    "    \n",
    "#     if len(dists) <= max_conn:\n",
    "#         edges[k] = [d[1] for d in dists]\n",
    "#     else:\n",
    "#         edges[k] = [d[1] for d in sorted(dists)[0:max_conn]]"
   ]
  },
  {
   "cell_type": "code",
   "execution_count": null,
   "metadata": {
    "collapsed": false
   },
   "outputs": [],
   "source": [
    "# c = 'liberia'\n",
    "# cnt = 0\n",
    "# for c in ['liberia','sierra leone','guinea']:\n",
    "#     print(c)\n",
    "#     print('---')\n",
    "#     for k in data.keys():\n",
    "#         if c == k[0]:\n",
    "#             print(k[1])\n",
    "#             cnt += 1\n",
    "#     print()\n",
    "# print('total of %d cities' %cnt)"
   ]
  },
  {
   "cell_type": "markdown",
   "metadata": {},
   "source": [
    "add edges to graph based on highways"
   ]
  },
  {
   "cell_type": "code",
   "execution_count": 10,
   "metadata": {
    "collapsed": false
   },
   "outputs": [],
   "source": [
    "edges = {}\n",
    "\n",
    "# LIBERIA\n",
    "edges[('liberia','bomi')] = [('liberia','grand cape mount'),('liberia','gbarpolu'),('liberia','montserrado')]\n",
    "edges[('liberia','bong')] = [('liberia','nimba'),('liberia','grand bassa'),('liberia','margibi'),\n",
    "                             ('liberia','montserrado'),('liberia','gbarpolu'),('liberia','lofa')]\n",
    "edges[('liberia','gbarpolu')] = [('liberia','grand cape mount'),('liberia','bomi'),('liberia','bong'),\n",
    "                                 ('liberia','lofa')]\n",
    "edges[('liberia','grand bassa')] = [('liberia','margibi'),('liberia','bong'),('liberia','nimba'),\n",
    "                                    ('liberia','rivercess')]\n",
    "edges[('liberia','grand cape mount')] = [('liberia','bomi'),('liberia','gbarpolu')]\n",
    "edges[('liberia','grand gedeh')] = [('liberia','river gee'),('liberia','sinoe'),('liberia','nimba')]\n",
    "edges[('liberia','grand kru')] = [('liberia','sinoe'),('liberia','river gee'),('liberia','maryland')]\n",
    "edges[('liberia','lofa')] = [('liberia','gbarpolu'),('liberia','bong')]\n",
    "edges[('liberia','margibi')] = [('liberia','montserrado'),('liberia','bong'),('liberia','grand bassa')]\n",
    "edges[('liberia','maryland')] = [('liberia','river gee'),('liberia','grand kru')]\n",
    "edges[('liberia','montserrado')] = [('liberia','bomi'),('liberia','bong'),('liberia','margibi')]\n",
    "edges[('liberia','nimba')] = [('liberia','grand gedeh'),('liberia','sinoe'),('liberia','rivercess'),\n",
    "                              ('liberia','grand bassa'),('liberia','bong')]\n",
    "edges[('liberia','rivercess')] = [('liberia','grand bassa'),('liberia','nimba'),('liberia','sinoe')]\n",
    "edges[('liberia','river gee')] = [('liberia','maryland'),('liberia','grand kru'),('liberia','sinoe'),\n",
    "                                  ('liberia','grand gedeh')]\n",
    "edges[('liberia','sinoe')] = [('liberia','rivercess'),('liberia','nimba'),('liberia','grand gedeh'),\n",
    "                              ('liberia','river gee'),('liberia','grand kru')]\n",
    "\n",
    "# SIERRA LEONE\n",
    "edges[('sierra leone','kenema')] = [('sierra leone','pujehun'),('sierra leone','bo'),('sierra leone','tonkolili'),\n",
    "                                    ('sierra leone','kono'),('sierra leone','kailahun')]\n",
    "edges[('sierra leone','moyamba')] = [('sierra leone','bonthe'),('sierra leone','bo'),('sierra leone','tonkolili'),\n",
    "                                     ('sierra leone','port loko'),('sierra leone','western area rural')]\n",
    "edges[('sierra leone','bonthe')] = [('sierra leone','pujehun'),('sierra leone','bo'),('sierra leone','moyamba')]\n",
    "edges[('sierra leone','tonkolili')] = [('sierra leone','moyamba'),('sierra leone','bo'),('sierra leone','kenema'),\n",
    "                                       ('sierra leone','kono'),('sierra leone','koinadugu'),\n",
    "                                       ('sierra leone','bombali'),('sierra leone','port loko')]\n",
    "edges[('sierra leone','port loko')] = [('sierra leone','kambia'),('sierra leone','bombali'),\n",
    "                                       ('sierra leone','tonkolili'),('sierra leone','moyamba'),\n",
    "                                       ('sierra leone','western area rural')]\n",
    "edges[('sierra leone','western area rural')] = [('sierra leone','western area urban'),('sierra leone','port loko'),\n",
    "                                                ('sierra leone','moyamba')]\n",
    "edges[('sierra leone','kailahun')] = [('sierra leone','kono'),('sierra leone','kenema')]\n",
    "edges[('sierra leone','bo')] = [('sierra leone','moyamba'),('sierra leone','bonthe'),('sierra leone','pujehun'),\n",
    "                                ('sierra leone','kenema'),('sierra leone','tonkolili')]\n",
    "edges[('sierra leone','western area urban')] = [('sierra leone','western area rural')]\n",
    "edges[('sierra leone','bombali')] = [('sierra leone','kambia'),('sierra leone','port loko'),\n",
    "                                     ('sierra leone','tonkolili'),('sierra leone','koinadugu')]\n",
    "edges[('sierra leone','pujehun')] = [('sierra leone','bonthe'),('sierra leone','bo'),('sierra leone','kenema')]\n",
    "edges[('sierra leone','koinadugu')] = [('sierra leone','bombali'),('sierra leone','tonkolili'),\n",
    "                                       ('sierra leone','kono')]\n",
    "edges[('sierra leone','kambia')] = [('sierra leone','port loko'),('sierra leone','bombali')]\n",
    "edges[('sierra leone','kono')] = [('sierra leone','kenema'),('sierra leone','kailahun'),\n",
    "                                  ('sierra leone','koinadugu'),('sierra leone','tonkolili')]\n",
    "\n",
    "# GUINEA\n",
    "edges[('guinea','beyla')] = [('guinea','kerouane'),('guinea',\"n'zerekore\")]\n",
    "edges[('guinea','boffa')] = [('guinea','dubreka'),('guinea','boke'),('guinea','fria')]\n",
    "edges[('guinea','boke')] = [('guinea','boffa'),('guinea','gaoual'),('guinea','telimele')]\n",
    "edges[('guinea','conakry')] = [('guinea','dubreka'),('guinea','coyah')]\n",
    "edges[('guinea','coyah')] = [('guinea','conakry'),('guinea','dubreka'),('guinea','kindia'),('guinea','forecariah')]\n",
    "edges[('guinea','dabola')] = [('guinea','mamou'),('guinea','dinguiraye'),('guinea','faranah'),\n",
    "                              ('guinea','kouroussa'),('guinea','tougue')]\n",
    "edges[('guinea','dalaba')] = [('guinea','mamou'),('guinea','pita'),('guinea', 'tougue')]\n",
    "edges[('guinea','dinguiraye')] = [('guinea','tougue'),('guinea','siguiri'),('guinea','dabola')]\n",
    "edges[('guinea','dubreka')] = [('guinea','conakry'),('guinea','boffa'),('guinea','coyah'),('guinea','fria')]\n",
    "edges[('guinea','faranah')] = [('guinea','mamou'),('guinea','kissidougou'),('guinea','kouroussa'),\n",
    "                               ('guinea','dabola')]\n",
    "edges[('guinea','forecariah')] = [('guinea','coyah')]\n",
    "edges[('guinea','fria')] = [('guinea','dubreka'),('guinea','telimele'),('guinea','boffa')]\n",
    "edges[('guinea','gaoual')] = [('guinea','boke'),('guinea','koundara'),('guinea', 'telimele')]\n",
    "edges[('guinea','gueckedou')] = [('guinea','kissidougou'),('guinea','macenta')]\n",
    "edges[('guinea','kankan')] = [('guinea','kissidougou'),('guinea','kouroussa'),('guinea','siguiri'),\n",
    "                              ('guinea','kerouane')]\n",
    "edges[('guinea','kerouane')] = [('guinea','kankan'),('guinea','beyla'),('guinea','macenta'),\n",
    "                                ('guinea','kissidougou')]\n",
    "edges[('guinea','kindia')] = [('guinea','mamou'),('guinea','coyah')]\n",
    "edges[('guinea','kissidougou')] = [('guinea','gueckedou'),('guinea','kankan'),('guinea','faranah'),\n",
    "                                   ('guinea','kerouane')]\n",
    "edges[('guinea','koubia')] = [('guinea','labe'),('guinea','tougue')]\n",
    "edges[('guinea','koundara')] = [('guinea','gaoual'),('guinea','labe'),('guinea','mali')]\n",
    "edges[('guinea','kouroussa')] = [('guinea','kankan'),('guinea','faranah'),('guinea','dabola')]\n",
    "edges[('guinea','labe')] = [('guinea','pita'),('guinea','koubia'),('guinea','tougue'),('guinea','koundara'),\n",
    "                            ('guinea','mali'),('guinea','lelouma')]\n",
    "edges[('guinea','lelouma')] = [('guinea','labe')]\n",
    "edges[('guinea','lola')] = [('guinea',\"n'zerekore\")]\n",
    "edges[('guinea','macenta')] = [('guinea',\"n'zerekore\"),('guinea','gueckedou'),('guinea','kerouane')]\n",
    "edges[('guinea','mali')] = [('guinea','labe'),('guinea','koundara')]\n",
    "edges[('guinea','mamou')] = [('guinea','kindia'),('guinea','pita'),('guinea','dabola'),('guinea','dalaba'),\n",
    "                             ('guinea','faranah')]\n",
    "edges[('guinea',\"n'zerekore\")] = [('guinea','yomou'),('guinea','lola'),('guinea','macenta'),('guinea','beyla')]\n",
    "edges[('guinea','pita')] = [('guinea','labe'),('guinea','mamou'),('guinea','telimele'),('guinea','dalaba')]\n",
    "edges[('guinea','siguiri')] = [('guinea','kankan'),('guinea','dinguiraye')]\n",
    "edges[('guinea','telimele')] = [('guinea','fria'),('guinea','pita'),('guinea','boke'),('guinea','gaoual')]\n",
    "edges[('guinea','tougue')] = [('guinea','koubia'),('guinea','labe'),('guinea','dinguiraye'),('guinea','dalaba'),\n",
    "                              ('guinea','dabola')]\n",
    "edges[('guinea','yomou')] = [('guinea',\"n'zerekore\")]\n",
    "\n",
    "# INTER-COUNTRY\n",
    "edges[('sierra leone','kambia')].append(('guinea','forecariah'))\n",
    "edges[('guinea','forecariah')].append(('sierra leone','kambia'))\n",
    "edges[('sierra leone','koinadugu')].append(('guinea','faranah'))\n",
    "edges[('guinea','faranah')].append(('sierra leone','koinadugu'))\n",
    "edges[('sierra leone','kailahun')].extend([('liberia','lofa'),('guinea','gueckedou')])\n",
    "edges[('liberia','lofa')].append(('sierra leone','kailahun'))\n",
    "edges[('guinea','gueckedou')].append(('sierra leone','kailahun'))\n",
    "edges[('liberia','lofa')].append(('guinea','macenta'))\n",
    "edges[('guinea','macenta')].append(('liberia','lofa'))\n",
    "edges[('sierra leone','kono')].append(('guinea','gueckedou'))\n",
    "edges[('guinea','gueckedou')].append(('sierra leone','kono'))\n",
    "edges[('sierra leone','pujehun')].append(('liberia','grand cape mount'))\n",
    "edges[('liberia','grand cape mount')].append(('sierra leone','pujehun'))\n",
    "\n",
    "\n",
    "current_keys = tuple(edges.keys())\n",
    "for node in current_keys:\n",
    "    for other_node in edges[node]:\n",
    "        #edges.setdefault(other_node,[])\n",
    "        if other_node not in current_keys:\n",
    "            continue\n",
    "        if node not in edges[other_node]:\n",
    "            edges[other_node].append(node)\n",
    "            print('warning: had to add',node,'to',other_node)"
   ]
  },
  {
   "cell_type": "code",
   "execution_count": 151,
   "metadata": {
    "collapsed": false
   },
   "outputs": [
    {
     "name": "stdout",
     "output_type": "stream",
     "text": [
      "(7, ('sierra leone', 'tonkolili'))\n",
      "(1, ('guinea', 'lelouma'))\n"
     ]
    },
    {
     "data": {
      "text/plain": [
       "{'boxes': [<matplotlib.lines.Line2D at 0x7f3889f36438>],\n",
       " 'caps': [<matplotlib.lines.Line2D at 0x7f3889f1fd30>,\n",
       "  <matplotlib.lines.Line2D at 0x7f3889f1fcc0>],\n",
       " 'fliers': [<matplotlib.lines.Line2D at 0x7f3889f1d748>],\n",
       " 'means': [],\n",
       " 'medians': [<matplotlib.lines.Line2D at 0x7f3889f43860>],\n",
       " 'whiskers': [<matplotlib.lines.Line2D at 0x7f38806ec748>,\n",
       "  <matplotlib.lines.Line2D at 0x7f3889f36f98>]}"
      ]
     },
     "execution_count": 151,
     "metadata": {},
     "output_type": "execute_result"
    },
    {
     "data": {
      "image/png": "[encoded data removed]",
      "text/plain": [
       "<matplotlib.figure.Figure at 0x7f3972017390>"
      ]
     },
     "metadata": {},
     "output_type": "display_data"
    }
   ],
   "source": [
    "degrees = [(len(edges[k]),k) for k in edges.keys()]\n",
    "degrees_values = [t[0] for t in degrees]\n",
    "print(max(degrees))\n",
    "print(min(degrees))\n",
    "plt.boxplot(degrees_values)"
   ]
  },
  {
   "cell_type": "markdown",
   "metadata": {
    "collapsed": true
   },
   "source": [
    "plot graph model"
   ]
  },
  {
   "cell_type": "code",
   "execution_count": 12,
   "metadata": {
    "collapsed": false,
    "scrolled": false
   },
   "outputs": [
    {
     "data": {
      "image/png": "[encoded data removed]",
      "text/plain": [
       "<matplotlib.figure.Figure at 0x7f39720007b8>"
      ]
     },
     "metadata": {},
     "output_type": "display_data"
    }
   ],
   "source": [
    "# img = plt.imread('west_africa.png')\n",
    "\n",
    "plt.figure(figsize=(10,10))\n",
    "plt.axis('off')\n",
    "\n",
    "for (country,loc) in data.keys():\n",
    "    pos = data[(country,loc)]['pos']\n",
    "    \n",
    "    if country == 'sierra leone':\n",
    "        mrkr = 'o'\n",
    "        mrkr_col = 'r'\n",
    "    elif country == 'guinea':\n",
    "        mrkr = 'o'\n",
    "        mrkr_col = 'g'\n",
    "    elif country == 'liberia':\n",
    "        mrkr = 'o' \n",
    "        mrkr_col = 'b'\n",
    "        \n",
    "    plt.plot(pos[0], pos[1], marker=mrkr, color=mrkr_col, markersize=8)\n",
    "    \n",
    "    if (country,loc) in edges.keys():\n",
    "        for el in edges[(country,loc)]:\n",
    "            other_pos = data[el]['pos']\n",
    "            plt.plot([pos[0],other_pos[0]], [pos[1],other_pos[1]], zorder=0, color='gray')\n",
    "        \n",
    "    #plt.text(pos[0],pos[1],loc)\n",
    "\n",
    "# plt.imshow(img, zorder=-1, extent=)\n",
    "# plt.savefig('west_africa_graph_edges.png', dpi=300, bbox_inches='tight', transparent=True)"
   ]
  },
  {
   "cell_type": "markdown",
   "metadata": {
    "collapsed": true
   },
   "source": [
    "create animation of spatial data"
   ]
  },
  {
   "cell_type": "code",
   "execution_count": 43,
   "metadata": {
    "collapsed": false
   },
   "outputs": [],
   "source": [
    "folder = '/tmp3/'\n",
    "\n",
    "scalex = 1\n",
    "scaley = 1\n",
    "x_orig = 0\n",
    "y_orig = 0\n",
    "ub = 123\n",
    "\n",
    "for wk in range(1,ub):\n",
    "    \n",
    "    plt.figure(figsize=(10,10))\n",
    "    plt.axis('off')\n",
    "    \n",
    "    for k in data.keys():\n",
    "        ctry,loc = k \n",
    "        \n",
    "        if ctry  == 'sierra leone':\n",
    "            mrkr_col = 'r'\n",
    "        elif ctry == 'guinea':\n",
    "            mrkr_col = 'g'\n",
    "        elif ctry == 'liberia':\n",
    "            mrkr_col = 'b'\n",
    "            \n",
    "        pos = data[k]['pos']\n",
    "        if wk > 1:\n",
    "            mrkr_size = 20000*(data[k]['cases'][wk]-data[k]['cases'][wk-1]) + 4\n",
    "        else:\n",
    "            mrkr_size = 4\n",
    "            \n",
    "        plt.plot(pos[0], pos[1], marker='o', color=mrkr_col, markersize=mrkr_size)\n",
    "        \n",
    "        for el in edges[k]:\n",
    "            other_pos = data[el]['pos']\n",
    "            plt.plot([pos[0],other_pos[0]], [pos[1],other_pos[1]], zorder=0, color='gray', linewidth=1)\n",
    "       \n",
    "    fn = os.getcwd() + folder + 'img%s' %str(wk).zfill(3)\n",
    "    plt.savefig(fn,dpi=300,bbox_inches='tight')\n",
    "    plt.close()"
   ]
  },
  {
   "cell_type": "code",
   "execution_count": 44,
   "metadata": {
    "collapsed": false,
    "scrolled": true
   },
   "outputs": [],
   "source": [
    "# k = ('liberia','montserrado')\n",
    "# for wk in range(2,ub):\n",
    "#     val = 20000*(data[k]['cases'][wk]-data[k]['cases'][wk-1]) + 4\n",
    "#     print(\"%0.7f, %0.7f\" %(data[k]['cases'][wk],val))"
   ]
  },
  {
   "cell_type": "code",
   "execution_count": null,
   "metadata": {
    "collapsed": true
   },
   "outputs": [],
   "source": []
  },
  {
   "cell_type": "markdown",
   "metadata": {
    "collapsed": true
   },
   "source": [
    "fit spreading parameters to data"
   ]
  },
  {
   "cell_type": "code",
   "execution_count": 14,
   "metadata": {
    "collapsed": false,
    "scrolled": false
   },
   "outputs": [
    {
     "name": "stdout",
     "output_type": "stream",
     "text": [
      "+1.0456389, +0.0000000, 047, ('guinea', 'dabola')\n",
      "+1.1020526, +0.0000000, 056, ('sierra leone', 'kambia')\n",
      "+1.1669870, +0.0000000, 047, ('sierra leone', 'western area rural')\n",
      "+1.7001570, +0.0000000, 046, ('guinea', 'faranah')\n",
      "+1.1545834, +0.0000000, 050, ('sierra leone', 'western area urban')\n",
      "+1.2720856, +0.0000000, 037, ('liberia', 'nimba')\n",
      "+1.0879388, +0.0000000, 057, ('guinea', 'dubreka')\n",
      "+1.2155172, +0.0000000, 047, ('guinea', 'siguiri')\n",
      "+1.1657487, +0.0000000, 037, ('liberia', 'bomi')\n",
      "+0.0000000, +0.0000000, 122, ('guinea', 'koundara')\n",
      "+1.7500000, +0.0000000, 033, ('guinea', 'pita')\n",
      "+1.0000000, +0.0000000, 039, ('liberia', 'grand gedeh')\n",
      "+1.2048518, +0.0000000, 043, ('liberia', 'sinoe')\n",
      "+1.4218674, +0.0000000, 039, ('sierra leone', 'pujehun')\n",
      "+1.0500000, +0.0000000, 045, ('sierra leone', 'bonthe')\n",
      "+1.1703657, +0.0000000, 051, ('sierra leone', 'kono')\n",
      "+1.2892112, +0.0000000, 044, ('guinea', 'kerouane')\n",
      "+1.0662461, +0.0000000, 044, ('liberia', 'rivercess')\n",
      "+0.0000000, +0.0000000, 012, ('guinea', 'dinguiraye')\n",
      "+1.1075010, +0.0000000, 044, ('sierra leone', 'moyamba')\n",
      "+1.1476015, +0.0000000, 044, ('liberia', 'gbarpolu')\n",
      "+2.0000000, +0.0000000, 034, ('liberia', 'maryland')\n",
      "+1.1594400, +0.0000000, 047, ('sierra leone', 'port loko')\n",
      "+1.0251795, +0.0000000, 058, ('guinea', 'boffa')\n",
      "+2.5000000, +0.0000000, 033, ('guinea', 'yomou')\n",
      "+1.3355805, +0.0000000, 038, ('liberia', 'margibi')\n",
      "+0.0000000, +0.0000000, 122, ('guinea', 'lelouma')\n",
      "+1.1308901, +0.0000000, 046, ('guinea', 'kouroussa')\n",
      "+0.0000000, +0.0000000, 122, ('guinea', 'labe')\n",
      "+1.3484848, +0.0000000, 039, ('liberia', 'grand kru')\n",
      "+1.2152778, +0.0000000, 044, ('guinea', \"n'zerekore\")\n",
      "+1.2091110, +0.0000000, 034, ('sierra leone', 'kenema')\n",
      "+1.0164559, +0.0000000, 049, ('guinea', 'telimele')\n",
      "+1.1225422, +0.0000000, 050, ('guinea', 'kissidougou')\n",
      "+1.2340288, +0.0000000, 040, ('liberia', 'bong')\n",
      "+1.1622346, +0.0000000, 063, ('guinea', 'forecariah')\n",
      "+1.6785714, +0.0000000, 047, ('guinea', 'kankan')\n",
      "+1.1859347, +0.0000000, 046, ('liberia', 'grand cape mount')\n",
      "+1.2106304, +0.0000000, 044, ('sierra leone', 'bombali')\n",
      "+1.2596294, +0.0000000, 050, ('guinea', 'kindia')\n",
      "+1.2151930, +0.0000000, 044, ('sierra leone', 'tonkolili')\n",
      "+1.2359078, +0.0000000, 041, ('guinea', 'macenta')\n",
      "+1.1484107, +0.0000000, 052, ('guinea', 'lola')\n",
      "+1.1425474, +0.0000000, 045, ('sierra leone', 'bo')\n",
      "+1.2162538, +0.0000000, 040, ('liberia', 'montserrado')\n",
      "+0.0000000, +0.0000000, 122, ('guinea', 'mamou')\n",
      "+1.0966943, +0.0000000, 044, ('liberia', 'grand bassa')\n",
      "+1.2758621, +0.0000000, 038, ('liberia', 'river gee')\n",
      "+1.7172372, +0.0000000, 045, ('sierra leone', 'koinadugu')\n",
      "+1.1825558, +0.0000000, 066, ('guinea', 'fria')\n",
      "+1.0643123, +0.0000000, 029, ('guinea', 'gueckedou')\n",
      "+1.1856725, +0.0000000, 030, ('sierra leone', 'kailahun')\n",
      "+1.3154955, +0.0000000, 033, ('liberia', 'lofa')\n",
      "+0.0000000, +0.0000000, 122, ('guinea', 'koubia')\n",
      "+0.0000000, +0.0000000, 056, ('guinea', 'tougue')\n",
      "+1.5000000, +0.0000000, 038, ('guinea', 'dalaba')\n",
      "+1.2569887, +0.0000000, 077, ('guinea', 'boke')\n",
      "+1.5000000, +0.0000000, 058, ('guinea', 'mali')\n",
      "+1.1638496, +0.0000000, 051, ('guinea', 'coyah')\n",
      "+1.2977099, +0.0000000, 044, ('guinea', 'beyla')\n",
      "+1.0836733, +0.0000000, 053, ('guinea', 'conakry')\n",
      "+0.0000000, +0.0000000, 122, ('guinea', 'gaoual')\n"
     ]
    }
   ],
   "source": [
    "# ctry = 'guinea'\n",
    "# city = 'conakry'\n",
    "# k = (ctry,city)\n",
    "\n",
    "# wk_range = 50\n",
    "# ml = []\n",
    "\n",
    "for k in data.keys():\n",
    "    \n",
    "    tc = [(data[k]['cases'][wk],wk) for wk in range(1,123)]\n",
    "    max_val = max(tc)[0]\n",
    "    lower = [e for e in tc if e[0] < 0.6*max_val]\n",
    "    if lower:\n",
    "        wk_range = max(lower)[1]\n",
    "    else:\n",
    "        wk_range = 122\n",
    "        \n",
    "    #wk_range = max(tc)[1]\n",
    "    #wk_range = 38\n",
    "    \n",
    "    A = -1*np.ones((wk_range-1,2))\n",
    "    b = -1*np.ones(wk_range-1)\n",
    "    for t in range(1,wk_range):\n",
    "        A[t-1,0] = data[k]['cases'][t]\n",
    "        A[t-1,1] = 0\n",
    "        #for el in edges[k]:\n",
    "        #    A[t-1,1] += data[el]['cases'][t]\n",
    "        A[t-1,1] /= len(edges[k])\n",
    "        #A[t-1,2] = 1\n",
    "\n",
    "    for t in range(2,wk_range+1):\n",
    "        b[t-2] = data[k]['cases'][t] #- data[k]['cases'][t-1]\n",
    "        \n",
    "    #ml.append(np.amax(A[:,1]))\n",
    "    \n",
    "    #A = -1*np.ones(wk_range-1)\n",
    "    #b = -1*np.ones(wk_range-1)\n",
    "    #for t in range(1,wk_range):\n",
    "    #    A[t-1] = data[k]['cases'][t]\n",
    "    #    for el in edges[k]:\n",
    "    #        A[t-1] += data[el]['cases'][t]\n",
    "    #for t in range(2,wk_range+1):\n",
    "    #    b[t-2] = data[k]['cases'][t] - data[k]['cases'][t-1]\n",
    "\n",
    "    x = np.linalg.lstsq(A,b)[0]\n",
    "    #print(\"%+0.7f, %+0.7f, %+0.7f, %03d, %s\" %(x[0],x[1],x[2],wk_range,k))\n",
    "    print(\"%+0.7f, %+0.7f, %03d, %s\" %(x[0],x[1],wk_range,k))    \n",
    "\n",
    "    #x = np.mean(np.divide(A,b))\n",
    "    #print(\"%+0.7f, %03d, %s\" %(x,wk_range,k))    \n",
    "\n",
    "    data[k]['params'] = x"
   ]
  },
  {
   "cell_type": "code",
   "execution_count": 58,
   "metadata": {
    "collapsed": false,
    "scrolled": true
   },
   "outputs": [
    {
     "name": "stdout",
     "output_type": "stream",
     "text": [
      "number of neighbors: 3\n"
     ]
    },
    {
     "data": {
      "text/plain": [
       "[<matplotlib.lines.Line2D at 0x7f38806a7c18>]"
      ]
     },
     "execution_count": 58,
     "metadata": {},
     "output_type": "execute_result"
    },
    {
     "data": {
      "image/png": "[encoded data removed]",
      "text/plain": [
       "<matplotlib.figure.Figure at 0x7f38806d9400>"
      ]
     },
     "metadata": {},
     "output_type": "display_data"
    }
   ],
   "source": [
    "ctry = 'liberia'\n",
    "city = 'montserrado'\n",
    "k = (ctry,city)\n",
    "cases = data[k]['cases']\n",
    "\n",
    "time = [key for key in cases.keys()]\n",
    "# y = [cases[key]*data[(plt_ctry,plt_loc)]['pop'] for key in cases.keys()]\n",
    "count = [cases[key] for key in cases.keys()]\n",
    "\n",
    "plt.plot(time, count, marker='o', linestyle='None')\n",
    "\n",
    "predict_count = []\n",
    "ni_list = []\n",
    "predict_count.append(5e-8)\n",
    "tc = [(data[k]['cases'][wk],wk) for wk in range(1,123)]\n",
    "max_val = max(tc)[0]\n",
    "lower = [e for e in tc if e[0] < 0.51*max_val]\n",
    "if lower:\n",
    "    wk_ub = max(lower)[1]\n",
    "else:\n",
    "    wk_ub = 122\n",
    "# wk_ub = 40\n",
    "\n",
    "for t in range(1,wk_ub):\n",
    "    p = data[k]['params']\n",
    "    \n",
    "    ni = 0\n",
    "    for el in edges[k]:\n",
    "        ni += data[el]['cases'][t]\n",
    "        \n",
    "    #val = data[k]['cases'][t]*p[0] + ni*p[1] #+ p[2]\n",
    "    #val = predict_count[t-1]*(1-p[0]) + ni*p[1]\n",
    "    val = predict_count[t-1]*p[0]# + ni*p[1]\n",
    "    predict_count.append(val)\n",
    "    ni_list.append(ni)\n",
    "    #print(ni)\n",
    "\n",
    "print('number of neighbors: %d' %len(edges[k]))\n",
    "plt.plot(range(0,wk_ub), predict_count, linewidth=2, color='C2')\n",
    "plt.plot(range(0,wk_ub-1), ni_list, marker='s', color='C3')"
   ]
  },
  {
   "cell_type": "code",
   "execution_count": 17,
   "metadata": {
    "collapsed": false
   },
   "outputs": [
    {
     "name": "stdout",
     "output_type": "stream",
     "text": [
      "median: 1.169, mean: 1.105\n"
     ]
    },
    {
     "data": {
      "image/png": "[encoded data removed]",
      "text/plain": [
       "<matplotlib.figure.Figure at 0x7f397757b278>"
      ]
     },
     "metadata": {},
     "output_type": "display_data"
    }
   ],
   "source": [
    "p1 = [data[k]['params'][0] for k in data.keys()]\n",
    "p2 = [data[k]['params'][1] for k in data.keys()]\n",
    "# p3 = [data[k]['params'][2] for k in data.keys()]\n",
    "\n",
    "# plt.subplot(1,2,1)\n",
    "plt.boxplot(p1)\n",
    "# plt.subplot(1,2,2)\n",
    "# plt.boxplot(p2)\n",
    "print(\"median: %0.3f, mean: %0.3f\" %(np.median(p1),np.mean(p1)))\n",
    "# print(\"median: %0.3f, mean: %0.3f\" %(np.median(p2),np.mean(p2)))"
   ]
  },
  {
   "cell_type": "code",
   "execution_count": null,
   "metadata": {
    "collapsed": true
   },
   "outputs": [],
   "source": []
  },
  {
   "cell_type": "code",
   "execution_count": 149,
   "metadata": {
    "collapsed": false
   },
   "outputs": [
    {
     "name": "stdout",
     "output_type": "stream",
     "text": [
      "min: 1.00\n",
      "median: 36.00\n",
      "max: 112.00\n"
     ]
    },
    {
     "data": {
      "image/png": "[encoded data removed]",
      "text/plain": [
       "<matplotlib.figure.Figure at 0x7f385eea5b00>"
      ]
     },
     "metadata": {},
     "output_type": "display_data"
    }
   ],
   "source": [
    "dt = []\n",
    "for k in data.keys():\n",
    "    pairs = [(data[k]['cases'][wk],wk) for wk in data[k]['cases'].keys()]\n",
    "    values = list(data[k]['cases'].values())\n",
    "    low, high = values[0], values[-1]\n",
    "    \n",
    "    if low == high:\n",
    "        continue\n",
    "    \n",
    "    low_set = [c for c in pairs if c[0] <= low]\n",
    "    high_set = [c for c in pairs if c[0] >= high]\n",
    "    \n",
    "    if not low_set and not high_set:\n",
    "        continue\n",
    "    \n",
    "    low_wk = max(low_set)[1]\n",
    "    high_wk = min(high_set)[1]\n",
    "    \n",
    "    dt.append(high_wk - low_wk)\n",
    "\n",
    "\n",
    "plt.boxplot(dt)\n",
    "print('min: %0.2f' %np.amin(dt))\n",
    "print('median: %0.2f' %np.median(dt))\n",
    "print('max: %0.2f' %np.amax(dt))"
   ]
  },
  {
   "cell_type": "code",
   "execution_count": null,
   "metadata": {
    "collapsed": true
   },
   "outputs": [],
   "source": []
  },
  {
   "cell_type": "code",
   "execution_count": 80,
   "metadata": {
    "collapsed": true
   },
   "outputs": [],
   "source": [
    "graph = {}\n",
    "for k in data.keys():\n",
    "    graph[k] = {}\n",
    "    graph[k]['pos'] = data[k]['pos']\n",
    "    graph[k]['edges'] = edges[k]"
   ]
  },
  {
   "cell_type": "code",
   "execution_count": 83,
   "metadata": {
    "collapsed": false
   },
   "outputs": [],
   "source": [
    "pickle.dump(graph, open('ebola_graph.pkl', 'wb'))"
   ]
  },
  {
   "cell_type": "code",
   "execution_count": null,
   "metadata": {
    "collapsed": true
   },
   "outputs": [],
   "source": []
  },
  {
   "cell_type": "markdown",
   "metadata": {
    "collapsed": true
   },
   "source": [
    "## old code"
   ]
  },
  {
   "cell_type": "code",
   "execution_count": null,
   "metadata": {
    "collapsed": false,
    "scrolled": true
   },
   "outputs": [],
   "source": [
    "min_year, min_wk = min(dates)\n",
    "for country in data.keys():\n",
    "    for loc in data[country].keys():\n",
    "        for epiwk in tuple(data[country][loc].keys()):\n",
    "            year, wk = epiwk\n",
    "            wk_adj = (year-min_year)*52 + wk\n",
    "            data[country][loc][wk_adj] = data[country][loc].pop(epiwk)\n",
    "            \n",
    "# for date in tuple(cases.keys()):\n",
    "#     year, wk = date\n",
    "#     wk_adj = (year-min_year)*52 + wk\n",
    "#     cases[wk_adj] = cases.pop(date)"
   ]
  },
  {
   "cell_type": "code",
   "execution_count": null,
   "metadata": {
    "collapsed": false
   },
   "outputs": [],
   "source": [
    "max_year, max_wk = max(dates)\n",
    "wk_adj = (max_year-min_year)*52 + max_wk\n",
    "for t in range(1,123):\n",
    "    for country in data.keys():\n",
    "        for loc in data[country].keys():\n",
    "            if t not in data[country][loc].keys():\n",
    "                if t == 1:\n",
    "                    data[country][loc][t] = 0\n",
    "                else:\n",
    "                    data[country][loc][t] = data[country][loc][t-1]"
   ]
  },
  {
   "cell_type": "code",
   "execution_count": null,
   "metadata": {
    "collapsed": false
   },
   "outputs": [],
   "source": [
    "num_cases = {}\n",
    "\n",
    "for country in data.keys():\n",
    "    for loc in data[country].keys():\n",
    "        for key in data[country][loc].keys():\n",
    "            if key == 'pos':\n",
    "                continue\n",
    "            \n",
    "            num_cases.setdefault(key, 0)\n",
    "            num_cases[key] += data[country][loc][key]\n",
    "            \n",
    "total_cases = sum(num_cases.values())"
   ]
  },
  {
   "cell_type": "code",
   "execution_count": null,
   "metadata": {
    "collapsed": false
   },
   "outputs": [],
   "source": [
    "origin_lon = 0\n",
    "origin_lat = 0\n",
    "geolocator = Nominatim()\n",
    "for country in data.keys():\n",
    "    for loc in data[country].keys():\n",
    "        query = loc + ', ' + country\n",
    "        pos = geolocator.geocode(query)\n",
    "        x = (pos.longitude-origin_lon)*40000*math.cos((origin_lat+pos.latitude)*math.pi/360)/360\n",
    "        y = (pos.latitude-origin_lat)*40000/360\n",
    "        \n",
    "        data[country][loc]['pos'] = (x,y)\n",
    "        "
   ]
  },
  {
   "cell_type": "code",
   "execution_count": null,
   "metadata": {
    "collapsed": true
   },
   "outputs": [],
   "source": [
    "edges = {}\n",
    "for country in data.keys():\n",
    "    for loc in data[country].keys():\n",
    "        pos = data[country][loc]['pos']\n",
    "        dists = [np.linalg.norm(np.asarray(pos) - np.asarray(other)) for ]"
   ]
  },
  {
   "cell_type": "code",
   "execution_count": null,
   "metadata": {
    "collapsed": true
   },
   "outputs": [],
   "source": [
    "# pickle.dump(data, open('ebola_data.pkl', 'wb'))"
   ]
  },
  {
   "cell_type": "code",
   "execution_count": null,
   "metadata": {
    "collapsed": false
   },
   "outputs": [],
   "source": [
    "for country in data.keys():\n",
    "    print(country)\n",
    "    print(data[country].keys())\n",
    "    print()"
   ]
  },
  {
   "cell_type": "code",
   "execution_count": null,
   "metadata": {
    "collapsed": false
   },
   "outputs": [],
   "source": [
    "plt_ctry = 'sierra leone'\n",
    "plt_loc = 'western area urban'\n",
    "sub_data = data[plt_ctry][plt_loc]\n",
    "x = [key for key in sub_data.keys() if key != 'pos']\n",
    "y = [sub_data[key] for key in sub_data.keys() if key != 'pos']\n",
    "\n",
    "plt.plot(x,y,marker='o')\n"
   ]
  },
  {
   "cell_type": "code",
   "execution_count": null,
   "metadata": {
    "collapsed": true
   },
   "outputs": [],
   "source": []
  },
  {
   "cell_type": "code",
   "execution_count": null,
   "metadata": {
    "collapsed": false,
    "scrolled": false
   },
   "outputs": [],
   "source": [
    "scalex = 1\n",
    "scaley = 1\n",
    "scalec = 60\n",
    "#x_orig = -1600\n",
    "#y_orig = 500\n",
    "x_orig = 0\n",
    "y_orig = 0\n",
    "ub = 123\n",
    "\n",
    "for wk in range(1,ub):\n",
    "    \n",
    "    plt.figure(figsize=(10,10))\n",
    "    plt.axis('off')\n",
    "\n",
    "    for country in data.keys(): \n",
    "        xpt = []\n",
    "        ypt = []\n",
    "        color = []\n",
    "        \n",
    "        if country == 'sierra leone':\n",
    "            mrkr = 'o'\n",
    "        elif country == 'guinea':\n",
    "            mrkr = '^'\n",
    "        elif country == 'liberia':\n",
    "            mrkr = 'x'            \n",
    "    \n",
    "        for loc in data[country].keys():\n",
    "            if wk in data[country][loc].keys():\n",
    "                x,y = data[country][loc]['pos']\n",
    "                val = data[country][loc][wk]\n",
    "                plot_val = scalec*float(val)/max([1,float(total_cases)])\n",
    "                xpt.append(scalex*(x - x_orig))\n",
    "                ypt.append(scaley*(y - y_orig))\n",
    "                color.append(plot_val)\n",
    "                \n",
    "        plt.scatter(xpt, ypt, c=color, cmap='gnuplot', marker=mrkr, vmin=0, vmax=1)\n",
    "        \n",
    "    fn = os.getcwd() + '/tmp/' + 'img%s' %str(wk).zfill(3)\n",
    "    plt.savefig(fn,dpi=300,bbox_inches='tight')\n",
    "    plt.close()\n",
    "    "
   ]
  },
  {
   "cell_type": "code",
   "execution_count": null,
   "metadata": {
    "collapsed": false,
    "scrolled": false
   },
   "outputs": [],
   "source": [
    "for t in range(10):\n",
    "    wk = ub-1\n",
    "    plt.figure(figsize=(10,10))\n",
    "    plt.axis('off')\n",
    "\n",
    "    for country in data.keys(): \n",
    "        xpt = []\n",
    "        ypt = []\n",
    "        color = []\n",
    "        \n",
    "        if country == 'sierra leone':\n",
    "            mrkr = 'o'\n",
    "        elif country == 'guinea':\n",
    "            mrkr = '^'\n",
    "        elif country == 'liberia':\n",
    "            mrkr = 'x'            \n",
    "    \n",
    "        for loc in data[country].keys():\n",
    "            if wk in data[country][loc].keys():\n",
    "                x,y = data[country][loc]['pos']\n",
    "                val = data[country][loc][wk]\n",
    "                plot_val = scalec*float(val)/max([1,float(total_cases)])\n",
    "                xpt.append(scalex*(x - x_orig))\n",
    "                ypt.append(scaley*(y - y_orig))\n",
    "                color.append(plot_val)\n",
    "                \n",
    "        plt.scatter(xpt, ypt, c=color, cmap='gnuplot', marker=mrkr, vmin=0, vmax=1)\n",
    "        \n",
    "    fn = os.getcwd() + '/tmp/' + 'img%s' %str(wk+t+1).zfill(3)\n",
    "    plt.savefig(fn,dpi=300,bbox_inches='tight')\n",
    "    plt.close()"
   ]
  },
  {
   "cell_type": "code",
   "execution_count": null,
   "metadata": {
    "collapsed": true
   },
   "outputs": [],
   "source": []
  },
  {
   "cell_type": "code",
   "execution_count": null,
   "metadata": {
    "collapsed": true
   },
   "outputs": [],
   "source": []
  }
 ],
 "metadata": {
  "kernelspec": {
   "display_name": "Python 3",
   "language": "python",
   "name": "python3"
  },
  "language_info": {
   "codemirror_mode": {
    "name": "ipython",
    "version": 3
   },
   "file_extension": ".py",
   "mimetype": "text/x-python",
   "name": "python",
   "nbconvert_exporter": "python",
   "pygments_lexer": "ipython3",
   "version": "3.5.2"
  }
 },
 "nbformat": 4,
 "nbformat_minor": 0
}
