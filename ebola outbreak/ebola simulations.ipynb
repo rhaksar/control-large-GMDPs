{
 "cells": [
  {
   "cell_type": "markdown",
   "metadata": {},
   "source": [
    "### setup"
   ]
  },
  {
   "cell_type": "code",
   "execution_count": 1,
   "metadata": {
    "collapsed": false
   },
   "outputs": [],
   "source": [
    "from cvxpy import *\n",
    "from datetime import datetime\n",
    "from EbolaSimulator import*\n",
    "import numpy as np\n",
    "import matplotlib.pyplot as plt\n",
    "import os\n",
    "import pickle\n",
    "import time\n",
    "\n",
    "%matplotlib inline\n",
    "\n",
    "%load_ext autoreload\n",
    "%autoreload 2"
   ]
  },
  {
   "cell_type": "code",
   "execution_count": null,
   "metadata": {
    "collapsed": true
   },
   "outputs": [],
   "source": []
  },
  {
   "cell_type": "markdown",
   "metadata": {},
   "source": [
    "### load graph model from file"
   ]
  },
  {
   "cell_type": "code",
   "execution_count": 2,
   "metadata": {
    "collapsed": true
   },
   "outputs": [],
   "source": [
    "graph = pickle.load(open(os.getcwd()+'/ebola_graph.pkl' ,'rb'))"
   ]
  },
  {
   "cell_type": "code",
   "execution_count": null,
   "metadata": {
    "collapsed": true
   },
   "outputs": [],
   "source": []
  },
  {
   "cell_type": "markdown",
   "metadata": {},
   "source": [
    "### run simulations"
   ]
  },
  {
   "cell_type": "code",
   "execution_count": 103,
   "metadata": {
    "collapsed": true
   },
   "outputs": [],
   "source": [
    "# simulation parameters\n",
    "# alpha = 0.7\n",
    "# eta = 0\n",
    "# eta = 0.10\n",
    "# alpha = 1/1.17\n",
    "# beta = 1\n",
    "# eta = 0\n",
    "\n",
    "alpha = 0.14\n",
    "beta = (1/1.17)*0.15\n",
    "parameters = {}\n",
    "parameters['alpha'] = alpha\n",
    "parameters['beta'] = beta\n",
    "# parameters['eta'] = eta\n",
    "\n",
    "init = {}\n",
    "init[('guinea','gueckedou')] = 1\n",
    "\n",
    "plot_data = {}"
   ]
  },
  {
   "cell_type": "code",
   "execution_count": 42,
   "metadata": {
    "collapsed": false
   },
   "outputs": [
    {
     "name": "stdout",
     "output_type": "stream",
     "text": [
      "mean infection time: 45.24\n",
      "median infection time: 44.50\n"
     ]
    },
    {
     "data": {
      "image/png": "[encoded data removed]",
      "text/plain": [
       "<Figure size 600x400 with 1 Axes>"
      ]
     },
     "metadata": {},
     "output_type": "display_data"
    }
   ],
   "source": [
    "sim = EbolaSimulator(graph, init, parameters, rng=1)\n",
    "for k in sim.states.keys():\n",
    "    plot_data[k] = []\n",
    "    plot_data[k].append(sim.states[k]['value'])\n",
    "    \n",
    "trigger_data = 55\n",
    "    \n",
    "while not sim.end:\n",
    "    action = []\n",
    "    if sim.iter > trigger_data:\n",
    "        for k in graph.keys():\n",
    "            action.append(k)\n",
    "        \n",
    "    sim.step(action)\n",
    "    for k in sim.states.keys():\n",
    "        plot_data[k].append(sim.states[k]['value'])\n",
    "    \n",
    "#for k in sorted(sim.states.keys()):\n",
    "#    print('%03d : %s %s' %(sim.states[k]['value'],k,sim.states[k]['status']))\n",
    "\n",
    "dt = [sim.states[k]['value'] for k in sim.states.keys()]\n",
    "print('mean infection time: %0.2f' %np.mean(dt))\n",
    "print('median infection time: %0.2f' %np.median(dt))\n",
    "\n",
    "_ = plt.boxplot(dt, showmeans=True)"
   ]
  },
  {
   "cell_type": "code",
   "execution_count": 41,
   "metadata": {
    "collapsed": false
   },
   "outputs": [
    {
     "data": {
      "text/plain": [
       "[<matplotlib.lines.Line2D at 0x7fbafc89b780>]"
      ]
     },
     "execution_count": 41,
     "metadata": {},
     "output_type": "execute_result"
    },
    {
     "data": {
      "image/png": "[encoded data removed]",
      "text/plain": [
       "<Figure size 600x400 with 1 Axes>"
      ]
     },
     "metadata": {},
     "output_type": "display_data"
    }
   ],
   "source": [
    "k = ('liberia','montserrado')\n",
    "k = ('guinea','gueckedou')\n",
    "t = [t for t in range(len(plot_data[k]))]\n",
    "v = [0.0001*el for el in plot_data[k]]\n",
    "plt.plot(t, v)"
   ]
  },
  {
   "cell_type": "code",
   "execution_count": null,
   "metadata": {
    "collapsed": true
   },
   "outputs": [],
   "source": []
  },
  {
   "cell_type": "markdown",
   "metadata": {},
   "source": [
    "check statistics for simulation run many times"
   ]
  },
  {
   "cell_type": "code",
   "execution_count": 4,
   "metadata": {
    "collapsed": false
   },
   "outputs": [
    {
     "name": "stdout",
     "output_type": "stream",
     "text": [
      "[2018-03-20 08:16:23] start\n",
      "[2018-03-20 08:16:35] finish\n",
      "11.33s = 0.19m elapsed\n"
     ]
    }
   ],
   "source": [
    "st = datetime.today().strftime('%Y-%m-%d %H:%M:%S')\n",
    "print('[%s] start' % st)\n",
    "\n",
    "tic = time.clock()\n",
    "dt_data = []\n",
    "for s in range(1000):\n",
    "    sim = EbolaSimulator(graph, init, parameters, rng=s+1000)\n",
    "\n",
    "    while not sim.end:\n",
    "        action = []\n",
    "        #if sim.iter > trigger_data:\n",
    "        #    for k in graph.keys():\n",
    "        #        action.append(k)\n",
    "\n",
    "        sim.step(action)\n",
    "        \n",
    "    dt = [sim.states[k]['value'] for k in sim.states.keys()]\n",
    "    dt_data.append(np.mean(dt))\n",
    "\n",
    "\n",
    "st = datetime.today().strftime('%Y-%m-%d %H:%M:%S')\n",
    "print('[%s] finish' % st)\n",
    "\n",
    "toc = time.clock()\n",
    "print(\"%0.2fs = %0.2fm elapsed\" % (toc-tic,(toc-tic)/60))"
   ]
  },
  {
   "cell_type": "code",
   "execution_count": 5,
   "metadata": {
    "collapsed": false
   },
   "outputs": [
    {
     "name": "stdout",
     "output_type": "stream",
     "text": [
      "median dT over 1000 trials: 105.10\n"
     ]
    }
   ],
   "source": [
    "print('median dT over %d trials: %0.2f' %(len(dt_data),np.median(dt_data)))"
   ]
  },
  {
   "cell_type": "code",
   "execution_count": null,
   "metadata": {
    "collapsed": true
   },
   "outputs": [],
   "source": []
  },
  {
   "cell_type": "code",
   "execution_count": null,
   "metadata": {
    "collapsed": true
   },
   "outputs": [],
   "source": []
  },
  {
   "cell_type": "markdown",
   "metadata": {},
   "source": [
    "### method parameters"
   ]
  },
  {
   "cell_type": "code",
   "execution_count": 110,
   "metadata": {
    "collapsed": true
   },
   "outputs": [],
   "source": [
    "gamma = 0.9\n",
    "deg = 4\n",
    "capacity = 3\n",
    "trigger_methods = 1\n",
    "\n",
    "alpha = 0.14\n",
    "beta = 0.12 # (1/1.17)*0.15\n",
    "parameters = {}\n",
    "parameters['alpha'] = alpha\n",
    "parameters['beta'] = beta\n",
    "\n",
    "init = {}\n",
    "init[('guinea','gueckedou')] = 1\n",
    "init[('sierra leone', 'kailahun')] = 1\n",
    "init[('liberia','lofa')] = 1"
   ]
  },
  {
   "cell_type": "code",
   "execution_count": null,
   "metadata": {},
   "outputs": [],
   "source": []
  },
  {
   "cell_type": "markdown",
   "metadata": {},
   "source": [
    "### approximate value function methods"
   ]
  },
  {
   "cell_type": "markdown",
   "metadata": {},
   "source": [
    "basis functions: $w_{0} + w_{1}\\textbf{1}_{S}(x_{e}^{t}) + w_{2}\\textbf{1}_{S}(x_{i}^{t})\\sum_{j\\in N(i)}\\textbf{1}_{E}(x_{j}^{t}) + w_{3}\\textbf{1}_{E}(x_{i}^{t})$\n",
    "\n",
    "reward: $r_{i} = \\textbf{1}_{S}(x_{i}^{t+1})(1-\\alpha e_{i}^{t+1}) + \\sigma\\textbf{1}_{E}(x_{i}^{t+1})$"
   ]
  },
  {
   "cell_type": "code",
   "execution_count": null,
   "metadata": {},
   "outputs": [],
   "source": [
    "sigma = -1"
   ]
  },
  {
   "cell_type": "code",
   "execution_count": 4,
   "metadata": {
    "collapsed": false
   },
   "outputs": [
    {
     "name": "stdout",
     "output_type": "stream",
     "text": [
      "number of constraints: 232\n"
     ]
    }
   ],
   "source": [
    "phi = Variable()\n",
    "w = Variable(4)\n",
    "objective = Minimize(phi)\n",
    "constraints = []\n",
    "\n",
    "for i in [0,1,2]:\n",
    "    if i == 0:\n",
    "        \n",
    "        for vi in range(deg+1):\n",
    "            for ei in range(deg+1-vi):\n",
    "                \n",
    "                for ej_sum in range((deg-1)*vi+1):\n",
    "                    for a in range(ei+1):\n",
    "                        if a == 0:\n",
    "                            constraints += [phi >= w[0] + w[1] + w[2]*ei - \n",
    "                                            (1-alpha*ei)*(1-alpha*(alpha*ej_sum+ei-beta*a)) - (sigma*alpha*ei) -\n",
    "                                            gamma*w[0]-gamma*w[1]*(1-alpha*ei) - \n",
    "                                            gamma*w[2]*(1-alpha*ei)*(alpha*ej_sum+ei-beta*a) - \n",
    "                                            gamma*w[3]*alpha*ei]\n",
    "                    \n",
    "                        constraints += [phi >= -w[0] - w[1] - w[2]*ei + \n",
    "                                        (1-alpha*ei)*(1-alpha*(alpha*ej_sum+ei-beta*a)) + (sigma*alpha*ei) +\n",
    "                                        gamma*w[0]-gamma*w[1]*(1-alpha*ei) +\n",
    "                                        gamma*w[2]*(1-alpha*ei)*(alpha*ej_sum+ei-beta*a) +\n",
    "                                        gamma*w[3]*alpha*ei]\n",
    "\n",
    "    elif i == 1:\n",
    "        \n",
    "        for ei in range(deg+1):\n",
    "            for a in [0,1]:\n",
    "\n",
    "                if a == 0:\n",
    "                    constraints += [phi >= w[0] + w[3] -\n",
    "                                    (sigma*(1-beta*a)) - gamma*w[0] - gamma*w[3]*(1-beta*a)]\n",
    "                    \n",
    "                constraints += [phi >= -w[0] - w[3] +\n",
    "                                (sigma*(1-beta*a)) + gamma*w[0] + gamma*w[3]*(1-beta*a)]\n",
    "                \n",
    "    elif i == 2:\n",
    "        constraints += [phi >=  w[0] - gamma*w[0]]\n",
    "        constraints += [phi >= -w[0] + gamma*w[0]]\n",
    "\n",
    "\n",
    "problem = Problem(objective, constraints)\n",
    "print('number of constraints: %d' %len(constraints))"
   ]
  },
  {
   "cell_type": "code",
   "execution_count": 5,
   "metadata": {
    "collapsed": false
   },
   "outputs": [
    {
     "name": "stdout",
     "output_type": "stream",
     "text": [
      "problem status: optimal\n",
      "error: 0.3436\n",
      "weight(s): \n",
      "[[-3.43603059]\n",
      " [ 0.52631579]\n",
      " [-0.83022057]\n",
      " [-3.12793881]]\n"
     ]
    }
   ],
   "source": [
    "result = problem.solve()\n",
    "print('problem status: %s' %problem.status)\n",
    "print('error: %0.4f' %problem.value)\n",
    "print('weight(s): ')\n",
    "print(w.value)"
   ]
  },
  {
   "cell_type": "code",
   "execution_count": 6,
   "metadata": {
    "collapsed": true
   },
   "outputs": [],
   "source": [
    "def vw(states, graph, capacity, weights, alpha, beta, gamma, sigma):\n",
    "    control = []\n",
    "    for k in states.keys():\n",
    "        if states[k]['status'] == 'infected':\n",
    "            ni = 0\n",
    "            for el in graph[k]['edges']:\n",
    "                if states[el]['status'] == 'susceptible':\n",
    "                    nj = 0\n",
    "                    for ek in graph[el]['edges']:\n",
    "                        if states[ek]['status'] == 'infected':\n",
    "                            nj += 1\n",
    "                    ni += (1-alpha*nj)\n",
    "            \n",
    "            value = (alpha + gamma*weights[2])*beta*ni - (sigma + gamma*weights[3])*beta\n",
    "            control.append((value,k))\n",
    "            \n",
    "    control = sorted(control, key=lambda tup: tup[0], reverse=True)[:capacity]\n",
    "    control = [el[1] for el in control]\n",
    "            \n",
    "    return control\n"
   ]
  },
  {
   "cell_type": "code",
   "execution_count": 7,
   "metadata": {
    "collapsed": false
   },
   "outputs": [
    {
     "name": "stdout",
     "output_type": "stream",
     "text": [
      "min infection time: 1.00\n",
      "median infection time: 51.00\n",
      "max infection time: 114.00\n"
     ]
    },
    {
     "data": {
      "text/plain": [
       "{'boxes': [<matplotlib.lines.Line2D at 0x7fd9de14f320>],\n",
       " 'caps': [<matplotlib.lines.Line2D at 0x7fd9de14fd30>,\n",
       "  <matplotlib.lines.Line2D at 0x7fd9de161198>],\n",
       " 'fliers': [<matplotlib.lines.Line2D at 0x7fd9de1619e8>],\n",
       " 'means': [],\n",
       " 'medians': [<matplotlib.lines.Line2D at 0x7fd9de1615c0>],\n",
       " 'whiskers': [<matplotlib.lines.Line2D at 0x7fd9de14f470>,\n",
       "  <matplotlib.lines.Line2D at 0x7fd9de14f908>]}"
      ]
     },
     "execution_count": 7,
     "metadata": {},
     "output_type": "execute_result"
    },
    {
     "data": {
      "image/png": "[encoded data removed]",
      "text/plain": [
       "<Figure size 432x288 with 1 Axes>"
      ]
     },
     "metadata": {},
     "output_type": "display_data"
    }
   ],
   "source": [
    "# weights_vw = [-4.91, 1.22, -0.28, -0.17]\n",
    "weights_vw = [-3.43, 0.526, -0.83, -3.12]\n",
    "\n",
    "init = {}\n",
    "init[('guinea','gueckedou')] = 1\n",
    "\n",
    "sim = EbolaSimulator(graph, init, parameters, rng=1)\n",
    "\n",
    "while not sim.end:\n",
    "    action = []\n",
    "    if sim.iter > trigger_methods:\n",
    "        action = vw(sim.states, graph, capacity, weights_vw, alpha, beta, gamma, sigma)\n",
    "        \n",
    "    sim.step(action)\n",
    "    \n",
    "dt = [sim.states[k]['value'] for k in sim.states.keys()]\n",
    "print('min infection time: %0.2f' %np.amin(dt))\n",
    "print('median infection time: %0.2f' %np.median(dt))\n",
    "print('max infection time: %0.2f' %np.amax(dt))\n",
    "\n",
    "plt.boxplot(dt)"
   ]
  },
  {
   "cell_type": "code",
   "execution_count": null,
   "metadata": {
    "collapsed": true
   },
   "outputs": [],
   "source": []
  },
  {
   "cell_type": "markdown",
   "metadata": {},
   "source": [
    "benchmark vw method"
   ]
  },
  {
   "cell_type": "code",
   "execution_count": 8,
   "metadata": {
    "collapsed": false
   },
   "outputs": [
    {
     "name": "stdout",
     "output_type": "stream",
     "text": [
      "[2018-03-18 13:58:18] start\n",
      "[2018-03-18 13:58:41] finish\n",
      "23.81s = 0.40m elapsed\n"
     ]
    }
   ],
   "source": [
    "st = datetime.today().strftime('%Y-%m-%d %H:%M:%S')\n",
    "print('[%s] start' % st)\n",
    "\n",
    "tic = time.clock()\n",
    "dt_vw = []\n",
    "for s in range(1000):\n",
    "    sim = EbolaSimulator(graph, init, parameters, rng=s+1000)\n",
    "\n",
    "    while not sim.end:\n",
    "        action = []\n",
    "        if sim.iter > trigger_methods:\n",
    "            action = vw(sim.states, graph, capacity, weights_vw, alpha, beta, gamma, sigma)\n",
    "\n",
    "        sim.step(action)\n",
    "        \n",
    "    dt = [sim.states[k]['value'] for k in sim.states.keys()]\n",
    "    dt_vw.append(np.median(dt))\n",
    "\n",
    "st = datetime.today().strftime('%Y-%m-%d %H:%M:%S')\n",
    "print('[%s] finish' % st)\n",
    "\n",
    "toc = time.clock()\n",
    "print(\"%0.2fs = %0.2fm elapsed\" % (toc-tic,(toc-tic)/60))"
   ]
  },
  {
   "cell_type": "code",
   "execution_count": 9,
   "metadata": {
    "collapsed": false
   },
   "outputs": [
    {
     "name": "stdout",
     "output_type": "stream",
     "text": [
      "min: 0.00\n",
      "median: 69.00\n",
      "max: 100.50\n"
     ]
    },
    {
     "data": {
      "image/png": "[encoded data removed]",
      "text/plain": [
       "<Figure size 432x288 with 1 Axes>"
      ]
     },
     "metadata": {},
     "output_type": "display_data"
    }
   ],
   "source": [
    "plt.boxplot(dt_vw)\n",
    "\n",
    "print('min: %0.2f' %np.amin(dt_vw))\n",
    "print('median: %0.2f' %np.median(dt_vw))\n",
    "print('max: %0.2f' %np.amax(dt_vw))"
   ]
  },
  {
   "cell_type": "code",
   "execution_count": null,
   "metadata": {
    "collapsed": true
   },
   "outputs": [],
   "source": []
  },
  {
   "cell_type": "code",
   "execution_count": null,
   "metadata": {
    "collapsed": true
   },
   "outputs": [],
   "source": []
  },
  {
   "cell_type": "markdown",
   "metadata": {},
   "source": [
    "### approximate Q function methods"
   ]
  },
  {
   "cell_type": "markdown",
   "metadata": {},
   "source": [
    "basis function: $w_{0} + w_{1}\\textbf{1}_{S}(x_{i}^{t}) + w_{2}\\textbf{1}_{E}(x_{i}^{t}) + a_{i}^{t}w_{3}\\textbf{1}_{E}(x_{i}^{t})\\sum_{j\\in N(i)} \\textbf{1}_{S}(x_{j}^{t})$\n",
    "\n",
    "reward: $r_{i} = \\textbf{1}_{S}(x_{i}^{t+1})(1-\\alpha e_{i}^{t+1}) + \\sigma\\textbf{1}_{E}(x_{i}^{t+1})$"
   ]
  },
  {
   "cell_type": "code",
   "execution_count": 79,
   "metadata": {
    "collapsed": false
   },
   "outputs": [
    {
     "name": "stdout",
     "output_type": "stream",
     "text": [
      "number of constraints: 28508\n"
     ]
    }
   ],
   "source": [
    "phi = Variable()\n",
    "w = Variable(4)\n",
    "objective = Minimize(phi)\n",
    "constraints = []\n",
    "\n",
    "for i in [0,1,2]:\n",
    "    if i == 0:\n",
    "        \n",
    "        for vi in range(deg+1):\n",
    "            for ei in range(deg+1-vi):\n",
    "                for ej_sum in range((deg-1)*vi+1):\n",
    "                    for aj in range(ei+1):\n",
    "                        \n",
    "                        constraints += [phi >= w[0]+w[1] -\n",
    "                                        (1-alpha*ei)*(1-alpha*(alpha*ej_sum+ei-beta*aj)) - (sigma*alpha*ei) -\n",
    "                                        gamma*w[0] - gamma*w[1]*(1-alpha*ei) - gamma*w[2]*alpha*ei]\n",
    "\n",
    "                        constraints += [phi >= -w[0]-w[1] +\n",
    "                                        (1-alpha*ei)*(1-alpha*(alpha*ej_sum+ei-beta*aj)) + (sigma*alpha*ei) +\n",
    "                                        gamma*w[0] + gamma*w[1]*(1-alpha*ei) + gamma*w[2]*alpha*ei]\n",
    "\n",
    "                        constraints += [phi >= -w[0]-w[1] +\n",
    "                                        (1-alpha*ei)*(1-alpha*(alpha*ej_sum+ei-beta*aj)) + (sigma*alpha*ei) +\n",
    "                                        gamma*w[0] + gamma*w[1]*(1-alpha*ei) + gamma*w[2]*alpha*ei]\n",
    "\n",
    "    elif i == 1:\n",
    "        \n",
    "        for ai in [0,1]:\n",
    "            for vi in range(deg+1):\n",
    "                for k in range(2**(vi*(deg-1))):\n",
    "                    xk = np.base_repr(k, base=2).zfill(deg*(deg-1))\n",
    "                    \n",
    "                    smallsum = 0\n",
    "                    bigsum = 0\n",
    "                    for j in range(vi):\n",
    "                        ej = xk[(deg-1)*j:(deg-1)*(j+1)].count('1')\n",
    "                        smallsum += (1-alpha*ej)\n",
    "                        \n",
    "                        for idx in range(deg-1):\n",
    "                            if xk[(deg-1)*j+idx] == '0':\n",
    "                                for ek in range(deg+1):\n",
    "                                    bigsum += (1-alpha*ej)*(1-alpha*(1-alpha*ek))\n",
    "                            else:\n",
    "                                for ak in [0,1]:\n",
    "                                    bigsum += (1-alpha*ej)*(1-alpha*(1-beta*ak))\n",
    "                                    \n",
    "                    constraints += [phi >= w[0]+w[2]+w[3]*ai*smallsum -\n",
    "                                    (sigma*(1-beta*ai)) -\n",
    "                                    gamma*w[0] - gamma*w[2]*(1-beta*ai)]\n",
    "\n",
    "                    constraints += [phi >= -w[0]-w[2]-w[3]*ai*smallsum +\n",
    "                                    (sigma*(1-beta*ai)) +\n",
    "                                    gamma*w[0] + gamma*w[2]*(1-beta*ai)]\n",
    "\n",
    "                    constraints += [phi >= -w[0]-w[2]-w[3]*ai*smallsum +\n",
    "                                    (sigma*(1-beta*ai)) +\n",
    "                                    gamma*w[0] + gamma*w[2]*(1-beta*ai) + \n",
    "                                    gamma*w[3]*(1-beta*ai)*bigsum] #(alpha*ej_sum)\n",
    "\n",
    "    elif i == 2:\n",
    "        constraints += [phi >=  w[0] - gamma*w[0]]\n",
    "        constraints += [phi >= -w[0] + gamma*w[0]]\n",
    "\n",
    "\n",
    "problem = Problem(objective, constraints)\n",
    "print('number of constraints: %d' %len(constraints))"
   ]
  },
  {
   "cell_type": "code",
   "execution_count": 80,
   "metadata": {
    "collapsed": false
   },
   "outputs": [
    {
     "name": "stdout",
     "output_type": "stream",
     "text": [
      "problem status: optimal\n",
      "error: 0.9475\n",
      "weight(s): \n",
      "[[ 3.94199017]\n",
      " [-3.41748686]\n",
      " [-4.46649348]\n",
      " [-0.07707997]]\n"
     ]
    }
   ],
   "source": [
    "result = problem.solve()\n",
    "print('problem status: %s' %problem.status)\n",
    "print('error: %0.4f' %problem.value)\n",
    "print('weight(s): ')\n",
    "print(w.value)"
   ]
  },
  {
   "cell_type": "code",
   "execution_count": null,
   "metadata": {
    "collapsed": true
   },
   "outputs": [],
   "source": []
  },
  {
   "cell_type": "markdown",
   "metadata": {},
   "source": [
    "basis function: $w_{0} + w_{1}\\textbf{1}_{S}(x_{i}^{t}) + w_{2}\\textbf{1}_{E}(x_{i}^{t}) + a_{i}^{t}w_{3}\\textbf{1}_{E}(x_{i}^{t})\\sum_{j\\in N(i)} \\textbf{1}_{S}(x_{j}^{t})$\n",
    "\n",
    "reward: $r_{i} = \\textbf{1}_{S}(x_{i}^{t}) - \\textbf{1}_{E}(x_{i}^{t})$"
   ]
  },
  {
   "cell_type": "code",
   "execution_count": 81,
   "metadata": {
    "collapsed": false,
    "scrolled": false
   },
   "outputs": [
    {
     "name": "stdout",
     "output_type": "stream",
     "text": [
      "number of constraints: 252\n"
     ]
    }
   ],
   "source": [
    "phi = Variable()\n",
    "w = Variable(4)\n",
    "objective = Minimize(phi)\n",
    "constraints = []\n",
    "\n",
    "for i in [0,1,2]:\n",
    "    \n",
    "    if i == 0:\n",
    "        for ei in range(deg+1):\n",
    "            constraints += [phi >=  w[0] + w[1] -\n",
    "                            1 -\n",
    "                            gamma*w[0] - gamma*w[1]*(1-alpha*ei) - gamma*w[2]*alpha*ei]\n",
    "            \n",
    "            constraints += [phi >= -w[0] - w[1] +\n",
    "                            1 +\n",
    "                            gamma*w[0] + gamma*w[1]*(1-alpha*ei) + gamma*w[2]*alpha*ei]\n",
    "            \n",
    "            for ai in [0,1]:\n",
    "                for si in range(deg+1-ei):\n",
    "                    for ej_sum in range((deg-1)*si+1):\n",
    "                        constraints += [phi >= -w[0] - w[1] +\n",
    "                                        1 + gamma*w[0] + gamma*w[1]*(1-alpha*ei) + gamma*w[2]*alpha*ei + \n",
    "                                        gamma*w[2]*(1-beta*ai) + \n",
    "                                        gamma*w[3]*(alpha*ei)*(si - alpha*ej_sum)]\n",
    "                        \n",
    "    if i == 1:\n",
    "        for ai in [0,1]:\n",
    "            for si in range(deg+1):\n",
    "                constraints += [phi >=  w[0] + w[2] + 0*w[3]*si - \n",
    "                                (-1) - \n",
    "                                gamma*w[0] - gamma*w[2]*(1-beta*ai)]\n",
    "\n",
    "                constraints += [phi >= -w[0] - w[2] - 0*w[3]*si +\n",
    "                                (-1) +\n",
    "                                gamma*w[0] + gamma*w[2]*(1-beta*ai)]\n",
    "\n",
    "                #for si in range(deg+1-ei):\n",
    "                for ej_sum in range((deg-1)*si+1):\n",
    "                    constraints += [phi >= -w[0] - w[2] - ai*w[3]*si +\n",
    "                                    (-1) +\n",
    "                                    gamma*w[0] + gamma*w[2]*(1-beta*ai) + \n",
    "                                    gamma*w[3]*(1-beta*ai)*(si - alpha*ej_sum)]\n",
    "                    \n",
    "    if i == 2:\n",
    "        constraints += [phi >=  w[0] - gamma*w[0]]\n",
    "        constraints += [phi >= -w[0] + gamma*w[0]]\n",
    "\n",
    "problem = Problem(objective, constraints)\n",
    "print('number of constraints: %d' %len(constraints))"
   ]
  },
  {
   "cell_type": "code",
   "execution_count": 82,
   "metadata": {
    "collapsed": false
   },
   "outputs": [
    {
     "name": "stdout",
     "output_type": "stream",
     "text": [
      "problem status: optimal\n",
      "error: 0.8344\n",
      "weight(s): \n",
      "[[-0.18958119]\n",
      " [ 1.84521033]\n",
      " [-1.46604795]\n",
      " [-0.02098958]]\n"
     ]
    }
   ],
   "source": [
    "result = problem.solve()\n",
    "print('problem status: %s' %problem.status)\n",
    "print('error: %0.4f' %problem.value)\n",
    "print('weight(s): ')\n",
    "print(w.value)"
   ]
  },
  {
   "cell_type": "code",
   "execution_count": null,
   "metadata": {},
   "outputs": [],
   "source": []
  },
  {
   "cell_type": "markdown",
   "metadata": {},
   "source": [
    "basis function: $w_{0} + w_{1}\\textbf{1}_{S}(x_{i}^{t}) + w_{2}\\textbf{1}_{E}(x_{i}^{t}) + a_{i}^{t}w_{3}\\textbf{1}_{E}(x_{i}^{t})\\sum_{j\\in N(i)} \\textbf{1}_{S}(x_{j}^{t})$\n",
    "\n",
    "reward: $r_{i} = \\textbf{1}_{S}(x_{i}^{t}) - \\textbf{1}_{E}(x_{i}^{t+1})$"
   ]
  },
  {
   "cell_type": "code",
   "execution_count": 83,
   "metadata": {
    "collapsed": true
   },
   "outputs": [
    {
     "name": "stdout",
     "output_type": "stream",
     "text": [
      "number of constraints: 177\n"
     ]
    }
   ],
   "source": [
    "phi = Variable()\n",
    "w = Variable(4)\n",
    "objective = Minimize(phi)\n",
    "constraints = []\n",
    "\n",
    "for i in [0,1,2]:\n",
    "    \n",
    "    if i == 0:\n",
    "        for ei in range(deg+1):\n",
    "            constraints += [phi >=  w[0] + w[1] -\n",
    "                            (1-alpha*ei) -\n",
    "                            gamma*w[0] - gamma*w[1]*(1-alpha*ei) - gamma*w[2]*alpha*ei]\n",
    "            \n",
    "            constraints += [phi >= -w[0] - w[1] +\n",
    "                            (1-alpha*ei) +\n",
    "                            gamma*w[0] + gamma*w[1]*(1-alpha*ei) + gamma*w[2]*alpha*ei]\n",
    "            \n",
    "            # for ai in [0,1]:\n",
    "            for si in range(deg+1-ei):\n",
    "                for ej_sum in range((deg-1)*si+1):\n",
    "                    constraints += [phi >= -w[0] - w[1] +\n",
    "                                    (1-alpha*ei) + \n",
    "                                    gamma*w[0] + gamma*w[1]*(1-alpha*ei) + gamma*w[2]*alpha*ei + \n",
    "                                    gamma*w[3]*(alpha*ei)*(si - alpha*ej_sum)]\n",
    "                        \n",
    "    if i == 1:\n",
    "        for ai in [0,1]:\n",
    "            for si in range(deg+1):\n",
    "                constraints += [phi >=  w[0] + w[2] + ai*w[3]*si - \n",
    "                                (-1+beta*ai) -\n",
    "                                gamma*w[0] - gamma*w[2]*(1-beta*ai)]\n",
    "\n",
    "                constraints += [phi >= -w[0] - w[2] - ai*w[3]*si +\n",
    "                                (-1+beta*ai) +\n",
    "                                gamma*w[0] + gamma*w[2]*(1-beta*ai)]\n",
    "\n",
    "                #for si in range(deg+1-ei):\n",
    "                for ej_sum in range((deg-1)*si+1):\n",
    "                    constraints += [phi >= -w[0] - w[2] - ai*w[3]*si +\n",
    "                                    (-1+beta*ai) + \n",
    "                                    gamma*w[0] + gamma*w[2]*(1-beta*ai) + \n",
    "                                    gamma*w[3]*(1-beta*ai)*(si - alpha*ej_sum)]\n",
    "                    \n",
    "    if i == 2:\n",
    "        constraints += [phi >=  w[0] - gamma*w[0]]\n",
    "        constraints += [phi >= -w[0] + gamma*w[0]]\n",
    "\n",
    "problem = Problem(objective, constraints)\n",
    "print('number of constraints: %d' %len(constraints))"
   ]
  },
  {
   "cell_type": "code",
   "execution_count": 84,
   "metadata": {},
   "outputs": [
    {
     "name": "stdout",
     "output_type": "stream",
     "text": [
      "problem status: optimal\n",
      "error: 0.8808\n",
      "weight(s): \n",
      "[[ 7.7847412 ]\n",
      " [-6.59268822]\n",
      " [-8.97679418]\n",
      " [ 0.23314372]]\n"
     ]
    }
   ],
   "source": [
    "result = problem.solve()\n",
    "print('problem status: %s' %problem.status)\n",
    "print('error: %0.4f' %problem.value)\n",
    "print('weight(s): ')\n",
    "print(w.value)"
   ]
  },
  {
   "cell_type": "code",
   "execution_count": null,
   "metadata": {},
   "outputs": [],
   "source": []
  },
  {
   "cell_type": "code",
   "execution_count": 97,
   "metadata": {
    "collapsed": true
   },
   "outputs": [],
   "source": [
    "def Qw(states, graph, capacity, weights, alpha, beta, gamma):\n",
    "    control = []\n",
    "    for k in states.keys():\n",
    "        if states[k]['status'] == 'infected':\n",
    "            ni = 0\n",
    "            for el in graph[k]['edges']:\n",
    "                if states[el]['status'] == 'susceptible':\n",
    "                    ni += 1\n",
    "                    #nj = 0\n",
    "                    #for ek in graph[el]['edges']:\n",
    "                    #    if states[ek]['status'] == 'infected':\n",
    "                    #        nj += 1\n",
    "                    #ni += (1-alpha*nj)\n",
    "            \n",
    "            #value = gamma*weights[3]*ni\n",
    "            value = weights[3]*ni\n",
    "            control.append((value,k))\n",
    "            \n",
    "    control = sorted(control, key=lambda tup: tup[0], reverse=True)[:capacity]\n",
    "    control = [el[1] for el in control]\n",
    "            \n",
    "    return control"
   ]
  },
  {
   "cell_type": "code",
   "execution_count": 120,
   "metadata": {
    "collapsed": false
   },
   "outputs": [
    {
     "name": "stdout",
     "output_type": "stream",
     "text": [
      "[2018-09-03 15:44:06] start\n",
      "[2018-09-03 15:44:08] completed 100 simulations\n",
      "[2018-09-03 15:44:10] completed 200 simulations\n",
      "[2018-09-03 15:44:12] completed 300 simulations\n",
      "[2018-09-03 15:44:15] completed 400 simulations\n",
      "[2018-09-03 15:44:17] completed 500 simulations\n",
      "[2018-09-03 15:44:19] completed 600 simulations\n",
      "[2018-09-03 15:44:21] completed 700 simulations\n",
      "[2018-09-03 15:44:23] completed 800 simulations\n",
      "[2018-09-03 15:44:25] completed 900 simulations\n",
      "[2018-09-03 15:44:27] completed 1000 simulations\n",
      "[2018-09-03 15:44:27] finish\n",
      "21.48s = 0.36m elapsed\n"
     ]
    }
   ],
   "source": [
    "# weights_Qw = [6.41, -5.89, -6.94, 0.0412]\n",
    "# weights_Qw = [4.44, -3.92, -4.97, -0.0773]\n",
    "# weights_Qw = [4.9276, -3.272, -6.5833, 0.3938]\n",
    "# weights_Qw = [-18.909, 8.048, -0.2295, 0.9827]\n",
    "\n",
    "weights_Qw = [0.9824708, 0.67315834, -2.63809994, 0.07975353]\n",
    "weights_Qw = [1.67473829, -0.48268531, -2.86679127, 0.26382985]\n",
    "\n",
    "st = datetime.today().strftime('%Y-%m-%d %H:%M:%S')\n",
    "print('[%s] start' % st)\n",
    "\n",
    "tic = time.clock()\n",
    "dt_Qw = []\n",
    "for s in range(1000):\n",
    "    sim = EbolaSimulator(graph, init, parameters, rng=s+1000)\n",
    "\n",
    "    while not sim.end:\n",
    "        action = []\n",
    "        if sim.iter > 0:\n",
    "            action = Qw(sim.states, graph, capacity, weights_Qw, alpha, beta, gamma)\n",
    "\n",
    "        sim.step(action)\n",
    "        \n",
    "    dt = [sim.states[k]['value'] for k in sim.states.keys()]\n",
    "    dt_Qw.append(np.median(dt))\n",
    "    if (s+1) % 100 == 0:\n",
    "        st = datetime.today().strftime('%Y-%m-%d %H:%M:%S')\n",
    "        print('[%s] completed %d simulations' %(st,s+1))\n",
    "\n",
    "st = datetime.today().strftime('%Y-%m-%d %H:%M:%S')\n",
    "print('[%s] finish' % st)\n",
    "\n",
    "toc = time.clock()\n",
    "print(\"%0.2fs = %0.2fm elapsed\" % (toc-tic,(toc-tic)/60))"
   ]
  },
  {
   "cell_type": "code",
   "execution_count": 121,
   "metadata": {
    "collapsed": false
   },
   "outputs": [
    {
     "name": "stdout",
     "output_type": "stream",
     "text": [
      "min: 0.00\n",
      "median: 36.00\n",
      "max: 125.50\n"
     ]
    },
    {
     "data": {
      "image/png": "[encoded data removed]",
      "text/plain": [
       "<Figure size 600x400 with 1 Axes>"
      ]
     },
     "metadata": {},
     "output_type": "display_data"
    }
   ],
   "source": [
    "plt.boxplot(dt_Qw)\n",
    "\n",
    "print('min: %0.2f' %np.amin(dt_Qw))\n",
    "print('median: %0.2f' %np.median(dt_Qw))\n",
    "print('max: %0.2f' %np.amax(dt_Qw))"
   ]
  },
  {
   "cell_type": "code",
   "execution_count": null,
   "metadata": {
    "collapsed": true
   },
   "outputs": [],
   "source": []
  },
  {
   "cell_type": "markdown",
   "metadata": {},
   "source": [
    "### implement and benchmark Forsell et al. basis functions"
   ]
  },
  {
   "cell_type": "code",
   "execution_count": null,
   "metadata": {},
   "outputs": [],
   "source": []
  },
  {
   "cell_type": "code",
   "execution_count": 85,
   "metadata": {
    "collapsed": false
   },
   "outputs": [
    {
     "name": "stdout",
     "output_type": "stream",
     "text": [
      "number of constraints: 232\n"
     ]
    }
   ],
   "source": [
    "phi = Variable()\n",
    "w = Variable(3)\n",
    "objective = Minimize(phi)\n",
    "constraints = []\n",
    "\n",
    "for i in [0,1,2]:\n",
    "    if i == 0:\n",
    "        \n",
    "        for vi in range(deg+1):\n",
    "            for ei in range(deg+1-vi):\n",
    "                \n",
    "                for ej_sum in range((deg-1)*vi+1):\n",
    "                    for a in range(ei+1):\n",
    "                        \n",
    "                        if a == 0:\n",
    "                            constraints += [phi >= w[0] - \n",
    "                                            (1-alpha*ei)*(1-alpha*(alpha*ej_sum+ei-beta*a)) - (sigma*alpha*ei) - \n",
    "                                            gamma*w[0]*(1-alpha*ei) - gamma*w[1]*alpha*ei]\n",
    "                        \n",
    "                        constraints += [phi >= -w[0] + \n",
    "                                        (1-alpha*ei)*(1-alpha*(alpha*ej_sum+ei-beta*a)) + (sigma*alpha*ei) +\n",
    "                                        gamma*w[0]*(1-alpha*ei) + gamma*w[1]*alpha*ei]\n",
    "                        \n",
    "    if i == 1:\n",
    "        \n",
    "        for ei in range(deg+1):\n",
    "            for a in [0,1]:\n",
    "                if a == 0:\n",
    "                    constraints += [phi >= w[1] - \n",
    "                                    (sigma*(1-beta*a)) - gamma*w[1]*(1-beta*a) - gamma*w[2]*beta*a]\n",
    "                    \n",
    "                constraints += [phi >= -w[1] + \n",
    "                                (sigma*(1-beta*a)) + gamma*w[1]*(1-beta*a) + gamma*w[2]*beta*a]\n",
    "                \n",
    "    if i == 2:\n",
    "        \n",
    "        constraints += [phi >=  w[2] - gamma*w[2]]\n",
    "        constraints += [phi >= -w[2] + gamma*w[2]]\n",
    "                \n",
    "        \n",
    "problem = Problem(objective, constraints)\n",
    "print('number of constraints: %d' %len(constraints))"
   ]
  },
  {
   "cell_type": "code",
   "execution_count": 86,
   "metadata": {
    "collapsed": false
   },
   "outputs": [
    {
     "name": "stdout",
     "output_type": "stream",
     "text": [
      "problem status: optimal\n",
      "error: 0.9475\n",
      "weight(s): \n",
      "[[ 0.52450331]\n",
      " [-0.52450331]\n",
      " [-1.06230912]]\n"
     ]
    }
   ],
   "source": [
    "result = problem.solve()\n",
    "print('problem status: %s' %problem.status)\n",
    "print('error: %0.4f' %problem.value)\n",
    "print('weight(s): ')\n",
    "print(w.value)"
   ]
  },
  {
   "cell_type": "code",
   "execution_count": null,
   "metadata": {
    "collapsed": true
   },
   "outputs": [],
   "source": []
  },
  {
   "cell_type": "markdown",
   "metadata": {},
   "source": [
    "reward $r_{i} = \\textbf{1}_{S}(x_{i}^{t}) - \\textbf{1}_{E}(x_{i}^{t})$\n",
    "\n",
    "basis $w_{0}\\textbf{1}_{S}(x_{i}^{t}) + w_{1}\\textbf{1}_{E}(x_{i}^{t}) + w_{2}\\textbf{1}_{R}(x_{i}^{t})$"
   ]
  },
  {
   "cell_type": "code",
   "execution_count": 87,
   "metadata": {
    "collapsed": false
   },
   "outputs": [
    {
     "name": "stdout",
     "output_type": "stream",
     "text": [
      "number of constraints: 32\n"
     ]
    }
   ],
   "source": [
    "phi = Variable()\n",
    "w = Variable(3)\n",
    "objective = Minimize(phi)\n",
    "constraints = []\n",
    "\n",
    "for i in [0,1,2]:\n",
    "    \n",
    "    if i == 0:\n",
    "        for ei in range(deg+1):\n",
    "            constraints += [phi >= w[0] -\n",
    "                            1 - \n",
    "                            gamma*w[0]*(1-alpha*ei) - gamma*w[1]*alpha*ei]\n",
    "            \n",
    "            constraints += [phi >= - w[0] +\n",
    "                            1 +\n",
    "                            gamma*w[0]*(1-alpha*ei) + gamma*w[1]*alpha*ei]\n",
    "            \n",
    "            \n",
    "    elif i == 1:\n",
    "        for ai in [0,1]:\n",
    "            for si in range(deg+1):\n",
    "                constraints += [phi >= w[1] -\n",
    "                                (-si) - \n",
    "                                gamma*w[1]*(1-beta*ai) - gamma*w[2]*beta*ai]\n",
    "\n",
    "                constraints += [phi >= - w[1] +\n",
    "                                (-si) +\n",
    "                                gamma*w[1]*(1-beta*ai) + gamma*w[2]*beta*ai]\n",
    "            \n",
    "    elif i == 2:\n",
    "        constraints += [phi >=  w[2] - gamma*w[2]]\n",
    "        constraints += [phi >= -w[2] + gamma*w[2]]\n",
    "    \n",
    "problem = Problem(objective, constraints)\n",
    "print('number of constraints: %d' %len(constraints))"
   ]
  },
  {
   "cell_type": "code",
   "execution_count": 88,
   "metadata": {
    "collapsed": false
   },
   "outputs": [
    {
     "name": "stdout",
     "output_type": "stream",
     "text": [
      "problem status: optimal\n",
      "error: 2.0861\n",
      "weight(s): \n",
      "[[-10.86092715]\n",
      " [-19.13907285]\n",
      " [-18.49534717]]\n"
     ]
    }
   ],
   "source": [
    "result = problem.solve()\n",
    "print('problem status: %s' %problem.status)\n",
    "print('error: %0.4f' %problem.value)\n",
    "print('weight(s): ')\n",
    "print(w.value)"
   ]
  },
  {
   "cell_type": "code",
   "execution_count": null,
   "metadata": {
    "collapsed": true
   },
   "outputs": [],
   "source": []
  },
  {
   "cell_type": "code",
   "execution_count": 89,
   "metadata": {
    "collapsed": true
   },
   "outputs": [],
   "source": [
    "def priorwork(states, graph, capacity, weights, alpha, beta, gamma, sigma):\n",
    "    control = []\n",
    "    for k in states.keys():\n",
    "        if states[k]['status'] == 'infected':\n",
    "            ni = 0\n",
    "            for el in graph[k]['edges']:\n",
    "                if states[el]['status'] == 'susceptible':\n",
    "                    nj = 0\n",
    "                    for ek in graph[el]['edges']:\n",
    "                        if states[ek]['status'] == 'infected':\n",
    "                            nj += 1\n",
    "                    ni += (1-alpha*nj)\n",
    "            \n",
    "            #value = alpha*beta*ni + (-sigma*beta - gamma*weights[1]*beta + gamma*weights[2]*beta)\n",
    "            value = -gamma*weights[1]*beta + gamma*weights[2]*beta\n",
    "            control.append((value,k))\n",
    "            \n",
    "    control = control = sorted(control, key=lambda tup: tup[0], reverse=True)[:capacity]\n",
    "    control = [el[1] for el in control]\n",
    "            \n",
    "    return control"
   ]
  },
  {
   "cell_type": "code",
   "execution_count": 90,
   "metadata": {
    "collapsed": false
   },
   "outputs": [
    {
     "name": "stdout",
     "output_type": "stream",
     "text": [
      "[2018-09-03 15:18:52] start\n",
      "[2018-09-03 15:18:55] completed 100 simulations\n",
      "[2018-09-03 15:18:59] completed 200 simulations\n",
      "[2018-09-03 15:19:02] completed 300 simulations\n",
      "[2018-09-03 15:19:05] completed 400 simulations\n",
      "[2018-09-03 15:19:08] completed 500 simulations\n",
      "[2018-09-03 15:19:12] completed 600 simulations\n",
      "[2018-09-03 15:19:15] completed 700 simulations\n",
      "[2018-09-03 15:19:18] completed 800 simulations\n",
      "[2018-09-03 15:19:21] completed 900 simulations\n",
      "[2018-09-03 15:19:24] completed 1000 simulations\n",
      "[2018-09-03 15:19:24] finish\n",
      "32.53s = 0.54m elapsed\n"
     ]
    }
   ],
   "source": [
    "# weights_prior = [0.52, -0.52, -0.9268]\n",
    "# weights_prior = [1.655, -1.655, 2.838]\n",
    "# weights_prior = [-10.86092715, -19.13907285, -18.4333375]\n",
    "weights_prior = [1.65562914, -1.65562914, 4.44260849]\n",
    "\n",
    "st = datetime.today().strftime('%Y-%m-%d %H:%M:%S')\n",
    "print('[%s] start' % st)\n",
    "\n",
    "tic = time.clock()\n",
    "dt_prior = []\n",
    "for s in range(1000):\n",
    "    sim = EbolaSimulator(graph, init, parameters, rng=s+1000)\n",
    "\n",
    "    while not sim.end:\n",
    "        action = []\n",
    "        if sim.iter > trigger_methods:\n",
    "            action = priorwork(sim.states, graph, capacity, weights_prior, alpha, beta, gamma, sigma)\n",
    "\n",
    "        sim.step(action)\n",
    "        \n",
    "    dt = [sim.states[k]['value'] for k in sim.states.keys()]\n",
    "    dt_prior.append(np.median(dt))\n",
    "    if (s+1) % 100 == 0:\n",
    "        st = datetime.today().strftime('%Y-%m-%d %H:%M:%S')\n",
    "        print('[%s] completed %d simulations' %(st,s+1))\n",
    "\n",
    "st = datetime.today().strftime('%Y-%m-%d %H:%M:%S')\n",
    "print('[%s] finish' % st)\n",
    "\n",
    "toc = time.clock()\n",
    "print(\"%0.2fs = %0.2fm elapsed\" % (toc-tic,(toc-tic)/60))"
   ]
  },
  {
   "cell_type": "code",
   "execution_count": 92,
   "metadata": {
    "collapsed": false
   },
   "outputs": [
    {
     "name": "stdout",
     "output_type": "stream",
     "text": [
      "min: 0.00\n",
      "median: 94.50\n",
      "max: 158.00\n"
     ]
    },
    {
     "data": {
      "image/png": "[encoded data removed]",
      "text/plain": [
       "<Figure size 600x400 with 1 Axes>"
      ]
     },
     "metadata": {},
     "output_type": "display_data"
    }
   ],
   "source": [
    "_ = plt.boxplot(dt_prior)\n",
    "\n",
    "print('min: %0.2f' %np.amin(dt_prior))\n",
    "print('median: %0.2f' %np.median(dt_prior))\n",
    "print('max: %0.2f' %np.amax(dt_prior))"
   ]
  },
  {
   "cell_type": "code",
   "execution_count": null,
   "metadata": {
    "collapsed": true
   },
   "outputs": [],
   "source": []
  },
  {
   "cell_type": "code",
   "execution_count": null,
   "metadata": {
    "collapsed": true
   },
   "outputs": [],
   "source": []
  },
  {
   "cell_type": "code",
   "execution_count": null,
   "metadata": {
    "collapsed": true
   },
   "outputs": [],
   "source": []
  },
  {
   "cell_type": "markdown",
   "metadata": {},
   "source": [
    "### scratch code"
   ]
  },
  {
   "cell_type": "code",
   "execution_count": null,
   "metadata": {
    "collapsed": true
   },
   "outputs": [],
   "source": [
    "        \n",
    "        for vi in range(deg+1):\n",
    "            for ei in range(deg+1-vi):\n",
    "                for ej_sum in range((deg-1)*vi+1):\n",
    "                    \n",
    "                    for ai in [0,1]:\n",
    "                        for aj in range(ei+1):\n",
    "                            constraints += [phi >= w[0]+w[2]+w[3]*ai*vi -\n",
    "                                            (sigma*(1-beta*ai)) -\n",
    "                                            gamma*w[0] - gamma*w[2]*(1-beta*ai)]\n",
    "\n",
    "                            constraints += [phi >= -w[0]-w[2]-w[3]*ai*vi +\n",
    "                                            (sigma*(1-beta*ai)) +\n",
    "                                            gamma*w[0] + gamma*w[2]*(1-beta*ai)]\n",
    "\n",
    "                            constraints += [phi >= -w[0]-w[2]-w[3]*ai*vi +\n",
    "                                            (sigma*(1-beta*ai)) +\n",
    "                                            gamma*w[0] + gamma*w[2]*(1-beta*ai) + \n",
    "                                            gamma*w[3]*(1-beta*ai)*(alpha*ej_sum)]\n",
    "                "
   ]
  }
 ],
 "metadata": {
  "kernelspec": {
   "display_name": "Python 3",
   "language": "python",
   "name": "python3"
  },
  "language_info": {
   "codemirror_mode": {
    "name": "ipython",
    "version": 3
   },
   "file_extension": ".py",
   "mimetype": "text/x-python",
   "name": "python",
   "nbconvert_exporter": "python",
   "pygments_lexer": "ipython3",
   "version": "3.5.2"
  }
 },
 "nbformat": 4,
 "nbformat_minor": 2
}
