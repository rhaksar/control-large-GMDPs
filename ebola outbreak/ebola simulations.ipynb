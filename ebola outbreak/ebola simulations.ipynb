{
 "cells": [
  {
   "cell_type": "markdown",
   "metadata": {},
   "source": [
    "### setup"
   ]
  },
  {
   "cell_type": "code",
   "execution_count": 1,
   "metadata": {
    "collapsed": false
   },
   "outputs": [],
   "source": [
    "from cvxpy import *\n",
    "from datetime import datetime\n",
    "from EbolaSimulator import*\n",
    "import numpy as np\n",
    "import matplotlib.pyplot as plt\n",
    "import os\n",
    "import pickle\n",
    "import time\n",
    "\n",
    "%matplotlib inline\n",
    "\n",
    "%load_ext autoreload\n",
    "%autoreload 2"
   ]
  },
  {
   "cell_type": "code",
   "execution_count": null,
   "metadata": {
    "collapsed": true
   },
   "outputs": [],
   "source": []
  },
  {
   "cell_type": "markdown",
   "metadata": {},
   "source": [
    "### load graph model from file"
   ]
  },
  {
   "cell_type": "code",
   "execution_count": 2,
   "metadata": {
    "collapsed": false
   },
   "outputs": [],
   "source": [
    "graph = pickle.load(open(os.getcwd()+'/ebola_graph.pkl' ,'rb'))"
   ]
  },
  {
   "cell_type": "code",
   "execution_count": null,
   "metadata": {
    "collapsed": true
   },
   "outputs": [],
   "source": []
  },
  {
   "cell_type": "markdown",
   "metadata": {},
   "source": [
    "### run simulations"
   ]
  },
  {
   "cell_type": "code",
   "execution_count": 3,
   "metadata": {
    "collapsed": false
   },
   "outputs": [],
   "source": [
    "# simulation parameters\n",
    "# alpha = 0.7\n",
    "alpha = 0.14\n",
    "beta = 1/1.17\n",
    "eta = 0\n",
    "# eta = 0.10\n",
    "# alpha = 1/1.17\n",
    "# beta = 1\n",
    "# eta = 0\n",
    "parameters = {}\n",
    "parameters['alpha'] = alpha\n",
    "parameters['beta'] = beta\n",
    "parameters['eta'] = eta\n",
    "\n",
    "init = {}\n",
    "init[('guinea','gueckedou')] = 1\n",
    "\n",
    "plot_data = {}\n",
    "trigger = 55"
   ]
  },
  {
   "cell_type": "code",
   "execution_count": 4,
   "metadata": {
    "collapsed": false
   },
   "outputs": [
    {
     "name": "stdout",
     "output_type": "stream",
     "text": [
      "mean infection time: 37.58\n",
      "median infection time: 38.00\n"
     ]
    },
    {
     "data": {
      "text/plain": [
       "{'boxes': [<matplotlib.lines.Line2D at 0x7f1fbf47ca90>],\n",
       " 'caps': [<matplotlib.lines.Line2D at 0x7f1fbf487e80>,\n",
       "  <matplotlib.lines.Line2D at 0x7f1fbf492d68>],\n",
       " 'fliers': [<matplotlib.lines.Line2D at 0x7f1fbf499ef0>],\n",
       " 'means': [<matplotlib.lines.Line2D at 0x7f1fbf499748>],\n",
       " 'medians': [<matplotlib.lines.Line2D at 0x7f1fbf492ef0>],\n",
       " 'whiskers': [<matplotlib.lines.Line2D at 0x7f201340bf98>,\n",
       "  <matplotlib.lines.Line2D at 0x7f1fbf487cf8>]}"
      ]
     },
     "execution_count": 4,
     "metadata": {},
     "output_type": "execute_result"
    },
    {
     "data": {
      "image/png": "[encoded data removed]",
      "text/plain": [
       "<matplotlib.figure.Figure at 0x7f200c7c7320>"
      ]
     },
     "metadata": {},
     "output_type": "display_data"
    }
   ],
   "source": [
    "sim = EbolaSimulator(graph, init, parameters, rng=1)\n",
    "for k in sim.states.keys():\n",
    "    plot_data[k] = []\n",
    "    plot_data[k].append(sim.states[k]['value'])\n",
    "    \n",
    "while not sim.end:\n",
    "    action = []\n",
    "    if sim.iter >= trigger:\n",
    "        for k in graph.keys():\n",
    "            action.append(k)\n",
    "        \n",
    "    sim.step(action)\n",
    "    for k in sim.states.keys():\n",
    "        plot_data[k].append(sim.states[k]['value'])\n",
    "    \n",
    "#for k in sorted(sim.states.keys()):\n",
    "#    print('%03d : %s %s' %(sim.states[k]['value'],k,sim.states[k]['status']))\n",
    "\n",
    "dt = [sim.states[k]['value'] for k in sim.states.keys()]\n",
    "print('mean infection time: %0.2f' %np.mean(dt))\n",
    "print('median infection time: %0.2f' %np.median(dt))\n",
    "\n",
    "plt.boxplot(dt, showmeans=True)"
   ]
  },
  {
   "cell_type": "code",
   "execution_count": 5,
   "metadata": {
    "collapsed": false
   },
   "outputs": [
    {
     "data": {
      "text/plain": [
       "[<matplotlib.lines.Line2D at 0x7f1fbf3f9d30>]"
      ]
     },
     "execution_count": 5,
     "metadata": {},
     "output_type": "execute_result"
    },
    {
     "data": {
      "image/png": "[encoded data removed]",
      "text/plain": [
       "<matplotlib.figure.Figure at 0x7f1fc15196d8>"
      ]
     },
     "metadata": {},
     "output_type": "display_data"
    }
   ],
   "source": [
    "k = ('liberia','montserrado')\n",
    "k = ('guinea','gueckedou')\n",
    "t = [t for t in range(len(plot_data[k]))]\n",
    "v = [0.0001*el for el in plot_data[k]]\n",
    "plt.plot(t, v)"
   ]
  },
  {
   "cell_type": "code",
   "execution_count": null,
   "metadata": {
    "collapsed": true
   },
   "outputs": [],
   "source": []
  },
  {
   "cell_type": "markdown",
   "metadata": {
    "collapsed": true
   },
   "source": [
    "check statistics for simulation run many times"
   ]
  },
  {
   "cell_type": "code",
   "execution_count": 52,
   "metadata": {
    "collapsed": false
   },
   "outputs": [
    {
     "name": "stdout",
     "output_type": "stream",
     "text": [
      "[2018-03-15 22:57:06] start\n",
      "[2018-03-15 22:57:18] finish\n",
      "12.70s = 0.21m elapsed\n"
     ]
    }
   ],
   "source": [
    "st = datetime.today().strftime('%Y-%m-%d %H:%M:%S')\n",
    "print('[%s] start' % st)\n",
    "\n",
    "tic = time.clock()\n",
    "dt_list = []\n",
    "for s in range(1000):\n",
    "    sim = EbolaSimulator(graph, init, parameters, rng=s+1000)\n",
    "\n",
    "    while not sim.end:\n",
    "        action = []\n",
    "        if sim.iter >= trigger:\n",
    "            for k in graph.keys():\n",
    "                action.append(k)\n",
    "\n",
    "        sim.step(action)\n",
    "        \n",
    "    dt = [sim.states[k]['value'] for k in sim.states.keys()]\n",
    "    dt_list.append(np.mean(dt))\n",
    "\n",
    "\n",
    "st = datetime.today().strftime('%Y-%m-%d %H:%M:%S')\n",
    "print('[%s] finish' % st)\n",
    "\n",
    "toc = time.clock()\n",
    "print(\"%0.2fs = %0.2fm elapsed\" % (toc-tic,(toc-tic)/60))"
   ]
  },
  {
   "cell_type": "code",
   "execution_count": 53,
   "metadata": {
    "collapsed": false
   },
   "outputs": [
    {
     "name": "stdout",
     "output_type": "stream",
     "text": [
      "average dT over 1000 runs: 37.72\n"
     ]
    }
   ],
   "source": [
    "print('average dT over %d runs: %0.2f' %(len(dt_list),np.mean(dt_list)))"
   ]
  },
  {
   "cell_type": "code",
   "execution_count": null,
   "metadata": {
    "collapsed": true
   },
   "outputs": [],
   "source": []
  },
  {
   "cell_type": "code",
   "execution_count": null,
   "metadata": {
    "collapsed": true
   },
   "outputs": [],
   "source": []
  },
  {
   "cell_type": "markdown",
   "metadata": {},
   "source": [
    "### approximate value function method"
   ]
  },
  {
   "cell_type": "markdown",
   "metadata": {},
   "source": [
    "basis functions: $w_{0} + w_{1}\\textbf{1}_{s}(x_{e}^{t}) + w_{2}\\textbf{1}_{s}(x_{i}^{t})\\sum_{j\\in N(i)}\\textbf{1}_{i}(x_{j}^{t}) + w_{3}\\textbf{1}_{r}(x_{i}^{t})$\n",
    "\n",
    "reward: $r_{i} = \\textbf{1}_{s}(1-\\alpha e_{i}^{t+1}) + \\sigma\\textbf{1}_{e}(x_{i}^{t+1})$"
   ]
  },
  {
   "cell_type": "code",
   "execution_count": 6,
   "metadata": {
    "collapsed": true
   },
   "outputs": [],
   "source": [
    "gamma = 0.9"
   ]
  },
  {
   "cell_type": "code",
   "execution_count": 7,
   "metadata": {
    "collapsed": false
   },
   "outputs": [
    {
     "name": "stdout",
     "output_type": "stream",
     "text": [
      "number of constraints: 232\n"
     ]
    }
   ],
   "source": [
    "phi = Variable()\n",
    "w = Variable(4)\n",
    "objective = Minimize(phi)\n",
    "constraints = []\n",
    "\n",
    "sigma = -1\n",
    "deg = 4\n",
    "for i in [0,1,2]:\n",
    "    if i == 0:\n",
    "        \n",
    "        for vi in range(deg+1):\n",
    "            for ei in range(deg+1-vi):\n",
    "                \n",
    "                for ej_sum in range((deg-1)*vi+1):\n",
    "                    for a in range(ei+1):\n",
    "                        if a == 0:\n",
    "                            constraints += [phi >= w[0] + w[1] + w[2]*ei - \n",
    "                                            (1-alpha*ei)*(1-alpha*(alpha*ej_sum+ei-beta*a)) - (sigma*alpha*ei) -\n",
    "                                            gamma*w[0]-gamma*w[1]*(1-alpha*ei) - \n",
    "                                            gamma*w[2]*(1-alpha*ei)*(alpha*ej_sum+ei-beta*a) - \n",
    "                                            gamma*w[3]*alpha*ei]\n",
    "                    \n",
    "                        constraints += [phi >= -w[0] - w[1] - w[2]*ei + \n",
    "                                        (1-alpha*ei)*(1-alpha*(alpha*ej_sum+ei-beta*a)) + (sigma*alpha*ei) +\n",
    "                                        gamma*w[0]-gamma*w[1]*(1-alpha*ei) +\n",
    "                                        gamma*w[2]*(1-alpha*ei)*(alpha*ej_sum+ei-beta*a) +\n",
    "                                        gamma*w[3]*alpha*ei]\n",
    "\n",
    "    elif i == 1:\n",
    "        \n",
    "        for ei in range(deg+1):\n",
    "            for a in [0,1]:\n",
    "\n",
    "                if a == 0:\n",
    "                    constraints += [phi >= w[0] + w[3] -\n",
    "                                    (sigma*(1-beta*a)) - gamma*w[0] - gamma*w[3]*(1-beta*a)]\n",
    "                    \n",
    "                constraints += [phi >= -w[0] - w[3] +\n",
    "                                (sigma*(1-beta*a)) + gamma*w[0] + gamma*w[3]*(1-beta*a)]\n",
    "                \n",
    "    elif i == 2:\n",
    "        constraints += [phi >=  w[0] - gamma*w[0]]\n",
    "        constraints += [phi >= -w[0] + gamma*w[0]]\n",
    "\n",
    "\n",
    "problem = Problem(objective, constraints)\n",
    "print('number of constraints: %d' %len(constraints))"
   ]
  },
  {
   "cell_type": "code",
   "execution_count": 8,
   "metadata": {
    "collapsed": false
   },
   "outputs": [
    {
     "name": "stdout",
     "output_type": "stream",
     "text": [
      "problem status: optimal\n",
      "error: 0.4916\n",
      "weight(s): \n",
      "[[-4.91642085]\n",
      " [ 1.21939295]\n",
      " [-0.28271467]\n",
      " [-0.16715831]]\n"
     ]
    }
   ],
   "source": [
    "result = problem.solve(solver=ECOS)\n",
    "print('problem status: %s' %problem.status)\n",
    "print('error: %0.4f' %problem.value)\n",
    "print('weight(s): ')\n",
    "print(w.value)"
   ]
  },
  {
   "cell_type": "code",
   "execution_count": null,
   "metadata": {
    "collapsed": true
   },
   "outputs": [],
   "source": []
  },
  {
   "cell_type": "code",
   "execution_count": 91,
   "metadata": {
    "collapsed": false
   },
   "outputs": [
    {
     "name": "stdout",
     "output_type": "stream",
     "text": [
      "number of constraints: 4\n",
      "problem status: optimal\n",
      "error: 0.0000\n",
      "weight(s): \n",
      "[[  3.25762458e-16]\n",
      " [  2.00000000e+01]]\n"
     ]
    }
   ],
   "source": [
    "phi = Variable()\n",
    "w = Variable(2)\n",
    "objective = Minimize(phi)\n",
    "constraints = []\n",
    "\n",
    "constraints += [phi >=  w[0] - gamma*w[0]]\n",
    "constraints += [phi >= -w[0] + gamma*w[0]]\n",
    "\n",
    "constraints += [phi >=  w[0]+w[1] - 1 - gamma*w[0] - gamma*w[1]]\n",
    "constraints += [phi >= -w[0]-w[1] + 1 + gamma*w[0] + gamma*w[1]]\n",
    "\n",
    "problem = Problem(objective, constraints)\n",
    "print('number of constraints: %d' %len(constraints))\n",
    "\n",
    "result = problem.solve()\n",
    "print('problem status: %s' %problem.status)\n",
    "print('error: %0.4f' %problem.value)\n",
    "print('weight(s): ')\n",
    "print(w.value)"
   ]
  },
  {
   "cell_type": "code",
   "execution_count": null,
   "metadata": {
    "collapsed": true
   },
   "outputs": [],
   "source": []
  },
  {
   "cell_type": "code",
   "execution_count": 32,
   "metadata": {
    "collapsed": true
   },
   "outputs": [],
   "source": [
    "def vw(states, graph, capacity, weights, alpha, beta, gamma, sigma):\n",
    "    control = []\n",
    "    for k in states.keys():\n",
    "        if states[k]['status'] == 'infected':\n",
    "            ni = 0\n",
    "            for el in graph[k]['edges']:\n",
    "                if states[el]['status'] == 'susceptible':\n",
    "                    nj = 0\n",
    "                    for ek in graph[el]['edges']:\n",
    "                        if states[ek]['status'] == 'infected':\n",
    "                            nj += 1\n",
    "                    ni += (1-alpha*nj)\n",
    "            \n",
    "            value = (alpha + gamma*weights[2])*beta*ni - (sigma + gamma*weights[3])*beta\n",
    "            control.append((value,k))\n",
    "            \n",
    "    control = sorted(control)[:capacity]\n",
    "    control = [el[1] for el in control]\n",
    "            \n",
    "    return control\n"
   ]
  },
  {
   "cell_type": "code",
   "execution_count": 33,
   "metadata": {
    "collapsed": false
   },
   "outputs": [
    {
     "name": "stdout",
     "output_type": "stream",
     "text": [
      "min infection time: 0.00\n",
      "median infection time: 60.00\n",
      "max infection time: 118.00\n"
     ]
    },
    {
     "data": {
      "text/plain": [
       "{'boxes': [<matplotlib.lines.Line2D at 0x7f1fbeb39470>],\n",
       " 'caps': [<matplotlib.lines.Line2D at 0x7f1fbeb4a978>,\n",
       "  <matplotlib.lines.Line2D at 0x7f1fbf4559b0>],\n",
       " 'fliers': [<matplotlib.lines.Line2D at 0x7f1fbec2b5c0>],\n",
       " 'means': [],\n",
       " 'medians': [<matplotlib.lines.Line2D at 0x7f1fbf427b38>],\n",
       " 'whiskers': [<matplotlib.lines.Line2D at 0x7f1fbe880048>,\n",
       "  <matplotlib.lines.Line2D at 0x7f1fbf43d588>]}"
      ]
     },
     "execution_count": 33,
     "metadata": {},
     "output_type": "execute_result"
    },
    {
     "data": {
      "image/png": "[encoded data removed]",
      "text/plain": [
       "<matplotlib.figure.Figure at 0x7f1fbf45c9e8>"
      ]
     },
     "metadata": {},
     "output_type": "display_data"
    }
   ],
   "source": [
    "weights = [-4.91, 1.22, -0.28, -0.17]\n",
    "capacity = 3\n",
    "\n",
    "alpha = 0.14\n",
    "beta = (1/1.17)*0.15\n",
    "parameters = {}\n",
    "parameters['alpha'] = alpha\n",
    "parameters['beta'] = beta\n",
    "parameters['eta'] = eta\n",
    "\n",
    "trigger = 5\n",
    "\n",
    "init = {}\n",
    "init[('guinea','gueckedou')] = 1\n",
    "\n",
    "sim = EbolaSimulator(graph, init, parameters, rng=1)\n",
    "\n",
    "while not sim.end:\n",
    "    action = []\n",
    "    if sim.iter > trigger:\n",
    "        action = vw(sim.states, graph, capacity, weights, alpha, beta, gamma, sigma)\n",
    "        \n",
    "    sim.step(action)\n",
    "    \n",
    "dt = [sim.states[k]['value'] for k in sim.states.keys()]\n",
    "print('min infection time: %0.2f' %np.amin(dt))\n",
    "print('median infection time: %0.2f' %np.median(dt))\n",
    "print('max infection time: %0.2f' %np.amax(dt))\n",
    "\n",
    "plt.boxplot(dt)"
   ]
  },
  {
   "cell_type": "code",
   "execution_count": 34,
   "metadata": {
    "collapsed": false
   },
   "outputs": [
    {
     "data": {
      "text/plain": [
       "{('guinea', 'beyla'): {'status': 'removed', 'value': 26},\n",
       " ('guinea', 'boffa'): {'status': 'removed', 'value': 15},\n",
       " ('guinea', 'boke'): {'status': 'removed', 'value': 16},\n",
       " ('guinea', 'conakry'): {'status': 'susceptible', 'value': 0},\n",
       " ('guinea', 'coyah'): {'status': 'removed', 'value': 1},\n",
       " ('guinea', 'dabola'): {'status': 'removed', 'value': 34},\n",
       " ('guinea', 'dalaba'): {'status': 'removed', 'value': 33},\n",
       " ('guinea', 'dinguiraye'): {'status': 'removed', 'value': 40},\n",
       " ('guinea', 'dubreka'): {'status': 'removed', 'value': 2},\n",
       " ('guinea', 'faranah'): {'status': 'removed', 'value': 67},\n",
       " ('guinea', 'forecariah'): {'status': 'removed', 'value': 47},\n",
       " ('guinea', 'fria'): {'status': 'removed', 'value': 27},\n",
       " ('guinea', 'gaoual'): {'status': 'removed', 'value': 6},\n",
       " ('guinea', 'gueckedou'): {'status': 'removed', 'value': 66},\n",
       " ('guinea', 'kankan'): {'status': 'removed', 'value': 59},\n",
       " ('guinea', 'kerouane'): {'status': 'removed', 'value': 65},\n",
       " ('guinea', 'kindia'): {'status': 'removed', 'value': 62},\n",
       " ('guinea', 'kissidougou'): {'status': 'removed', 'value': 70},\n",
       " ('guinea', 'koubia'): {'status': 'removed', 'value': 66},\n",
       " ('guinea', 'koundara'): {'status': 'removed', 'value': 61},\n",
       " ('guinea', 'kouroussa'): {'status': 'removed', 'value': 87},\n",
       " ('guinea', 'labe'): {'status': 'removed', 'value': 68},\n",
       " ('guinea', 'lelouma'): {'status': 'removed', 'value': 71},\n",
       " ('guinea', 'lola'): {'status': 'susceptible', 'value': 0},\n",
       " ('guinea', 'macenta'): {'status': 'removed', 'value': 87},\n",
       " ('guinea', 'mali'): {'status': 'removed', 'value': 75},\n",
       " ('guinea', 'mamou'): {'status': 'removed', 'value': 99},\n",
       " ('guinea', \"n'zerekore\"): {'status': 'removed', 'value': 15},\n",
       " ('guinea', 'pita'): {'status': 'removed', 'value': 98},\n",
       " ('guinea', 'siguiri'): {'status': 'removed', 'value': 92},\n",
       " ('guinea', 'telimele'): {'status': 'removed', 'value': 7},\n",
       " ('guinea', 'tougue'): {'status': 'removed', 'value': 95},\n",
       " ('guinea', 'yomou'): {'status': 'removed', 'value': 95},\n",
       " ('liberia', 'bomi'): {'status': 'removed', 'value': 12},\n",
       " ('liberia', 'bong'): {'status': 'removed', 'value': 1},\n",
       " ('liberia', 'gbarpolu'): {'status': 'removed', 'value': 103},\n",
       " ('liberia', 'grand bassa'): {'status': 'susceptible', 'value': 0},\n",
       " ('liberia', 'grand cape mount'): {'status': 'removed', 'value': 102},\n",
       " ('liberia', 'grand gedeh'): {'status': 'susceptible', 'value': 0},\n",
       " ('liberia', 'grand kru'): {'status': 'susceptible', 'value': 0},\n",
       " ('liberia', 'lofa'): {'status': 'removed', 'value': 115},\n",
       " ('liberia', 'margibi'): {'status': 'susceptible', 'value': 0},\n",
       " ('liberia', 'maryland'): {'status': 'susceptible', 'value': 0},\n",
       " ('liberia', 'montserrado'): {'status': 'susceptible', 'value': 0},\n",
       " ('liberia', 'nimba'): {'status': 'susceptible', 'value': 0},\n",
       " ('liberia', 'river gee'): {'status': 'susceptible', 'value': 0},\n",
       " ('liberia', 'rivercess'): {'status': 'susceptible', 'value': 0},\n",
       " ('liberia', 'sinoe'): {'status': 'susceptible', 'value': 0},\n",
       " ('sierra leone', 'bo'): {'status': 'removed', 'value': 109},\n",
       " ('sierra leone', 'bombali'): {'status': 'infected', 'value': 112},\n",
       " ('sierra leone', 'bonthe'): {'status': 'infected', 'value': 106},\n",
       " ('sierra leone', 'kailahun'): {'status': 'infected', 'value': 118},\n",
       " ('sierra leone', 'kambia'): {'status': 'infected', 'value': 111},\n",
       " ('sierra leone', 'kenema'): {'status': 'infected', 'value': 115},\n",
       " ('sierra leone', 'koinadugu'): {'status': 'infected', 'value': 113},\n",
       " ('sierra leone', 'kono'): {'status': 'infected', 'value': 116},\n",
       " ('sierra leone', 'moyamba'): {'status': 'infected', 'value': 102},\n",
       " ('sierra leone', 'port loko'): {'status': 'removed', 'value': 1},\n",
       " ('sierra leone', 'pujehun'): {'status': 'infected', 'value': 110},\n",
       " ('sierra leone', 'tonkolili'): {'status': 'infected', 'value': 110},\n",
       " ('sierra leone', 'western area rural'): {'status': 'removed', 'value': 4},\n",
       " ('sierra leone', 'western area urban'): {'status': 'susceptible', 'value': 0}}"
      ]
     },
     "execution_count": 34,
     "metadata": {},
     "output_type": "execute_result"
    }
   ],
   "source": [
    "sim.states"
   ]
  },
  {
   "cell_type": "code",
   "execution_count": null,
   "metadata": {
    "collapsed": true
   },
   "outputs": [],
   "source": []
  },
  {
   "cell_type": "markdown",
   "metadata": {},
   "source": [
    "benchmark vw method"
   ]
  },
  {
   "cell_type": "code",
   "execution_count": 35,
   "metadata": {
    "collapsed": false
   },
   "outputs": [
    {
     "name": "stdout",
     "output_type": "stream",
     "text": [
      "[2018-03-16 20:42:45] start\n",
      "[2018-03-16 20:43:02] finish\n",
      "17.08s = 0.28m elapsed\n"
     ]
    }
   ],
   "source": [
    "trigger = 5\n",
    "\n",
    "st = datetime.today().strftime('%Y-%m-%d %H:%M:%S')\n",
    "print('[%s] start' % st)\n",
    "\n",
    "tic = time.clock()\n",
    "dt_list = []\n",
    "for s in range(1000):\n",
    "    sim = EbolaSimulator(graph, init, parameters, rng=s+1000)\n",
    "\n",
    "    while not sim.end:\n",
    "        action = []\n",
    "        if sim.iter >= trigger:\n",
    "            action = vw(sim.states, graph, capacity, weights, alpha, beta, gamma, sigma)\n",
    "\n",
    "        sim.step(action)\n",
    "        \n",
    "    dt = [sim.states[k]['value'] for k in sim.states.keys()]\n",
    "    dt_list.append(np.median(dt))\n",
    "\n",
    "st = datetime.today().strftime('%Y-%m-%d %H:%M:%S')\n",
    "print('[%s] finish' % st)\n",
    "\n",
    "toc = time.clock()\n",
    "print(\"%0.2fs = %0.2fm elapsed\" % (toc-tic,(toc-tic)/60))"
   ]
  },
  {
   "cell_type": "code",
   "execution_count": 36,
   "metadata": {
    "collapsed": false
   },
   "outputs": [
    {
     "name": "stdout",
     "output_type": "stream",
     "text": [
      "min: 0.00\n",
      "median: 17.25\n",
      "max: 102.50\n"
     ]
    },
    {
     "data": {
      "image/png": "[encoded data removed]",
      "text/plain": [
       "<matplotlib.figure.Figure at 0x7f1fbeab09e8>"
      ]
     },
     "metadata": {},
     "output_type": "display_data"
    }
   ],
   "source": [
    "plt.boxplot(dt_list)\n",
    "\n",
    "print('min: %0.2f' %np.amin(dt_list))\n",
    "print('median: %0.2f' %np.median(dt_list))\n",
    "print('max: %0.2f' %np.amax(dt_list))"
   ]
  },
  {
   "cell_type": "code",
   "execution_count": null,
   "metadata": {
    "collapsed": true
   },
   "outputs": [],
   "source": []
  },
  {
   "cell_type": "code",
   "execution_count": null,
   "metadata": {
    "collapsed": true
   },
   "outputs": [],
   "source": []
  },
  {
   "cell_type": "markdown",
   "metadata": {},
   "source": [
    "### approximate Q function method"
   ]
  },
  {
   "cell_type": "code",
   "execution_count": null,
   "metadata": {
    "collapsed": true
   },
   "outputs": [],
   "source": []
  },
  {
   "cell_type": "code",
   "execution_count": null,
   "metadata": {
    "collapsed": true
   },
   "outputs": [],
   "source": []
  },
  {
   "cell_type": "markdown",
   "metadata": {},
   "source": [
    "### implement and benchmark forsell et al. basis functions"
   ]
  },
  {
   "cell_type": "code",
   "execution_count": 29,
   "metadata": {
    "collapsed": false
   },
   "outputs": [
    {
     "name": "stdout",
     "output_type": "stream",
     "text": [
      "number of constraints: 297\n"
     ]
    }
   ],
   "source": [
    "phi = Variable()\n",
    "w = Variable(3)\n",
    "objective = Minimize(phi)\n",
    "constraints = []\n",
    "\n",
    "sigma = -1\n",
    "deg = 4\n",
    "for i in [0,1,2]:\n",
    "    if i == 0:\n",
    "        \n",
    "        for vi in range(deg+1):\n",
    "            for ei in range(deg+1-vi):\n",
    "                \n",
    "                for ej_sum in range((deg-1)*vi+1):\n",
    "                    for a in range(ei+1):\n",
    "                        \n",
    "                        if i == 0:\n",
    "                            constraints += [phi >= w[0] - \n",
    "                                            (1-alpha*ei)*(1-alpha*(alpha*ej_sum+ei-beta*a)) - (sigma*alpha*ei) - \n",
    "                                            gamma*w[0]*(1-alpha*ei) - gamma*w[1]*alpha*ei]\n",
    "                        \n",
    "                        constraints += [phi >= -w[0] + \n",
    "                                        (1-alpha*ei)*(1-alpha*(alpha*ej_sum+ei-beta*a)) + (sigma*alpha*ei) +\n",
    "                                        gamma*w[0]*(1-alpha*ei) + gamma*w[1]*alpha*ei]\n",
    "                        \n",
    "    if i == 1:\n",
    "        \n",
    "        for ei in range(deg+1):\n",
    "            for a in [0,1]:\n",
    "                if a == 0:\n",
    "                    constraints += [phi >= w[1] - \n",
    "                                    (sigma*(1-beta*a)) - gamma*w[1]*(1-beta*a) - gamma*w[2]*beta*a]\n",
    "                    \n",
    "                constraints += [phi >= -w[1] + \n",
    "                                (sigma*(1-beta*a)) + gamma*w[1]*(1-beta*a) + gamma*w[2]*beta*a]\n",
    "                \n",
    "    if i == 2:\n",
    "        \n",
    "        constraints += [phi >=  w[2] - gamma*w[2]]\n",
    "        constraints += [phi >= -w[2] + gamma*w[2]]\n",
    "                \n",
    "        \n",
    "problem = Problem(objective, constraints)\n",
    "print('number of constraints: %d' %len(constraints))"
   ]
  },
  {
   "cell_type": "code",
   "execution_count": 31,
   "metadata": {
    "collapsed": false
   },
   "outputs": [
    {
     "name": "stdout",
     "output_type": "stream",
     "text": [
      "problem status: optimal\n",
      "error: 0.9475\n",
      "weight(s): \n",
      "[[ 0.52450331]\n",
      " [-0.52450331]\n",
      " [-0.73672369]]\n"
     ]
    }
   ],
   "source": [
    "result = problem.solve()\n",
    "print('problem status: %s' %problem.status)\n",
    "print('error: %0.4f' %problem.value)\n",
    "print('weight(s): ')\n",
    "print(w.value)"
   ]
  },
  {
   "cell_type": "code",
   "execution_count": null,
   "metadata": {
    "collapsed": true
   },
   "outputs": [],
   "source": []
  },
  {
   "cell_type": "code",
   "execution_count": 38,
   "metadata": {
    "collapsed": true
   },
   "outputs": [],
   "source": [
    "def priorwork(states, graph, capacity, weights, alpha, beta, gamma, sigma):\n",
    "    control = []\n",
    "    for k in states.keys():\n",
    "        if states[k]['status'] == 'infected':\n",
    "            ni = 0\n",
    "            for el in graph[k]['edges']:\n",
    "                if states[el]['status'] == 'susceptible':\n",
    "                    nj = 0\n",
    "                    for ek in graph[el]['edges']:\n",
    "                        if states[ek]['status'] == 'infected':\n",
    "                            nj += 1\n",
    "                    ni += (1-alpha*nj)\n",
    "            \n",
    "            value = alpha*beta*ni + (-sigma*beta - gamma*weights[1]*beta + gamma*weights[2]*beta)\n",
    "            control.append((value,k))\n",
    "            \n",
    "    control = sorted(control)[:capacity]\n",
    "    control = [el[1] for el in control]\n",
    "            \n",
    "    return control"
   ]
  },
  {
   "cell_type": "code",
   "execution_count": 39,
   "metadata": {
    "collapsed": false
   },
   "outputs": [
    {
     "name": "stdout",
     "output_type": "stream",
     "text": [
      "[2018-03-16 20:48:24] start\n",
      "[2018-03-16 20:48:43] finish\n",
      "18.67s = 0.31m elapsed\n"
     ]
    }
   ],
   "source": [
    "trigger = 5\n",
    "\n",
    "st = datetime.today().strftime('%Y-%m-%d %H:%M:%S')\n",
    "print('[%s] start' % st)\n",
    "\n",
    "tic = time.clock()\n",
    "dt_list = []\n",
    "for s in range(1000):\n",
    "    sim = EbolaSimulator(graph, init, parameters, rng=s+1000)\n",
    "\n",
    "    while not sim.end:\n",
    "        action = []\n",
    "        if sim.iter >= trigger:\n",
    "            action = priorwork(sim.states, graph, capacity, weights, alpha, beta, gamma, sigma)\n",
    "\n",
    "        sim.step(action)\n",
    "        \n",
    "    dt = [sim.states[k]['value'] for k in sim.states.keys()]\n",
    "    dt_list.append(np.median(dt))\n",
    "\n",
    "st = datetime.today().strftime('%Y-%m-%d %H:%M:%S')\n",
    "print('[%s] finish' % st)\n",
    "\n",
    "toc = time.clock()\n",
    "print(\"%0.2fs = %0.2fm elapsed\" % (toc-tic,(toc-tic)/60))"
   ]
  },
  {
   "cell_type": "code",
   "execution_count": 40,
   "metadata": {
    "collapsed": false
   },
   "outputs": [
    {
     "name": "stdout",
     "output_type": "stream",
     "text": [
      "min: 0.00\n",
      "median: 64.50\n",
      "max: 106.00\n"
     ]
    },
    {
     "data": {
      "image/png": "[encoded data removed]",
      "text/plain": [
       "<matplotlib.figure.Figure at 0x7f1fbf2fd5f8>"
      ]
     },
     "metadata": {},
     "output_type": "display_data"
    }
   ],
   "source": [
    "plt.boxplot(dt_list)\n",
    "\n",
    "print('min: %0.2f' %np.amin(dt_list))\n",
    "print('median: %0.2f' %np.median(dt_list))\n",
    "print('max: %0.2f' %np.amax(dt_list))"
   ]
  },
  {
   "cell_type": "code",
   "execution_count": null,
   "metadata": {
    "collapsed": true
   },
   "outputs": [],
   "source": []
  },
  {
   "cell_type": "code",
   "execution_count": null,
   "metadata": {
    "collapsed": true
   },
   "outputs": [],
   "source": []
  }
 ],
 "metadata": {
  "kernelspec": {
   "display_name": "Python 3",
   "language": "python",
   "name": "python3"
  },
  "language_info": {
   "codemirror_mode": {
    "name": "ipython",
    "version": 3
   },
   "file_extension": ".py",
   "mimetype": "text/x-python",
   "name": "python",
   "nbconvert_exporter": "python",
   "pygments_lexer": "ipython3",
   "version": "3.5.2"
  }
 },
 "nbformat": 4,
 "nbformat_minor": 0
}
