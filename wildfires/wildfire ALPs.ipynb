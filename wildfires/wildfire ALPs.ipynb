{
 "cells": [
  {
   "cell_type": "markdown",
   "metadata": {
    "collapsed": true
   },
   "source": [
    "## Setup"
   ]
  },
  {
   "cell_type": "code",
   "execution_count": 1,
   "metadata": {
    "collapsed": true
   },
   "outputs": [],
   "source": [
    "from cvxpy import *\n",
    "import numpy as np"
   ]
  },
  {
   "cell_type": "code",
   "execution_count": null,
   "metadata": {
    "collapsed": true
   },
   "outputs": [],
   "source": []
  },
  {
   "cell_type": "code",
   "execution_count": null,
   "metadata": {
    "collapsed": false
   },
   "outputs": [],
   "source": [
    "phi = Variable()\n",
    "w = Variable(3)\n",
    "gamma = 0.95\n",
    "alpha = 0.2\n",
    "beta = exp(-0.1)\n",
    "dbeta = 0.54\n",
    "\n",
    "objective = Minimize(phi)\n",
    "constraints = []\n",
    "\n",
    "for x in range(3):     \n",
    "    if x == 0:\n",
    "        for f in range(5):\n",
    "            constraints += [phi >=  w[0] - 1 - gamma*((1-alpha*f)*w[0] + alpha*f*w[1])]\n",
    "            constraints += [phi >= -w[0] + 1 + gamma*((1-alpha*f)*w[0] + alpha*f*w[1])]\n",
    "\n",
    "    elif x == 1:\n",
    "        for a in range(2):\n",
    "            constraints += [phi >=  w[1] - gamma*((beta-(dbeta*a))*w[1] + (1-beta+(dbeta*a))*w[2])]\n",
    "            constraints += [phi >= -w[1] + gamma*((beta-(dbeta*a))*w[1] + (1-beta+(dbeta*a))*w[2])]\n",
    "\n",
    "    elif x == 2:\n",
    "        constraints += [phi >=  w[2] - gamma*w[2]]\n",
    "        constraints += [phi >= -w[2] + gamma*w[2]]\n",
    "\n",
    "print(\"number of constraints: %d\" %len(constraints))\n",
    "problem = Problem(objective, constraints)       "
   ]
  },
  {
   "cell_type": "code",
   "execution_count": null,
   "metadata": {
    "collapsed": false
   },
   "outputs": [],
   "source": [
    "result = problem.solve()\n",
    "print(\"problem status: %s\" %problem.status)\n",
    "print(\"error: %0.4f\" %problem.value)\n",
    "print(\"weight(s): \")\n",
    "print(w.value)"
   ]
  },
  {
   "cell_type": "code",
   "execution_count": null,
   "metadata": {
    "collapsed": true
   },
   "outputs": [],
   "source": []
  },
  {
   "cell_type": "code",
   "execution_count": null,
   "metadata": {
    "collapsed": true
   },
   "outputs": [],
   "source": []
  },
  {
   "cell_type": "code",
   "execution_count": null,
   "metadata": {
    "collapsed": false
   },
   "outputs": [],
   "source": [
    "phi = Variable()\n",
    "w = Variable()\n",
    "\n",
    "gamma = 0.95\n",
    "alpha = 0.2\n",
    "beta = 0.9048result = problem.solve()\n",
    "print(\"problem status: %s\" %problem.status)\n",
    "print(\"error: %0.4f\" %problem.value)\n",
    "print(\"weight(s): %0.4f\" %w.value)result = problem.solve()\n",
    "print(\"problem status: %s\" %problem.status)\n",
    "print(\"error: %0.4f\" %problem.value)\n",
    "print(\"weight(s): %0.4f\" %w.value)\n",
    "dbeta = 0.54\n",
    "\n",
    "objective = Minimize(phi)\n",
    "constraints = []\n",
    "\n",
    "for f in range(5):\n",
    "    #for a in range(f+1):\n",
    "    a = f\n",
    "\n",
    "    constraints += [phi >=  w - gamma*((1-alpha*f)*(1-alpha*f*beta+alpha*a*dbeta + w))]\n",
    "    constraints += [phi >= -w + gamma*((1-alpha*f)*(1-alpha*f*beta+alpha*a*dbeta + w))]\n",
    "        \n",
    "problem = Problem(objective, constraints)\n",
    "print(\"number of constraints: %d\" %len(constraints))"
   ]
  },
  {
   "cell_type": "code",
   "execution_count": null,
   "metadata": {
    "collapsed": false
   },
   "outputs": [],
   "source": [
    "result = problem.solve()\n",
    "print(\"problem status: %s\" %problem.status)\n",
    "print(\"error: %0.4f\" %problem.value)\n",
    "print(\"weight(s): %0.4f\" %w.value)"
   ]
  },
  {
   "cell_type": "code",
   "execution_count": null,
   "metadata": {
    "collapsed": false
   },
   "outputs": [],
   "source": [
    "for f in range(5):\n",
    "    for a in range(f+1):\n",
    "        value = gamma*((1-alpha*f)*(1-alpha*f*beta+alpha*a*dbeta + w.value))\n",
    "        print(\"f = %d, a = %d, value = %0.4f\" %(f,a,value))\n",
    "    \n",
    "    if f != 4:\n",
    "        print()"
   ]
  },
  {
   "cell_type": "code",
   "execution_count": null,
   "metadata": {
    "collapsed": true
   },
   "outputs": [],
   "source": []
  },
  {
   "cell_type": "code",
   "execution_count": null,
   "metadata": {
    "collapsed": true
   },
   "outputs": [],
   "source": []
  },
  {
   "cell_type": "code",
   "execution_count": null,
   "metadata": {
    "collapsed": false
   },
   "outputs": [],
   "source": [
    "phi = Variable()\n",
    "w = Variable()\n",
    "\n",
    "gamma = 0.95\n",
    "alpha = 0.2\n",
    "beta = 0.9048\n",
    "dbeta = 0.54\n",
    "\n",
    "objective = Minimize(phi)\n",
    "constraints = []\n",
    "\n",
    "for f in range(5):\n",
    "    a = f\n",
    "    \n",
    "    constraints += [phi >=  (1-alpha*f)*(1-gamma*(1-alpha*f*beta+alpha*a*dbeta))*w]\n",
    "    constraints += [phi >= -(1-alpha*f)*(1-gamma*(1-alpha*f*beta+alpha*a*dbeta))*w]\n",
    "\n",
    "problem = Problem(objective, constraints)\n",
    "print(\"number of constraints: %d\" %len(constraints))"
   ]
  },
  {
   "cell_type": "code",
   "execution_count": null,
   "metadata": {
    "collapsed": false
   },
   "outputs": [],
   "source": [
    "result = problem.solve()\n",
    "print(\"problem status: %s\" %problem.status)\n",
    "print(\"error: %0.4f\" %problem.value)\n",
    "print(\"weight(s): %0.4f\" %w.value)"
   ]
  },
  {
   "cell_type": "code",
   "execution_count": null,
   "metadata": {
    "collapsed": false
   },
   "outputs": [],
   "source": [
    "phi = Variable()\n",
    "w = Variable()\n",
    "\n",
    "gamma = 0.95\n",
    "alpha = 0.2\n",
    "beta = 0.9048\n",
    "dbeta = 0.54\n",
    "\n",
    "objective = Minimize(phi)\n",
    "constraints = []\n",
    "\n",
    "for f in range(5):\n",
    "    constraints += [phi >=  w - (1 + (1-alpha*f)*(1-alpha*(beta-dbeta)*f)*gamma*w)]\n",
    "    constraints += [phi >= -w + (1 + (1-alpha*f)*(1-alpha*(beta-dbeta)*f)*gamma*w)]\n",
    "\n",
    "problem = Problem(objective, constraints)\n",
    "print(\"number of constraints: %d\" %len(constraints))"
   ]
  },
  {
   "cell_type": "code",
   "execution_count": null,
   "metadata": {
    "collapsed": false
   },
   "outputs": [],
   "source": [
    "result = problem.solve()\n",
    "print(\"problem status: %s\" %problem.status)\n",
    "print(\"error: %0.4f\" %problem.value)\n",
    "print(\"weight(s): %0.4f\" %w.value)"
   ]
  },
  {
   "cell_type": "code",
   "execution_count": null,
   "metadata": {
    "collapsed": false
   },
   "outputs": [],
   "source": []
  },
  {
   "cell_type": "code",
   "execution_count": null,
   "metadata": {
    "collapsed": true
   },
   "outputs": [],
   "source": []
  },
  {
   "cell_type": "code",
   "execution_count": null,
   "metadata": {
    "collapsed": false
   },
   "outputs": [],
   "source": [
    "phi = Variable()\n",
    "w = Variable()\n",
    "\n",
    "gamma = 0.95\n",
    "alpha = 0.2\n",
    "beta = 0.9048\n",
    "dbeta = 0.54\n",
    "\n",
    "objective = Minimize(phi)\n",
    "constraints = []\n",
    "constraints += [phi >= 0]\n",
    "\n",
    "for f in range(5):\n",
    "    constraints += [phi >=  w - (1-alpha*f)*(1 - alpha*(beta-dbeta)*f + gamma*w)]\n",
    "    constraints += [phi >= -w + (1-alpha*f)*(1 - alpha*(beta-dbeta)*f + gamma*w)]\n",
    "    \n",
    "problem = Problem(objective, constraints)\n",
    "print(\"number of constraints: %d\" %len(constraints))"
   ]
  },
  {
   "cell_type": "code",
   "execution_count": null,
   "metadata": {
    "collapsed": false
   },
   "outputs": [],
   "source": [
    "result = problem.solve()\n",
    "print(\"problem status: %s\" %problem.status)\n",
    "print(\"error: %0.4f\" %problem.value)\n",
    "print(\"weight(s): %0.4f\" %w.value)"
   ]
  },
  {
   "cell_type": "code",
   "execution_count": null,
   "metadata": {
    "collapsed": true
   },
   "outputs": [],
   "source": []
  },
  {
   "cell_type": "code",
   "execution_count": null,
   "metadata": {
    "collapsed": true
   },
   "outputs": [],
   "source": []
  },
  {
   "cell_type": "code",
   "execution_count": null,
   "metadata": {
    "collapsed": false,
    "scrolled": true
   },
   "outputs": [],
   "source": [
    "phi = Variable()\n",
    "w1 = Variable()\n",
    "w2 = Variable()\n",
    "\n",
    "gamma = 0.95\n",
    "alpha = 0.2\n",
    "beta = 0.9048\n",
    "dbeta = 0.54\n",
    "\n",
    "objective = Minimize(phi)\n",
    "constraints = []\n",
    "constraints += [phi >= 0]\n",
    "\n",
    "for i in range(2**12):\n",
    "    x = bin(i)[2:].zfill(12)\n",
    "    \n",
    "    fi = 0\n",
    "    n_j_h = 0\n",
    "    fj = {}\n",
    "    for idx in range(4):result = problem.solve()\n",
    "print(\"problem status: %s\" %problem.status)\n",
    "print(\"error: %0.4f\" %problem.value)\n",
    "print(\"weight(s): %0.4f\" %w.value)\n",
    "        fj[\"%d\"%(idx)] = 0\n",
    "        if x[idx] == \"0\":\n",
    "            n_j_h += 1\n",
    "        elif x[idx] == \"1\":\n",
    "            fi += 1\n",
    "            \n",
    "    if x[4] == \"1\":\n",
    "        fj[\"0\"] += 1\n",
    "        fj[\"3\"] += 1\n",
    "    if x[5] == \"1\":\n",
    "        fj[\"0\"] += 1\n",
    "    if x[6] == \"1\":\n",
    "        fj[\"0\"] += 1\n",
    "        fj[\"1\"] += 1\n",
    "    if x[7] == \"1\":\n",
    "        fj[\"1\"] += 1\n",
    "    if x[8] == \"1\":\n",
    "        fj[\"1\"] += 1\n",
    "        fj[\"2\"] += 1\n",
    "    if x[9] == \"1\":\n",
    "        fj[\"2\"] += 1\n",
    "    if x[10] == \"1\":\n",
    "        fj[\"2\"] += 1\n",
    "        fj[\"3\"] += 1\n",
    "    if x[11] == \"1\":\n",
    "        fj[\"3\"] += 1\n",
    "        \n",
    "    twosum = 0\n",
    "    for idx in range(4):\n",
    "        if x[idx] == \"0\":\n",
    "            twosum += 1 - alpha*fj[\"%d\"%idx]\n",
    "            \n",
    "    constraints += [phi >=  w1+w2*n_j_h - ((1-alpha*fi)*(1-alpha*(beta-dbeta)*fi+gamma*w1) + gamma*w2*twosum)]\n",
    "    constraints += [phi >= -w1-w2*n_j_h + ((1-alpha*fi)*(1-alpha*(beta-dbeta)*fi+gamma*w1) + gamma*w2*twosum)]\n",
    "\n",
    "    \n",
    "problem = Problem(objective, constraints)\n",
    "print(\"number of constraints: %d\" %len(constraints))"
   ]
  },
  {
   "cell_type": "code",
   "execution_count": null,
   "metadata": {
    "collapsed": false
   },
   "outputs": [],
   "source": [
    "result = problem.solve()\n",
    "print(\"problem status: %s\" %problem.status)\n",
    "print(\"error: %0.4f\" %problem.value)\n",
    "print(\"weight(s): \")\n",
    "print(w1.value)\n",
    "print(w2.value)"
   ]
  },
  {
   "cell_type": "code",
   "execution_count": null,
   "metadata": {
    "collapsed": true
   },
   "outputs": [],
   "source": []
  },
  {
   "cell_type": "code",
   "execution_count": null,
   "metadata": {
    "collapsed": true
   },
   "outputs": [],
   "source": []
  },
  {
   "cell_type": "markdown",
   "metadata": {},
   "source": [
    "## Computational Examples"
   ]
  },
  {
   "cell_type": "code",
   "execution_count": 4,
   "metadata": {
    "collapsed": true
   },
   "outputs": [],
   "source": [
    "gamma = 0.95\n",
    "alpha = 0.2\n",
    "beta = 0.9048\n",
    "dbeta = 0.54"
   ]
  },
  {
   "cell_type": "markdown",
   "metadata": {
    "collapsed": true
   },
   "source": [
    "### First example"
   ]
  },
  {
   "cell_type": "markdown",
   "metadata": {},
   "source": [
    "Basis functions: $v_{w}(x) = \\sum_{i=1}^{n} w_{1} + w_{2}\\textbf{1}(x_{i}=H)$\n",
    "\n",
    "Reward: $R(x,a,x')= \\sum_{i=1}^{n} \\textbf{1}(x'_{i} = H)(1-\\alpha f'_{i})$"
   ]
  },
  {
   "cell_type": "code",
   "execution_count": 3,
   "metadata": {
    "collapsed": false,
    "scrolled": false
   },
   "outputs": [
    {
     "name": "stdout",
     "output_type": "stream",
     "text": [
      "number of constraints: 7299\n"
     ]
    }
   ],
   "source": [
    "phi = Variable()\n",
    "w = Variable(2)\n",
    "\n",
    "objective = Minimize(phi)\n",
    "constraints = []\n",
    "constraints += [phi >= 0]\n",
    "constraints += [phi >=  gamma*w[0] - w[0]]\n",
    "constraints += [phi >= -gamma*w[0] + w[0]]\n",
    "\n",
    "for j in range(3**4):\n",
    "    xj = np.base_repr(j,base=3).zfill(4)\n",
    "    fi = xj.count('1')\n",
    "    hi = xj.count('0')\n",
    "    \n",
    "    fj = {}\n",
    "    for idx in range(4):\n",
    "        fj[idx] = 0\n",
    "        \n",
    "    if hi == 0:\n",
    "        fj_sum = 0\n",
    "        for a in range(fi+1):\n",
    "            if a == 0:\n",
    "                constraints += [phi >= w[0]+w[1] - (1-alpha*fi)*(1-alpha*(alpha*fj_sum + fi*beta - a*dbeta))-gamma*w[0]-gamma*w[1]*(1-alpha*fi)]\n",
    "\n",
    "            constraints += [phi >= -w[0]-w[1] + (1-alpha*fi)*(1-alpha*(alpha*fj_sum + fi*beta - a*dbeta))+gamma*w[0]+gamma*w[1]*(1-alpha*fi)]\n",
    "            \n",
    "    if hi == 1:\n",
    "        for c in range(4):\n",
    "            fj_sum = c\n",
    "            \n",
    "            for a in range(fi+1):\n",
    "                if a == 0:\n",
    "                    constraints += [phi >= w[0]+w[1] - (1-alpha*fi)*(1-alpha*(alpha*fj_sum + fi*beta - a*dbeta))-gamma*w[0]-gamma*w[1]*(1-alpha*fi)]\n",
    "\n",
    "                constraints += [phi >= -w[0]-w[1] + (1-alpha*fi)*(1-alpha*(alpha*fj_sum + fi*beta - a*dbeta))+gamma*w[0]+gamma*w[1]*(1-alpha*fi)]\n",
    "            \n",
    "    if hi == 2:\n",
    "        for c1 in range(4):\n",
    "            for c2 in range(4):\n",
    "                fj_sum = c1+c2\n",
    "                \n",
    "                for a in range(fi+1):\n",
    "                    if a == 0:\n",
    "                        constraints += [phi >= w[0]+w[1] - (1-alpha*fi)*(1-alpha*(alpha*fj_sum + fi*beta - a*dbeta))-gamma*w[0]-gamma*w[1]*(1-alpha*fi)]\n",
    "\n",
    "                    constraints += [phi >= -w[0]-w[1] + (1-alpha*fi)*(1-alpha*(alpha*fj_sum + fi*beta - a*dbeta))+gamma*w[0]+gamma*w[1]*(1-alpha*fi)]\n",
    "                        \n",
    "    if hi >= 3:\n",
    "        for k in range(2**8):\n",
    "            xk = np.base_repr(k, base=2).zfill(8)\n",
    "            fj[0] = xk[0:3].count('1')\n",
    "            fj[1] = xk[2:5].count('1')\n",
    "            fj[2] = xk[4:7].count('1')\n",
    "            fj[3] = xk[6:8].count('1') + (xk[0]=='1')\n",
    "            \n",
    "            fj_sum = sum(fj.values())\n",
    "            for a in range(fi+1):\n",
    "                if a == 0:\n",
    "                    constraints += [phi >= w[0]+w[1] - (1-alpha*fi)*(1-alpha*(alpha*fj_sum + fi*beta - a*dbeta))-gamma*w[0]-gamma*w[1]*(1-alpha*fi)]\n",
    "\n",
    "                constraints += [phi >= -w[0]-w[1] + (1-alpha*fi)*(1-alpha*(alpha*fj_sum + fi*beta - a*dbeta))+gamma*w[0]+gamma*w[1]*(1-alpha*fi)]\n",
    "\n",
    "#     for a in range(fi+1):\n",
    "#         if hi == 1:\n",
    "#             for cnt in range(4):\n",
    "#                 #fj[0] = cnt\n",
    "\n",
    "#                 fj_sum = cnt\n",
    "#                 constraints += [phi >=  (1-alpha*fi)*(1-alpha*(alpha*fj_sum + fi*beta - a*dbeta)) + \n",
    "#                                 gamma*w[1]*(1-alpha*fi) + gamma*w[0] - w[1] - w[0]]\n",
    "#                 if a == 0:\n",
    "#                     constraints += [phi >= -(1-alpha*fi)*(1-alpha*(alpha*fj_sum + fi*beta - a*dbeta)) -\n",
    "#                                     gamma*w[1]*(1-alpha*fi) - gamma*w[0] + w[1] + w[0]]\n",
    "\n",
    "#         elif hi == 2:\n",
    "#             for cnt1 in range(4):\n",
    "#                 fj[0] = cnt1\n",
    "#                 for cnt2 in range(4):\n",
    "#                     fj[1] = cnt2    \n",
    "\n",
    "#                     fj_sum = sum(fj.values())\n",
    "#                     constraints += [phi >=  (1-alpha*fi)*(1-alpha*(alpha*fj_sum + fi*beta - a*dbeta)) + \n",
    "#                                     gamma*w[1]*(1-alpha*fi) + gamma*w[0] - w[1] - w[0]]\n",
    "#                     if a == 0:\n",
    "#                         constraints += [phi >= -(1-alpha*fi)*(1-(alpha**2)*fj_sum - alpha*fi*beta + alpha*a*dbeta) -\n",
    "#                                         gamma*w[1]*(1-alpha*fi) - gamma*w[0] + w[1] + w[0]]\n",
    "\n",
    "#         elif hi == 3:\n",
    "#             for k in range(2**7):\n",
    "#                 xk = np.base_repr(k, base=2).zfill(8)\n",
    "#                 fj[0] = xk[0:3].count('1')\n",
    "#                 fj[1] = xk[2:5].count('1')\n",
    "#                 fj[2] = xk[4:7].count('1')\n",
    "\n",
    "#                 fj_sum = sum(fj.values())\n",
    "#                 constraints += [phi >=  (1-alpha*fi)*(1-alpha*(alpha*fj_sum + fi*beta - a*dbeta)) + \n",
    "#                                 gamma*w[1]*(1-alpha*fi) + gamma*w[0] - w[1] - w[0]]\n",
    "#                 if a == 0:\n",
    "#                     constraints += [phi >= -(1-alpha*fi)*(1-(alpha**2)*fj_sum - alpha*fi*beta + alpha*a*dbeta) -\n",
    "#                                     gamma*w[1]*(1-alpha*fi) - gamma*w[0] + w[1] + w[0]]\n",
    "\n",
    "#         elif hi == 4:\n",
    "#             for k in range(2**8):\n",
    "#                 xk = np.base_repr(k, base=2).zfill(8)\n",
    "#                 fj[0] = xk[0:3].count('1')\n",
    "#                 fj[1] = xk[2:5].count('1')\n",
    "#                 fj[2] = xk[4:7].count('1')\n",
    "#                 fj[3] = xk[6:8].count('1') + xk[0].count('1')\n",
    "\n",
    "#                 fj_sum = sum(fj.values())\n",
    "#                 constraints += [phi >=  (1-alpha*fi)*(1-alpha*(alpha*fj_sum + fi*beta - a*dbeta)) + \n",
    "#                                 gamma*w[1]*(1-alpha*fi) + gamma*w[0] - w[1] - w[0]]\n",
    "#                 if a == 0:\n",
    "#                     constraints += [phi >= -(1-alpha*fi)*(1-(alpha**2)*fj_sum - alpha*fi*beta + alpha*a*dbeta) -\n",
    "#                                     gamma*w[1]*(1-alpha*fi) - gamma*w[0] + w[1] + w[0]]\n",
    "\n",
    "problem = Problem(objective, constraints)\n",
    "print(\"number of constraints: %d\" %len(constraints))"
   ]
  },
  {
   "cell_type": "code",
   "execution_count": 4,
   "metadata": {
    "collapsed": false
   },
   "outputs": [
    {
     "name": "stdout",
     "output_type": "stream",
     "text": [
      "problem status: optimal\n",
      "error: 0.4983\n",
      "weight(s): \n",
      "[[ 9.96590617]\n",
      " [ 0.06818765]]\n"
     ]
    }
   ],
   "source": [
    "result = problem.solve()\n",
    "print(\"problem status: %s\" %problem.status)\n",
    "print(\"error: %0.4f\" %problem.value)\n",
    "print(\"weight(s): \")\n",
    "print(w.value)"
   ]
  },
  {
   "cell_type": "code",
   "execution_count": null,
   "metadata": {
    "collapsed": true
   },
   "outputs": [],
   "source": []
  },
  {
   "cell_type": "code",
   "execution_count": null,
   "metadata": {
    "collapsed": false
   },
   "outputs": [],
   "source": [
    "phi = Variable()\n",
    "w = Variable(2)\n",
    "\n",
    "objective = Minimize(phi)\n",
    "constraints = []\n",
    "constraints += [phi >=  w[0] - gamma*w[0]]\n",
    "constraints += [phi >= -w[0] + gamma*w[0]]\n",
    "\n",
    "for j in range(3**4): \n",
    "    xj = np.base_repr(j, base=3).zfill(4)\n",
    "    fi = xj.count('1')\n",
    "    hi = xj.count('0')\n",
    "\n",
    "    for k in range(2**8):\n",
    "        xk = np.base_repr(k, base=2).zfill(8)\n",
    "\n",
    "        fj = {}\n",
    "        for j_ind in range(4):\n",
    "            fj[j_ind] = 0\n",
    "        fj[0] = xk[0:2].count('1') + xk[7].count('1')\n",
    "        fj[1] = xk[1:4].count('1')\n",
    "        fj[2] = xk[3:6].count('1')\n",
    "        fj[3] = xk[5:8].count('1')\n",
    "        \n",
    "        sm_base = fi*beta\n",
    "        for idx in range(4):\n",
    "            sm_base += (xj[idx]=='0')*alpha*fj[idx]\n",
    "\n",
    "        for a in range(fi+1):            \n",
    "            sm = sm_base - a*dbeta\n",
    "            \n",
    "            if a == 0:\n",
    "                constraints += [phi >= w[0]+w[1] - (1-alpha*fi)*(1-alpha*sm)-gamma*w[0]-gamma*w[1]*(1-alpha*fi)]\n",
    "\n",
    "            constraints += [phi >= (1-alpha*fi)*(1-alpha*sm)+gamma*w[0]+gamma*w[1]*(1-alpha*fi) - w[0]-w[1]]\n",
    "                    \n",
    "problem = Problem(objective, constraints)\n",
    "print(\"number of constraints: %d\" %len(constraints))"
   ]
  },
  {
   "cell_type": "code",
   "execution_count": null,
   "metadata": {
    "collapsed": false
   },
   "outputs": [],
   "source": [
    "result = problem.solve()\n",
    "print(\"problem status: %s\" %problem.status)\n",
    "print(\"error: %0.4f\" %problem.value)\n",
    "print(\"weight(s): \")\n",
    "print(w.value)"
   ]
  },
  {
   "cell_type": "code",
   "execution_count": null,
   "metadata": {
    "collapsed": true
   },
   "outputs": [],
   "source": []
  },
  {
   "cell_type": "code",
   "execution_count": 24,
   "metadata": {
    "collapsed": false
   },
   "outputs": [
    {
     "name": "stdout",
     "output_type": "stream",
     "text": [
      "number of constraints: 6036\n"
     ]
    }
   ],
   "source": [
    "phi = Variable()\n",
    "w = Variable(2)\n",
    "\n",
    "objective = Minimize(phi)\n",
    "constraints = []\n",
    "# constraints += [w[0] == 0]\n",
    "\n",
    "for i in [0,1,2]:\n",
    "    for hi in range(5):\n",
    "        for fi in range(5-hi):\n",
    "            \n",
    "            fj = {}\n",
    "            for idx in range(4):\n",
    "                fj[idx] = 0\n",
    "        \n",
    "            if hi == 0:\n",
    "                fj_sum = 0\n",
    "                \n",
    "                for a in range(fi+1):\n",
    "                    if a == 0:\n",
    "                        constraints += [phi >= w[0]+w[1]*(i==0) -\n",
    "                                       (i==0)*(1-alpha*fi)*(1-alpha*(alpha*fj_sum+fi*beta-a*dbeta)) -\n",
    "                                       gamma*w[0]-gamma*w[1]*(i==0)*(1-alpha*fi)]\n",
    "                    \n",
    "                    constraints += [phi >= -w[0]-w[1]*(i==0) + \n",
    "                                    (i==0)*(1-alpha*fi)*(1-alpha*(alpha*fj_sum+fi*beta-a*dbeta)) + \n",
    "                                    gamma*w[0]+gamma*w[1]*(i==0)*(1-alpha*fi)]\n",
    "                \n",
    "            elif hi == 1:\n",
    "                for fj_sum in range(4):\n",
    "                    \n",
    "                    for a in range(fi+1):      \n",
    "                        if a == 0:\n",
    "                            constraints += [phi >= w[0]+w[1]*(i==0) -\n",
    "                                           (i==0)*(1-alpha*fi)*(1-alpha*(alpha*fj_sum+fi*beta-a*dbeta)) -\n",
    "                                           gamma*w[0]-gamma*w[1]*(i==0)*(1-alpha*fi)]\n",
    "\n",
    "                        constraints += [phi >= -w[0]-w[1]*(i==0) + \n",
    "                                        (i==0)*(1-alpha*fi)*(1-alpha*(alpha*fj_sum+fi*beta-a*dbeta)) + \n",
    "                                        gamma*w[0]+gamma*w[1]*(i==0)*(1-alpha*fi)]\n",
    "                \n",
    "            elif hi == 2:\n",
    "                for c1 in range(4):\n",
    "                    for c2 in range(4):\n",
    "                        fj_sum = c1+c2\n",
    "                        \n",
    "                        for a in range(fi+1):      \n",
    "                            if a == 0:\n",
    "                                constraints += [phi >= w[0]+w[1]*(i==0) -\n",
    "                                               (i==0)*(1-alpha*fi)*(1-alpha*(alpha*fj_sum+fi*beta-a*dbeta)) -\n",
    "                                               gamma*w[0]-gamma*w[1]*(i==0)*(1-alpha*fi)]\n",
    "\n",
    "                            constraints += [phi >= -w[0]-w[1]*(i==0) + \n",
    "                                            (i==0)*(1-alpha*fi)*(1-alpha*(alpha*fj_sum+fi*beta-a*dbeta)) + \n",
    "                                            gamma*w[0]+gamma*w[1]*(i==0)*(1-alpha*fi)]\n",
    "                \n",
    "            elif hi >= 3:\n",
    "                 for k in range(2**8):\n",
    "                    xk = np.base_repr(k, base=2).zfill(8)\n",
    "                    fj[0] = xk[0:3].count('1')\n",
    "                    fj[1] = xk[2:5].count('1')\n",
    "                    fj[2] = xk[4:7].count('1')\n",
    "                    fj[3] = xk[6:8].count('1') + (xk[0]=='1')\n",
    "                    \n",
    "                    fj_sum = sum(fj.values())\n",
    "                    for a in range(fi+1):      \n",
    "                        if a == 0:\n",
    "                            constraints += [phi >= w[0]+w[1]*(i==0) -\n",
    "                                           (i==0)*(1-alpha*fi)*(1-alpha*(alpha*fj_sum+fi*beta-a*dbeta)) -\n",
    "                                           gamma*w[0]-gamma*w[1]*(i==0)*(1-alpha*fi)]\n",
    "\n",
    "                        constraints += [phi >= -w[0]-w[1]*(i==0) + \n",
    "                                        (i==0)*(1-alpha*fi)*(1-alpha*(alpha*fj_sum+fi*beta-a*dbeta)) + \n",
    "                                        gamma*w[0]+gamma*w[1]*(i==0)*(1-alpha*fi)]    \n",
    "                    \n",
    "problem = Problem(objective, constraints)\n",
    "print(\"number of constraints: %d\" %len(constraints))"
   ]
  },
  {
   "cell_type": "code",
   "execution_count": 25,
   "metadata": {
    "collapsed": false
   },
   "outputs": [
    {
     "name": "stdout",
     "output_type": "stream",
     "text": [
      "problem status: optimal\n",
      "error: 0.4983\n",
      "weight(s): \n",
      "[[ 9.96590617]\n",
      " [ 0.06818765]]\n"
     ]
    }
   ],
   "source": [
    "result = problem.solve()\n",
    "print(\"problem status: %s\" %problem.status)\n",
    "print(\"error: %0.4f\" %problem.value)\n",
    "print(\"weight(s): \")\n",
    "print(w.value)"
   ]
  },
  {
   "cell_type": "code",
   "execution_count": null,
   "metadata": {
    "collapsed": true
   },
   "outputs": [],
   "source": []
  },
  {
   "cell_type": "code",
   "execution_count": null,
   "metadata": {
    "collapsed": true
   },
   "outputs": [],
   "source": []
  },
  {
   "cell_type": "markdown",
   "metadata": {},
   "source": [
    "### Second example"
   ]
  },
  {
   "cell_type": "markdown",
   "metadata": {},
   "source": [
    "Basis functions: $v_{w} = \\sum_{i=1}^{n} w_{1} + w_{2}\\textbf{1}(x_{i}=H) + w_{3}\\textbf{1}(x_{i}=H)\\sum_{j\\in N(i)}\\textbf{1}(x_{j}=F)$\n",
    "\n",
    "Reward: $R(x,a,x') = \\sum_{i=1}^{n} \\textbf{1}(x'_{i}=H)(1-\\alpha f'_{i})$"
   ]
  },
  {
   "cell_type": "code",
   "execution_count": 14,
   "metadata": {
    "collapsed": false
   },
   "outputs": [
    {
     "name": "stdout",
     "output_type": "stream",
     "text": [
      "number of constraints: 6036\n"
     ]
    }
   ],
   "source": [
    "phi = Variable()\n",
    "w = Variable(3)\n",
    "objective = Minimize(phi)\n",
    "constraints = []\n",
    "\n",
    "for i in [0,1,2]:\n",
    "    for hi in range(5):\n",
    "        for fi in range(5-hi):\n",
    "            \n",
    "            fj = {}\n",
    "            for idx in range(4):\n",
    "                fj[idx] = 0\n",
    "            \n",
    "            if hi == 0:\n",
    "                fj_sum = 0\n",
    "                for a in range(fi+1):\n",
    "                    \n",
    "                    if a == 0:\n",
    "                        constraints += [phi >= w[0]+w[1]*(i==0)+w[2]*fi*(i==0) -\n",
    "                                        (i==0)*(1-alpha*fi)*(1-alpha*(alpha*fj_sum+fi*beta-a*dbeta)) - \n",
    "                                        gamma*w[0]-gamma*w[1]*(i==0)*(1-alpha*fi) -\n",
    "                                        gamma*w[2]*(alpha*fj_sum+fi*beta-a*dbeta)*(i==0)*(1-alpha*fi)]\n",
    "                        \n",
    "                    constraints += [phi >= -w[0]-w[1]*(i==0)-w[2]*fi*(i==0) +\n",
    "                                    (i==0)*(1-alpha*fi)*(1-alpha*(alpha*fj_sum+fi*beta-a*dbeta)) +\n",
    "                                    gamma*w[0]+gamma*w[1]*(i==0)*(1-alpha*fi) +\n",
    "                                    gamma*w[2]*(alpha*fj_sum+fi*beta-a*dbeta)*(i==0)*(1-alpha*fi)]\n",
    "                    \n",
    "            elif hi == 1:\n",
    "                for fj_sum in range(4):\n",
    "                    for a in range(fi+1):\n",
    "                        \n",
    "                        if a == 0:\n",
    "                            constraints += [phi >= w[0]+w[1]*(i==0)+w[2]*fi*(i==0) -\n",
    "                                            (i==0)*(1-alpha*fi)*(1-alpha*(alpha*fj_sum+fi*beta-a*dbeta)) - \n",
    "                                            gamma*w[0]-gamma*w[1]*(i==0)*(1-alpha*fi) -\n",
    "                                            gamma*w[2]*(alpha*fj_sum+fi*beta-a*dbeta)*(i==0)*(1-alpha*fi)]\n",
    "\n",
    "                        constraints += [phi >= -w[0]-w[1]*(i==0)-w[2]*fi*(i==0) +\n",
    "                                        (i==0)*(1-alpha*fi)*(1-alpha*(alpha*fj_sum+fi*beta-a*dbeta)) +\n",
    "                                        gamma*w[0]+gamma*w[1]*(i==0)*(1-alpha*fi) +\n",
    "                                        gamma*w[2]*(alpha*fj_sum+fi*beta-a*dbeta)*(i==0)*(1-alpha*fi)]       \n",
    "                \n",
    "            elif hi == 2:\n",
    "                for c1 in range(4):\n",
    "                    for c2 in range(4):\n",
    "                        fj_sum = c1 + c2\n",
    "                        \n",
    "                        for a in range(fi+1):\n",
    "                            if a == 0:\n",
    "                                constraints += [phi >= w[0]+w[1]*(i==0)+w[2]*fi*(i==0) -\n",
    "                                                (i==0)*(1-alpha*fi)*(1-alpha*(alpha*fj_sum+fi*beta-a*dbeta)) - \n",
    "                                                gamma*w[0]-gamma*w[1]*(i==0)*(1-alpha*fi) -\n",
    "                                                gamma*w[2]*(alpha*fj_sum+fi*beta-a*dbeta)*(i==0)*(1-alpha*fi)]\n",
    "\n",
    "                            constraints += [phi >= -w[0]-w[1]*(i==0)-w[2]*fi*(i==0) +\n",
    "                                            (i==0)*(1-alpha*fi)*(1-alpha*(alpha*fj_sum+fi*beta-a*dbeta)) +\n",
    "                                            gamma*w[0]+gamma*w[1]*(i==0)*(1-alpha*fi) +\n",
    "                                            gamma*w[2]*(alpha*fj_sum+fi*beta-a*dbeta)*(i==0)*(1-alpha*fi)]\n",
    "            elif hi >= 3:\n",
    "                for k in range(2**8):\n",
    "                    xk = np.base_repr(k, base=2).zfill(8)\n",
    "                    fj[0] = xk[0:3].count('1')\n",
    "                    fj[1] = xk[2:5].count('1')\n",
    "                    fj[2] = xk[4:7].count('1')\n",
    "                    fj[3] = xk[6:8].count('1') + (xk[0]=='1')\n",
    "                    fj_sum = sum(fj.values())\n",
    "                    \n",
    "                    for a in range(fi+1):\n",
    "                        if a == 0:\n",
    "                            constraints += [phi >= w[0]+w[1]*(i==0)+w[2]*fi*(i==0) -\n",
    "                                            (i==0)*(1-alpha*fi)*(1-alpha*(alpha*fj_sum+fi*beta-a*dbeta)) - \n",
    "                                            gamma*w[0]-gamma*w[1]*(i==0)*(1-alpha*fi) -\n",
    "                                            gamma*w[2]*(alpha*fj_sum+fi*beta-a*dbeta)*(i==0)*(1-alpha*fi)]\n",
    "\n",
    "                        constraints += [phi >= -w[0]-w[1]*(i==0)-w[2]*fi*(i==0) +\n",
    "                                        (i==0)*(1-alpha*fi)*(1-alpha*(alpha*fj_sum+fi*beta-a*dbeta)) +\n",
    "                                        gamma*w[0]+gamma*w[1]*(i==0)*(1-alpha*fi) +\n",
    "                                        gamma*w[2]*(alpha*fj_sum+fi*beta-a*dbeta)*(i==0)*(1-alpha*fi)]\n",
    "\n",
    "problem = Problem(objective, constraints)\n",
    "print(\"number of constraints: %d\" %len(constraints))                    "
   ]
  },
  {
   "cell_type": "code",
   "execution_count": 15,
   "metadata": {
    "collapsed": false
   },
   "outputs": [
    {
     "name": "stdout",
     "output_type": "stream",
     "text": [
      "problem status: optimal\n",
      "error: 0.4878\n",
      "weight(s): \n",
      "[[ 9.75688137]\n",
      " [ 0.48623725]\n",
      " [-0.10222953]]\n"
     ]
    }
   ],
   "source": [
    "result = problem.solve()\n",
    "print(\"problem status: %s\" %problem.status)\n",
    "print(\"error: %0.4f\" %problem.value)\n",
    "print(\"weight(s): \")\n",
    "print(w.value)"
   ]
  },
  {
   "cell_type": "code",
   "execution_count": null,
   "metadata": {
    "collapsed": true
   },
   "outputs": [],
   "source": []
  },
  {
   "cell_type": "code",
   "execution_count": null,
   "metadata": {
    "collapsed": true
   },
   "outputs": [],
   "source": []
  },
  {
   "cell_type": "markdown",
   "metadata": {},
   "source": [
    "### 3rd example"
   ]
  },
  {
   "cell_type": "markdown",
   "metadata": {},
   "source": [
    "Basis functions: $v_{w}(x) = \\sum_{i=1}^{n} w_{1} + w_{2}\\textbf{1}(x_{i}=H) + w_{3}\\textbf{1}(x_{i}=H)\\sum_{j\\in N(i)} \\textbf{1}(x_{j}=H)$\n",
    "\n",
    "Reward: $R(x,a,x')= \\sum_{i=1}^{n} \\textbf{1}(x'_{i} = H)(1-\\alpha f'_{i})$"
   ]
  },
  {
   "cell_type": "code",
   "execution_count": 43,
   "metadata": {
    "collapsed": false
   },
   "outputs": [
    {
     "name": "stdout",
     "output_type": "stream",
     "text": [
      "number of constraints: 6036\n"
     ]
    }
   ],
   "source": [
    "phi = Variable()\n",
    "w = Variable(3)\n",
    "\n",
    "objective = Minimize(phi)\n",
    "constraints = []\n",
    "\n",
    "for i in [0,1,2]:\n",
    "    for hi in range(5):\n",
    "        for fi in range(5-hi):\n",
    "            \n",
    "            fj = {}\n",
    "            for idx in range(4):\n",
    "                fj[idx] = 0\n",
    "            \n",
    "            if hi == 0:\n",
    "                fj_sum = 0\n",
    "                for a in range(fi+1):\n",
    "                    \n",
    "                    if a == 0:\n",
    "                        constraints += [phi >= w[0]+w[1]*(i==0)+w[2]*hi*(i==0) -\n",
    "                                        (i==0)*(1-alpha*fi)*(1-alpha*(alpha*fj_sum+fi*beta-a*dbeta)) - \n",
    "                                        gamma*w[0]-gamma*w[1]*(i==0)*(1-alpha*fi) -\n",
    "                                        gamma*w[2]*(hi-alpha*fj_sum)*(i==0)*(1-alpha*fi)]\n",
    "                        \n",
    "                    constraints += [phi >= -w[0]-w[1]*(i==0)-w[2]*fi*(i==0) +\n",
    "                                    (i==0)*(1-alpha*fi)*(1-alpha*(alpha*fj_sum+fi*beta-a*dbeta)) +\n",
    "                                    gamma*w[0]+gamma*w[1]*(i==0)*(1-alpha*fi) +\n",
    "                                    gamma*w[2]*(hi-alpha*fj_sum)*(i==0)*(1-alpha*fi)]\n",
    "                    \n",
    "            elif hi == 1:\n",
    "                for fj_sum in range(4):\n",
    "                    for a in range(fi+1):\n",
    "                        \n",
    "                        if a == 0:     \n",
    "                            constraints += [phi >= w[0]+w[1]*(i==0)+w[2]*hi*(i==0) -\n",
    "                                        (i==0)*(1-alpha*fi)*(1-alpha*(alpha*fj_sum+fi*beta-a*dbeta)) - \n",
    "                                        gamma*w[0]-gamma*w[1]*(i==0)*(1-alpha*fi) -\n",
    "                                        gamma*w[2]*(hi-alpha*fj_sum)*(i==0)*(1-alpha*fi)]\n",
    "                        \n",
    "                        constraints += [phi >= -w[0]-w[1]*(i==0)-w[2]*fi*(i==0) +\n",
    "                                        (i==0)*(1-alpha*fi)*(1-alpha*(alpha*fj_sum+fi*beta-a*dbeta)) +\n",
    "                                        gamma*w[0]+gamma*w[1]*(i==0)*(1-alpha*fi) +\n",
    "                                        gamma*w[2]*(hi-alpha*fj_sum)*(i==0)*(1-alpha*fi)]\n",
    "                \n",
    "            elif hi == 2:\n",
    "                for c1 in range(4):\n",
    "                    for c2 in range(4):\n",
    "                        fj_sum = c1 + c2\n",
    "                        \n",
    "                        for a in range(fi+1):\n",
    "                            if a == 0:\n",
    "                                constraints += [phi >= w[0]+w[1]*(i==0)+w[2]*hi*(i==0) -\n",
    "                                            (i==0)*(1-alpha*fi)*(1-alpha*(alpha*fj_sum+fi*beta-a*dbeta)) - \n",
    "                                            gamma*w[0]-gamma*w[1]*(i==0)*(1-alpha*fi) -\n",
    "                                            gamma*w[2]*(hi-alpha*fj_sum)*(i==0)*(1-alpha*fi)]\n",
    "\n",
    "                            constraints += [phi >= -w[0]-w[1]*(i==0)-w[2]*fi*(i==0) +\n",
    "                                            (i==0)*(1-alpha*fi)*(1-alpha*(alpha*fj_sum+fi*beta-a*dbeta)) +\n",
    "                                            gamma*w[0]+gamma*w[1]*(i==0)*(1-alpha*fi) +\n",
    "                                            gamma*w[2]*(hi-alpha*fj_sum)*(i==0)*(1-alpha*fi)]\n",
    "\n",
    "\n",
    "            elif hi >= 3:\n",
    "                for k in range(2**8):\n",
    "                    xk = np.base_repr(k, base=2).zfill(8)\n",
    "                    fj[0] = xk[0:3].count('1')\n",
    "                    fj[1] = xk[2:5].count('1')\n",
    "                    fj[2] = xk[4:7].count('1')\n",
    "                    fj[3] = xk[6:8].count('1') + (xk[0]=='1')\n",
    "                    fj_sum = sum(fj.values())\n",
    "                    \n",
    "                    for a in range(fi+1):\n",
    "                        if a == 0:\n",
    "                            constraints += [phi >= w[0]+w[1]*(i==0)+w[2]*hi*(i==0) -\n",
    "                                            (i==0)*(1-alpha*fi)*(1-alpha*(alpha*fj_sum+fi*beta-a*dbeta)) - \n",
    "                                            gamma*w[0]-gamma*w[1]*(i==0)*(1-alpha*fi) -\n",
    "                                            gamma*w[2]*(hi-alpha*fj_sum)*(i==0)*(1-alpha*fi)]\n",
    "\n",
    "                        constraints += [phi >= -w[0]-w[1]*(i==0)-w[2]*fi*(i==0) +\n",
    "                                        (i==0)*(1-alpha*fi)*(1-alpha*(alpha*fj_sum+fi*beta-a*dbeta)) +\n",
    "                                        gamma*w[0]+gamma*w[1]*(i==0)*(1-alpha*fi) +\n",
    "                                        gamma*w[2]*(hi-alpha*fj_sum)*(i==0)*(1-alpha*fi)]\n",
    "\n",
    "\n",
    "problem = Problem(objective, constraints)\n",
    "print(\"number of constraints: %d\" %len(constraints)) "
   ]
  },
  {
   "cell_type": "code",
   "execution_count": 44,
   "metadata": {
    "collapsed": false
   },
   "outputs": [
    {
     "name": "stdout",
     "output_type": "stream",
     "text": [
      "problem status: optimal\n",
      "error: 0.4983\n",
      "weight(s): \n",
      "[[ 9.96590617]\n",
      " [ 0.06818765]\n",
      " [-0.13659291]]\n"
     ]
    }
   ],
   "source": [
    "result = problem.solve()\n",
    "print(\"problem status: %s\" %problem.status)\n",
    "print(\"error: %0.4f\" %problem.value)\n",
    "print(\"weight(s): \")\n",
    "print(w.value)"
   ]
  },
  {
   "cell_type": "code",
   "execution_count": null,
   "metadata": {
    "collapsed": true
   },
   "outputs": [],
   "source": []
  },
  {
   "cell_type": "code",
   "execution_count": null,
   "metadata": {
    "collapsed": true
   },
   "outputs": [],
   "source": []
  },
  {
   "cell_type": "code",
   "execution_count": null,
   "metadata": {
    "collapsed": false
   },
   "outputs": [],
   "source": [
    "phi = Variable()\n",
    "w1 = Variable()\n",
    "w2 = Variable()\n",
    "o = Variable()\n",
    "\n",
    "objective = Minimize(phi)\n",
    "constraints = []\n",
    "constraints += [phi >= 0]\n",
    "constraints += [phi >=  gamma*o - o]\n",
    "constraints += [phi >= -gamma*o + o]\n",
    "\n",
    "for i in [0,1,2]:\n",
    "    if i == 0:\n",
    "        for j in range(3**4):\n",
    "            xj = np.base_repr(j, base=3).zfill(4)\n",
    "            fi = xj.count('1')\n",
    "            hi = xj.count('0')\n",
    "            \n",
    "            fj = {}\n",
    "            for idx in range(4):\n",
    "                fj[idx] = 0\n",
    "                \n",
    "            for u in range(fi+1):\n",
    "                if hi == 0:\n",
    "                    fj_sum = 0\n",
    "                    constraints += [phi >=  (1-alpha*fi)*(1-(alpha**2)*fj_sum-alpha*fi*beta+alpha*u*dbeta) + \n",
    "                                    gamma*w1*(1-alpha*fi) + gamma*w2*hi - gamma*alpha*w2*fj_sum + gamma*o - w1 - w2*hi - o]\n",
    "                    if u == 0:\n",
    "                        constraints += [phi >= -(1-alpha*fi)*(1-(alpha**2)*fj_sum-alpha*fi*beta+alpha*0*dbeta) - \n",
    "                                        gamma*w1*(1-alpha*fi) - gamma*w2*hi + gamma*alpha*w2*fj_sum - gamma*o + w1 + w2*hi + o]\n",
    "                \n",
    "                if hi == 1:\n",
    "                    for cnt in range(5):\n",
    "                        fj[0] = cnt\n",
    "                        \n",
    "                        fj_sum = sum(fj.values())\n",
    "                        constraints += [phi >=  (1-alpha*fi)*(1-(alpha**2)*fj_sum-alpha*fi*beta+alpha*u*dbeta) + \n",
    "                                        gamma*w1*(1-alpha*fi) + gamma*w2*hi - gamma*alpha*w2*fj_sum + gamma*o - w1 - w2*hi - o]\n",
    "                        if u == 0:\n",
    "                            constraints += [phi >= -(1-alpha*fi)*(1-(alpha**2)*fj_sum-alpha*fi*beta+alpha*0*dbeta) - \n",
    "                                            gamma*w1*(1-alpha*fi) - gamma*w2*hi + gamma*alpha*w2*fj_sum - gamma*o + w1 + w2*hi + o]\n",
    "                        \n",
    "                elif hi == 2:\n",
    "                    for cnt1 in range(5):\n",
    "                        fj[0] = cnt1\n",
    "                        for cnt2 in range(5):\n",
    "                            fj[1] = cnt2    \n",
    "\n",
    "                            fj_sum = sum(fj.values())\n",
    "                            constraints += [phi >=  (1-alpha*fi)*(1-(alpha**2)*fj_sum-alpha*fi*beta+alpha*u*dbeta) + \n",
    "                                            gamma*w1*(1-alpha*fi) + gamma*w2*hi - gamma*alpha*w2*fj_sum + gamma*o - w1 - w2*hi - o]\n",
    "                            if u == 0:\n",
    "                                constraints += [phi >= -(1-alpha*fi)*(1-(alpha**2)*fj_sum-alpha*fi*beta+alpha*0*dbeta) - \n",
    "                                                gamma*w1*(1-alpha*fi) - gamma*w2*hi + gamma*alpha*w2*fj_sum - gamma*o + w1 + w2*hi + o]\n",
    "\n",
    "                elif hi == 3:\n",
    "                    for k in range(2**8):\n",
    "                        xk = np.base_repr(k, base=2).zfill(8)\n",
    "                        fj[0] = xk[0:3].count('1')\n",
    "                        fj[1] = xk[2:5].count('1')\n",
    "                        fj[2] = xk[4:7].count('1')\n",
    "\n",
    "                        fj_sum = sum(fj.values())\n",
    "                        constraints += [phi >=  (1-alpha*fi)*(1-(alpha**2)*fj_sum-alpha*fi*beta+alpha*u*dbeta) + \n",
    "                                        gamma*w1*(1-alpha*fi) + gamma*w2*hi - gamma*alpha*w2*fj_sum + gamma*o - w1 - w2*hi - o]\n",
    "                        if u == 0:\n",
    "                            constraints += [phi >= -(1-alpha*fi)*(1-(alpha**2)*fj_sum-alpha*fi*beta+alpha*0*dbeta) - \n",
    "                                            gamma*w1*(1-alpha*fi) - gamma*w2*hi + gamma*alpha*w2*fj_sum - gamma*o + w1 + w2*hi + o]\n",
    "\n",
    "                elif hi == 4:\n",
    "                    for k in range(2**8):\n",
    "                        xk = np.base_repr(k, base=2).zfill(8)\n",
    "                        fj[0] = xk[0:3].count('1')\n",
    "                        fj[1] = xk[2:5].count('1')\n",
    "                        fj[2] = xk[4:7].count('1')\n",
    "                        fj[3] = xk[6:8].count('1') + xk[0].count('1')\n",
    "\n",
    "                        fj_sum = sum(fj.values())\n",
    "                        constraints += [phi >=  (1-alpha*fi)*(1-(alpha**2)*fj_sum-alpha*fi*beta+alpha*u*dbeta) + \n",
    "                                        gamma*w1*(1-alpha*fi) + gamma*w2*hi - gamma*alpha*w2*fj_sum + gamma*o - w1 - w2*hi - o]\n",
    "                        if u == 0:\n",
    "                            constraints += [phi >= -(1-alpha*fi)*(1-(alpha**2)*fj_sum-alpha*fi*beta+alpha*0*dbeta) - \n",
    "                                            gamma*w1*(1-alpha*fi) - gamma*w2*hi + gamma*alpha*w2*fj_sum - gamma*o + w1 + w2*hi + o]\n",
    "        \n",
    "    if i == 1 or i == 2:\n",
    "        for j in range(3**4):\n",
    "            xj = np.base_repr(j, base=3).zfill(4)\n",
    "            fi = xj.count('1')\n",
    "            hi = xj.count('0')\n",
    "            \n",
    "            fj = {}\n",
    "            for idx in range(4):\n",
    "                fj[idx] = 0\n",
    "                \n",
    "            if hi == 1:\n",
    "                for cnt in range(4):\n",
    "                    fj[0] = cnt + (i-1)\n",
    "\n",
    "                    fj_sum = sum(fj.values())\n",
    "                    constraints += [phi >=  gamma*w2*hi - gamma*alpha*w2*fj_sum + gamma*o - w2*hi - o]\n",
    "                    constraints += [phi >= -gamma*w2*hi + gamma*alpha*w2*fj_sum - gamma*o + w2*hi + o]\n",
    "\n",
    "            elif hi == 2:\n",
    "                for cnt1 in range(4):\n",
    "                    fj[0] = cnt1 + (i-1)\n",
    "                    for cnt2 in range(4):\n",
    "                        fj[1] = cnt2 + (i-1)\n",
    "\n",
    "                        fj_sum = sum(fj.values())\n",
    "                        constraints += [phi >=  gamma*w2*hi - gamma*alpha*w2*fj_sum + gamma*o - w2*hi - o]\n",
    "                        constraints += [phi >= -gamma*w2*hi + gamma*alpha*w2*fj_sum - gamma*o + w2*hi + o]\n",
    "\n",
    "            elif hi == 3:\n",
    "                for k in range(2**3):\n",
    "                    xk = np.base_repr(k, base=2).zfill(8)\n",
    "                    fj[0] = xk[0:3].count('1') + (i-1)\n",
    "                    fj[1] = xk[2:5].count('1') + (i-1)\n",
    "                    fj[2] = xk[4:7].count('1') + (i-1)\n",
    "\n",
    "                    fj_sum = sum(fj.values())\n",
    "                    constraints += [phi >=  gamma*w2*hi - gamma*alpha*w2*fj_sum + gamma*o - w2*hi - o]\n",
    "                    constraints += [phi >= -gamma*w2*hi + gamma*alpha*w2*fj_sum - gamma*o + w2*hi + o]\n",
    "\n",
    "            elif hi == 4:\n",
    "                for k in range(2**4):\n",
    "                    xk = np.base_repr(k, base=2).zfill(8)\n",
    "                    fj[0] = xk[0:3].count('1') + (i-1)\n",
    "                    fj[1] = xk[2:5].count('1') + (i-1)\n",
    "                    fj[2] = xk[4:7].count('1') + (i-1)\n",
    "                    fj[3] = xk[6:8].count('1') + xk[0].count('1') + (i-1)\n",
    "\n",
    "                    fj_sum = sum(fj.values())\n",
    "                    constraints += [phi >=  gamma*w2*hi - gamma*alpha*w2*fj_sum + gamma*o - w2*hi - o]\n",
    "                    constraints += [phi >= -gamma*w2*hi + gamma*alpha*w2*fj_sum - gamma*o + w2*hi + o]        \n",
    "\n",
    "problem = Problem(objective, constraints)\n",
    "print(\"number of constraints: %d\" %len(constraints))"
   ]
  },
  {
   "cell_type": "code",
   "execution_count": null,
   "metadata": {
    "collapsed": false
   },
   "outputs": [],
   "source": [
    "result = problem.solve(solver=CVXOPT)\n",
    "print(\"problem status: %s\" %problem.status)\n",
    "print(\"error: %0.4f\" %problem.value)\n",
    "print(\"weight(s): \")\n",
    "print(\"%0.4f\" %o.value)\n",
    "print(\"%0.4f\" %w1.value)\n",
    "print(\"%0.4f\" %w2.value)"
   ]
  },
  {
   "cell_type": "code",
   "execution_count": null,
   "metadata": {
    "collapsed": true
   },
   "outputs": [],
   "source": []
  },
  {
   "cell_type": "markdown",
   "metadata": {},
   "source": [
    "### approximate Q function method"
   ]
  },
  {
   "cell_type": "markdown",
   "metadata": {},
   "source": [
    "basis functions $w_{0} + w_{1}\\textbf{1}_{H}(x_{i}^{t}) + w_{2}\\textbf{1}_{F}(x_{i}^{t}) + w_{3}a_{i}^{t}\\textbf{1}_{F}(x_{i}^{t})\\sum_{j \\in N(i)} \\textbf{1}_{H}(x_{j}^{t})(1 - \\alpha f_{j}^{t})$\n",
    "\n",
    "reward $r_{i} = \\textbf{1}_{H}(x_{i}^{t+1})(1-\\alpha f_{i}^{t+1})$"
   ]
  },
  {
   "cell_type": "code",
   "execution_count": 12,
   "metadata": {
    "collapsed": false
   },
   "outputs": [
    {
     "name": "stdout",
     "output_type": "stream",
     "text": [
      "number of constraints: 5246\n"
     ]
    }
   ],
   "source": [
    "phi = Variable()\n",
    "w = Variable(4)\n",
    "objective = Minimize(phi)\n",
    "constraints = []\n",
    "\n",
    "for i in [0,1,2]:\n",
    "    if i == 0:\n",
    "        \n",
    "        for hi in range(5):\n",
    "            for fi in range(5-hi):\n",
    "                for fj_sum in range(3*hi+(hi==3)*(-1)+(hi==4)*(-3)):\n",
    "                    for aj in range(fi+1):\n",
    "                        constraints += [phi >= w[0] + w[1] -\n",
    "                                        (1-alpha*fi)*(1-alpha*(alpha*fj_sum+fi*beta-aj*dbeta)) -\n",
    "                                        gamma*w[0] - gamma*w[1]*(1-alpha*fi) - gamma*w[2]*alpha*fi]\n",
    "\n",
    "                        constraints += [phi >= -w[0] - w[1] +\n",
    "                                        (1-alpha*fi)*(1-alpha*(alpha*fj_sum+fi*beta-aj*dbeta)) +\n",
    "                                        gamma*w[0] + gamma*w[1]*(1-alpha*fi) + gamma*w[2]*alpha*fi]\n",
    "\n",
    "    elif i == 1:\n",
    "        for ai in [0,1]:\n",
    "            for hi in range(5):\n",
    "                for k in range(2**(3*hi+(hi==3)*(-1)+(hi==4)*(-3))):\n",
    "                    fj = {}\n",
    "                    xk = np.base_repr(k, base=2).zfill(8)\n",
    "                    fj[0] = xk[0:3].count('1')\n",
    "                    fj[1] = xk[2:5].count('1')\n",
    "                    fj[2] = xk[4:7].count('1')\n",
    "                    fj[3] = xk[6:8].count('1') + (xk[0]=='1')\n",
    "                    \n",
    "                    smallsum = 0\n",
    "                    bigsum = 0\n",
    "                    for j in range(hi):\n",
    "                        smallsum += (1-alpha*fj[j])\n",
    "                        \n",
    "                        if j == 0:\n",
    "                            idxlist = [0,1,2]\n",
    "                        elif j == 1:\n",
    "                            idxlist = [2,3,4]\n",
    "                        elif j == 2:\n",
    "                            idxlist = [4,5,6]\n",
    "                        elif j == 3:\n",
    "                            idxlist = [6,7,0]\n",
    "                        \n",
    "                        for idx in idxlist:\n",
    "                            if xk[idx] == '0':\n",
    "                                for fk in range(5):\n",
    "                                    bigsum += (1-alpha*fj[j])*(1-alpha*(1-alpha*fk))\n",
    "                            else:\n",
    "                                for ak in [0,1]:\n",
    "                                    bigsum += (1-alpha*fj[j])*(1-alpha*(beta-dbeta*ak))\n",
    "                                        \n",
    "                    constraints += [phi >= w[0] + w[2] + w[3]*ai*smallsum -\n",
    "                                    0 - \n",
    "                                    gamma*w[0] - gamma*w[2]*(beta - dbeta*ai)]\n",
    "\n",
    "                    constraints += [phi >= -w[0] - w[2] - w[3]*ai*smallsum +\n",
    "                                    0 + \n",
    "                                    gamma*w[0] + gamma*w[2]*(beta - dbeta*ai)]\n",
    "\n",
    "                    constraints += [phi >= -w[0] - w[2] - w[3]*ai*smallsum +\n",
    "                                    0 +\n",
    "                                    gamma*w[0] + gamma*w[2]*(beta - dbeta*ai) +\n",
    "                                    gamma*w[3]*(beta-dbeta*ai)*bigsum]\n",
    "        \n",
    "    elif i == 2:\n",
    "        constraints += [phi >=  w[0] - gamma*w[0]]\n",
    "        constraints += [phi >= -w[0] + gamma*w[0]]\n",
    "        \n",
    "problem = Problem(objective, constraints)\n",
    "print(\"number of constraints: %d\" %len(constraints))"
   ]
  },
  {
   "cell_type": "code",
   "execution_count": 13,
   "metadata": {
    "collapsed": false
   },
   "outputs": [
    {
     "name": "stdout",
     "output_type": "stream",
     "text": [
      "problem status: optimal\n",
      "error: 0.4939\n",
      "weight(s): \n",
      "[[  9.87834839e+00]\n",
      " [  2.43303226e-01]\n",
      " [ -7.80868600e-11]\n",
      " [ -1.17985125e-01]]\n"
     ]
    }
   ],
   "source": [
    "result = problem.solve()\n",
    "print(\"problem status: %s\" %problem.status)\n",
    "print(\"error: %0.4f\" %problem.value)\n",
    "print(\"weight(s): \")\n",
    "print(w.value)"
   ]
  },
  {
   "cell_type": "code",
   "execution_count": null,
   "metadata": {
    "collapsed": true
   },
   "outputs": [],
   "source": []
  },
  {
   "cell_type": "markdown",
   "metadata": {},
   "source": [
    "### forsell et al. basis functions"
   ]
  },
  {
   "cell_type": "code",
   "execution_count": 8,
   "metadata": {
    "collapsed": false
   },
   "outputs": [
    {
     "name": "stdout",
     "output_type": "stream",
     "text": [
      "number of constraints: 6036\n"
     ]
    }
   ],
   "source": [
    "phi = Variable()\n",
    "w = Variable(3)\n",
    "objective = Minimize(phi)\n",
    "constraints = []\n",
    "\n",
    "for i in [0,1,2]:\n",
    "    for hi in range(5):\n",
    "        for fi in range(5-hi):\n",
    "            \n",
    "            fj = {}\n",
    "            for idx in range(4):\n",
    "                fj[idx] = 0\n",
    "            \n",
    "            if hi == 0:\n",
    "                fj_sum = 0\n",
    "                for a in range(fi+1):\n",
    "                    \n",
    "                    if a == 0:\n",
    "                        constraints += [phi >= w[0]*(i==0)+w[1]*(i==1)+w[2]*(i==2) -\n",
    "                                        (i==0)*(1-alpha*fi)*(1-alpha*(alpha*fj_sum+fi*beta-a*dbeta)) - \n",
    "                                        gamma*w[0]*(i==0)*(1-alpha*fi) -\n",
    "                                        gamma*w[1]*(i==1)*(alpha*fi) -\n",
    "                                        gamma*w[1]*(i==1)*(beta-dbeta*a) -\n",
    "                                        gamma*w[2]*(i==2)*(1-beta+dbeta*a) -\n",
    "                                        gamma*w[2]*(i==2)]\n",
    "                        \n",
    "                    constraints += [phi >= -w[0]*(i==0)-w[1]*(i==1)-w[2]*(i==2) +\n",
    "                                    (i==0)*(1-alpha*fi)*(1-alpha*(alpha*fj_sum+i*beta-a*dbeta)) +\n",
    "                                    gamma*w[0]*(i==0)*(1-alpha*fi) +\n",
    "                                    gamma*w[1]*(i==1)*(alpha*fi) +\n",
    "                                    gamma*w[1]*(i==1)*(beta-dbeta*a) +\n",
    "                                    gamma*w[2]*(i==2)*(1-beta+dbeta*a) +\n",
    "                                    gamma*w[2]*(i==2)]\n",
    "                    \n",
    "            elif hi == 1:\n",
    "                for fj_sum in range(4):\n",
    "                    for a in range(fi+1):\n",
    "                        if a == 0:\n",
    "                            constraints += [phi >= w[0]*(i==0)+w[1]*(i==1)+w[2]*(i==2) -\n",
    "                                            (i==0)*(1-alpha*fi)*(1-alpha*(alpha*fj_sum+fi*beta-a*dbeta)) - \n",
    "                                            gamma*w[0]*(i==0)*(1-alpha*fi) -\n",
    "                                            gamma*w[1]*(i==1)*(alpha*fi) -\n",
    "                                            gamma*w[1]*(i==1)*(beta-dbeta*a) -\n",
    "                                            gamma*w[2]*(i==2)*(1-beta+dbeta*a) -\n",
    "                                            gamma*w[2]*(i==2)]\n",
    "\n",
    "                        constraints += [phi >= -w[0]*(i==0)-w[1]*(i==1)-w[2]*(i==2) +\n",
    "                                        (i==0)*(1-alpha*fi)*(1-alpha*(alpha*fj_sum+i*beta-a*dbeta)) +\n",
    "                                        gamma*w[0]*(i==0)*(1-alpha*fi) +\n",
    "                                        gamma*w[1]*(i==1)*(alpha*fi) +\n",
    "                                        gamma*w[1]*(i==1)*(beta-dbeta*a) +\n",
    "                                        gamma*w[2]*(i==2)*(1-beta+dbeta*a) +\n",
    "                                        gamma*w[2]*(i==2)]     \n",
    "                \n",
    "            elif hi == 2:\n",
    "                for c1 in range(4):\n",
    "                    for c2 in range(4):\n",
    "                        fj_sum = c1 + c2\n",
    "                        \n",
    "                        for a in range(fi+1):\n",
    "                            if a == 0:\n",
    "                                constraints += [phi >= w[0]*(i==0)+w[1]*(i==1)+w[2]*(i==2) -\n",
    "                                                (i==0)*(1-alpha*fi)*(1-alpha*(alpha*fj_sum+fi*beta-a*dbeta)) - \n",
    "                                                gamma*w[0]*(i==0)*(1-alpha*fi) -\n",
    "                                                gamma*w[1]*(i==1)*(alpha*fi) -\n",
    "                                                gamma*w[1]*(i==1)*(beta-dbeta*a) -\n",
    "                                                gamma*w[2]*(i==2)*(1-beta+dbeta*a) -\n",
    "                                                gamma*w[2]*(i==2)]\n",
    "\n",
    "                            constraints += [phi >= -w[0]*(i==0)-w[1]*(i==1)-w[2]*(i==2) +\n",
    "                                            (i==0)*(1-alpha*fi)*(1-alpha*(alpha*fj_sum+i*beta-a*dbeta)) +\n",
    "                                            gamma*w[0]*(i==0)*(1-alpha*fi) +\n",
    "                                            gamma*w[1]*(i==1)*(alpha*fi) +\n",
    "                                            gamma*w[1]*(i==1)*(beta-dbeta*a) +\n",
    "                                            gamma*w[2]*(i==2)*(1-beta+dbeta*a) +\n",
    "                                            gamma*w[2]*(i==2)]\n",
    "            elif hi >= 3:\n",
    "                for k in range(2**8):\n",
    "                    xk = np.base_repr(k, base=2).zfill(8)\n",
    "                    fj[0] = xk[0:3].count('1')\n",
    "                    fj[1] = xk[2:5].count('1')\n",
    "                    fj[2] = xk[4:7].count('1')\n",
    "                    fj[3] = xk[6:8].count('1') + (xk[0]=='1')\n",
    "                    fj_sum = sum(fj.values())\n",
    "                    \n",
    "                    for a in range(fi+1):\n",
    "                        if a == 0:\n",
    "                            constraints += [phi >= w[0]*(i==0)+w[1]*(i==1)+w[2]*(i==2) -\n",
    "                                            (i==0)*(1-alpha*fi)*(1-alpha*(alpha*fj_sum+fi*beta-a*dbeta)) - \n",
    "                                            gamma*w[0]*(i==0)*(1-alpha*fi) -\n",
    "                                            gamma*w[1]*(i==1)*(alpha*fi) -\n",
    "                                            gamma*w[1]*(i==1)*(beta-dbeta*a) -\n",
    "                                            gamma*w[2]*(i==2)*(1-beta+dbeta*a) -\n",
    "                                            gamma*w[2]*(i==2)]\n",
    "\n",
    "                        constraints += [phi >= -w[0]*(i==0)-w[1]*(i==1)-w[2]*(i==2) +\n",
    "                                        (i==0)*(1-alpha*fi)*(1-alpha*(alpha*fj_sum+i*beta-a*dbeta)) +\n",
    "                                        gamma*w[0]*(i==0)*(1-alpha*fi) +\n",
    "                                        gamma*w[1]*(i==1)*(alpha*fi) +\n",
    "                                        gamma*w[1]*(i==1)*(beta-dbeta*a) +\n",
    "                                        gamma*w[2]*(i==2)*(1-beta+dbeta*a) +\n",
    "                                        gamma*w[2]*(i==2)]\n",
    "\n",
    "problem = Problem(objective, constraints)\n",
    "print(\"number of constraints: %d\" %len(constraints))                    "
   ]
  },
  {
   "cell_type": "code",
   "execution_count": 9,
   "metadata": {
    "collapsed": false
   },
   "outputs": [
    {
     "name": "stdout",
     "output_type": "stream",
     "text": [
      "problem status: optimal\n",
      "error: 0.9386\n",
      "weight(s): \n",
      "[[ 1.22701395]\n",
      " [-0.03731834]\n",
      " [ 0.02621872]]\n"
     ]
    }
   ],
   "source": [
    "result = problem.solve()\n",
    "print(\"problem status: %s\" %problem.status)\n",
    "print(\"error: %0.4f\" %problem.value)\n",
    "print(\"weight(s): \")\n",
    "print(w.value)"
   ]
  },
  {
   "cell_type": "code",
   "execution_count": null,
   "metadata": {
    "collapsed": true
   },
   "outputs": [],
   "source": []
  },
  {
   "cell_type": "code",
   "execution_count": null,
   "metadata": {
    "collapsed": true
   },
   "outputs": [],
   "source": []
  },
  {
   "cell_type": "code",
   "execution_count": null,
   "metadata": {
    "collapsed": true
   },
   "outputs": [],
   "source": []
  },
  {
   "cell_type": "code",
   "execution_count": null,
   "metadata": {
    "collapsed": true
   },
   "outputs": [],
   "source": []
  }
 ],
 "metadata": {
  "kernelspec": {
   "display_name": "Python 3",
   "language": "python",
   "name": "python3"
  },
  "language_info": {
   "codemirror_mode": {
    "name": "ipython",
    "version": 3
   },
   "file_extension": ".py",
   "mimetype": "text/x-python",
   "name": "python",
   "nbconvert_exporter": "python",
   "pygments_lexer": "ipython3",
   "version": "3.5.2"
  }
 },
 "nbformat": 4,
 "nbformat_minor": 0
}
