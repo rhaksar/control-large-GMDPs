{
 "cells": [
  {
   "cell_type": "markdown",
   "metadata": {},
   "source": [
    "### setup"
   ]
  },
  {
   "cell_type": "code",
   "execution_count": 1,
   "metadata": {},
   "outputs": [],
   "source": [
    "from FireSimulator import *\n",
    "from FireSimulatorUtilities import *\n",
    "\n",
    "from datetime import datetime\n",
    "import matplotlib.pyplot as plt\n",
    "import matplotlib.patches as patches\n",
    "import numpy as np\n",
    "import time\n",
    "\n",
    "%matplotlib inline\n",
    "%load_ext autoreload\n",
    "%autoreload 2"
   ]
  },
  {
   "cell_type": "code",
   "execution_count": null,
   "metadata": {},
   "outputs": [],
   "source": []
  },
  {
   "cell_type": "markdown",
   "metadata": {},
   "source": [
    "### set up initial conditon"
   ]
  },
  {
   "cell_type": "code",
   "execution_count": 21,
   "metadata": {},
   "outputs": [],
   "source": [
    "alpha = 0.2\n",
    "beta = np.exp(-1/10)\n",
    "gamma = 0.95\n",
    "grid_size = 50\n",
    "dp = 0.54\n",
    "capacity = 4"
   ]
  },
  {
   "cell_type": "code",
   "execution_count": null,
   "metadata": {},
   "outputs": [],
   "source": [
    "x = math.ceil(grid_size/2)\n",
    "fire_init = []\n",
    "fire_init.append((x,x))\n",
    "for d in range(1,3):\n",
    "    fire_init.append((x-d,x+d))\n",
    "    fire_init.append((x+d,x+d))\n",
    "    fire_init.append((x-d,x-d))\n",
    "    fire_init.append((x+d,x-d))\n",
    "\n",
    "sim = FireSimulator(grid_size, fire_init=fire_init)\n",
    "fig = plt.figure()\n",
    "ax = fig.add_subplot(111, aspect='equal')\n",
    "plt.xlim([0,grid_size+1])\n",
    "plt.ylim([0,grid_size+1])\n",
    "plt.tick_params(axis='both', which='both', labelbottom=False, labelleft=False, bottom=False, left=False)\n",
    "\n",
    "for i in range(grid_size):\n",
    "    for j in range(grid_size):\n",
    "        x = col_to_x(j)\n",
    "        y = row_to_y(grid_size,i)\n",
    "        \n",
    "        #if sim.state[i,j] == 0:\n",
    "        #    rect = patches.Rectangle((x-0.5,y-0.5), 1, 1, alpha=0.6, color='g')\n",
    "        #    ax.add_patch(rect)\n",
    "        if sim.state[i,j] == 1:\n",
    "            rect = patches.Rectangle((x-0.5,y-0.5), 1, 1, alpha=0.6, color='r')\n",
    "            ax.add_patch(rect)"
   ]
  },
  {
   "cell_type": "code",
   "execution_count": null,
   "metadata": {},
   "outputs": [],
   "source": []
  },
  {
   "cell_type": "markdown",
   "metadata": {},
   "source": [
    "### benchmark vw policy"
   ]
  },
  {
   "cell_type": "code",
   "execution_count": 22,
   "metadata": {},
   "outputs": [],
   "source": [
    "def vw(sim, alpha, dbeta, gamma, weights, capacity):\n",
    "    control = []\n",
    "    fire_neigh = [(-1,0),(1,0),(0,-1),(0,1)]\n",
    "    if not sim.fires:\n",
    "        return control\n",
    "    \n",
    "    for f in sim.fires:\n",
    "        ni = 0\n",
    "        x,y = f\n",
    "        rf = y_to_row(grid_size,y)\n",
    "        cf = x_to_col(x)\n",
    "        for (dr,dc) in fire_neigh:\n",
    "            rn = rf + dr\n",
    "            cn = cf + dc\n",
    "            \n",
    "            if rn>=0 and rn<grid_size and cn>=0 and cn<grid_size and sim.state[rn,cn]==0:\n",
    "                counter = 0\n",
    "                for (dr2,dc2) in fire_neigh:\n",
    "                    rm = rn + dr2\n",
    "                    cm = rn + dc2\n",
    "                    \n",
    "                    if rm>=0 and rm<grid_size and cm>=0 and cm<grid_size and sim.state[rm,cm]==1:\n",
    "                        counter += 1\n",
    "                        \n",
    "                ni += (1 - alpha*counter)\n",
    "        \n",
    "        #value = (alpha - gamma*weights[2])*dbeta*ni\n",
    "        value = dbeta - gamma*weights[2]*dbeta*ni\n",
    "        control.append((value,f))\n",
    "        \n",
    "    control = sorted(control, key=lambda tup: tup[0], reverse=True)\n",
    "    control = control[:capacity]\n",
    "    control = [el[1] for el in control]   \n",
    "    \n",
    "    return control"
   ]
  },
  {
   "cell_type": "code",
   "execution_count": 23,
   "metadata": {},
   "outputs": [
    {
     "name": "stdout",
     "output_type": "stream",
     "text": [
      "[2018-03-18 16:24:23] start\n",
      "[2018-03-18 16:24:25] completed 100 simulations\n",
      "[2018-03-18 16:24:26] completed 200 simulations\n",
      "[2018-03-18 16:24:27] completed 300 simulations\n",
      "[2018-03-18 16:24:28] completed 400 simulations\n",
      "[2018-03-18 16:24:29] completed 500 simulations\n",
      "[2018-03-18 16:24:30] completed 600 simulations\n",
      "[2018-03-18 16:24:31] completed 700 simulations\n",
      "[2018-03-18 16:24:32] completed 800 simulations\n",
      "[2018-03-18 16:24:33] completed 900 simulations\n",
      "[2018-03-18 16:24:34] completed 1000 simulations\n",
      "[2018-03-18 16:24:34] finish\n",
      "11.56s = 0.19m elapsed\n"
     ]
    }
   ],
   "source": [
    "h_vw = []\n",
    "weights_vw = [9.38271605, 1.2345679, -0.03367766]\n",
    "\n",
    "st = datetime.today().strftime('%Y-%m-%d %H:%M:%S')\n",
    "print('[%s] start' % st)\n",
    "\n",
    "tic = time.clock()\n",
    "\n",
    "for s in range(1000):\n",
    "    sim = FireSimulator(grid_size, rng=s)\n",
    "    #sim = FireSimulator(grid_size, rng=s, fire_init=fire_init)\n",
    "    \n",
    "    while not sim.end:\n",
    "        action = []\n",
    "        action = vw(sim, alpha, dp, gamma, weights_vw, capacity)\n",
    "        \n",
    "        sim.step(action, dbeta=dp)\n",
    "        #print(sim.fires)\n",
    "        #print(action)\n",
    "        #break\n",
    "        \n",
    "    h_vw.append(sim.stats[0]/np.sum(sim.stats))\n",
    "    if (s+1) % 100 == 0:\n",
    "        st = datetime.today().strftime('%Y-%m-%d %H:%M:%S')\n",
    "        print('[%s] completed %d simulations' %(st,s+1))\n",
    "    \n",
    "st = datetime.today().strftime('%Y-%m-%d %H:%M:%S')\n",
    "print('[%s] finish' % st)\n",
    "\n",
    "toc = time.clock()\n",
    "print(\"%0.2fs = %0.2fm elapsed\" % (toc-tic,(toc-tic)/60))"
   ]
  },
  {
   "cell_type": "code",
   "execution_count": 24,
   "metadata": {},
   "outputs": [
    {
     "name": "stdout",
     "output_type": "stream",
     "text": [
      "min: 0.12\n",
      "mean: 0.98\n",
      "median: 0.98\n",
      "max: 0.99\n"
     ]
    },
    {
     "data": {
      "image/png": "[encoded data removed]",
      "text/plain": [
       "<Figure size 432x288 with 1 Axes>"
      ]
     },
     "metadata": {},
     "output_type": "display_data"
    }
   ],
   "source": [
    "plt.boxplot(h_vw, showmeans=True)\n",
    "\n",
    "print('min: %0.2f' %np.amin(h_vw))\n",
    "print('mean: %0.2f' % np.mean(h_vw))\n",
    "print('median: %0.2f' %np.median(h_vw))\n",
    "print('max: %0.2f' %np.amax(h_vw))"
   ]
  },
  {
   "cell_type": "code",
   "execution_count": null,
   "metadata": {},
   "outputs": [],
   "source": []
  },
  {
   "cell_type": "markdown",
   "metadata": {},
   "source": [
    "### benchmark Qw method"
   ]
  },
  {
   "cell_type": "code",
   "execution_count": 9,
   "metadata": {},
   "outputs": [],
   "source": [
    "def Qw(sim, alpha, dbeta, gamma, weights, capacity):\n",
    "    control = []\n",
    "    fire_neigh = [(-1,0),(1,0),(0,-1),(0,1)]\n",
    "    if not sim.fires:\n",
    "        return control\n",
    "    \n",
    "    for f in sim.fires:\n",
    "        ni = 0\n",
    "        x,y = f\n",
    "        rf = y_to_row(grid_size,y)\n",
    "        cf = x_to_col(x)\n",
    "        for (dr,dc) in fire_neigh:\n",
    "            rn = rf + dr\n",
    "            cn = cf + dc\n",
    "            \n",
    "            if rn>=0 and rn<grid_size and cn>=0 and cn<grid_size and sim.state[rn,cn]==0:\n",
    "                counter = 0\n",
    "                for (dr2,dc2) in fire_neigh:\n",
    "                    rm = rn + dr2\n",
    "                    cm = rn + dc2\n",
    "                    \n",
    "                    if rm>=0 and rm<grid_size and cm>=0 and cm<grid_size and sim.state[rm,cm]==1:\n",
    "                        counter += 1\n",
    "                        \n",
    "                ni += (1 - alpha*counter)\n",
    "        \n",
    "        value = weights[3]*ni\n",
    "        control.append((value,f))\n",
    "        \n",
    "    print(control)\n",
    "    control = sorted(control, key=lambda tup: tup[0], reverse=True)\n",
    "    print(control)\n",
    "    control = control[:capacity]\n",
    "    control = [el[1] for el in control]   \n",
    "    \n",
    "    5/0\n",
    "    \n",
    "    return control"
   ]
  },
  {
   "cell_type": "code",
   "execution_count": 10,
   "metadata": {},
   "outputs": [
    {
     "name": "stdout",
     "output_type": "stream",
     "text": [
      "[2018-03-18 14:57:21] start\n",
      "[(-0.288, (24, 24)), (-0.03599999999999999, (24, 25)), (-0.03599999999999999, (24, 26)), (-0.288, (24, 27)), (-0.18, (25, 24)), (-0.0, (25, 25)), (-0.0, (25, 26)), (-0.18, (25, 27)), (-0.18, (26, 24)), (-0.0, (26, 25)), (-0.0, (26, 26)), (-0.18, (26, 27)), (-0.288, (27, 24)), (-0.03599999999999999, (27, 25)), (-0.03599999999999999, (27, 26)), (-0.288, (27, 27))]\n",
      "[(-0.0, (25, 25)), (-0.0, (25, 26)), (-0.0, (26, 25)), (-0.0, (26, 26)), (-0.03599999999999999, (24, 25)), (-0.03599999999999999, (24, 26)), (-0.03599999999999999, (27, 25)), (-0.03599999999999999, (27, 26)), (-0.18, (25, 24)), (-0.18, (25, 27)), (-0.18, (26, 24)), (-0.18, (26, 27)), (-0.288, (24, 24)), (-0.288, (24, 27)), (-0.288, (27, 24)), (-0.288, (27, 27))]\n"
     ]
    },
    {
     "ename": "ZeroDivisionError",
     "evalue": "division by zero",
     "traceback": [
      "\u001b[0;31m---------------------------------------------------------------------------\u001b[0m",
      "\u001b[0;31mZeroDivisionError\u001b[0m                         Traceback (most recent call last)",
      "\u001b[0;32m<ipython-input-10-05ac1132cdd4>\u001b[0m in \u001b[0;36m<module>\u001b[0;34m()\u001b[0m\n\u001b[1;32m     13\u001b[0m     \u001b[0;32mwhile\u001b[0m \u001b[0;32mnot\u001b[0m \u001b[0msim\u001b[0m\u001b[0;34m.\u001b[0m\u001b[0mend\u001b[0m\u001b[0;34m:\u001b[0m\u001b[0;34m\u001b[0m\u001b[0m\n\u001b[1;32m     14\u001b[0m         \u001b[0maction\u001b[0m \u001b[0;34m=\u001b[0m \u001b[0;34m[\u001b[0m\u001b[0;34m]\u001b[0m\u001b[0;34m\u001b[0m\u001b[0m\n\u001b[0;32m---> 15\u001b[0;31m         \u001b[0maction\u001b[0m \u001b[0;34m=\u001b[0m \u001b[0mQw\u001b[0m\u001b[0;34m(\u001b[0m\u001b[0msim\u001b[0m\u001b[0;34m,\u001b[0m \u001b[0malpha\u001b[0m\u001b[0;34m,\u001b[0m \u001b[0mdp\u001b[0m\u001b[0;34m,\u001b[0m \u001b[0mgamma\u001b[0m\u001b[0;34m,\u001b[0m \u001b[0mweights_Qw\u001b[0m\u001b[0;34m,\u001b[0m \u001b[0mcapacity\u001b[0m\u001b[0;34m)\u001b[0m\u001b[0;34m\u001b[0m\u001b[0m\n\u001b[0m\u001b[1;32m     16\u001b[0m \u001b[0;34m\u001b[0m\u001b[0m\n\u001b[1;32m     17\u001b[0m         \u001b[0msim\u001b[0m\u001b[0;34m.\u001b[0m\u001b[0mstep\u001b[0m\u001b[0;34m(\u001b[0m\u001b[0maction\u001b[0m\u001b[0;34m,\u001b[0m \u001b[0mdbeta\u001b[0m\u001b[0;34m=\u001b[0m\u001b[0mdp\u001b[0m\u001b[0;34m)\u001b[0m\u001b[0;34m\u001b[0m\u001b[0m\n",
      "\u001b[0;32m<ipython-input-9-8f9a0c8aa9e8>\u001b[0m in \u001b[0;36mQw\u001b[0;34m(sim, alpha, dbeta, gamma, weights, capacity)\u001b[0m\n\u001b[1;32m     34\u001b[0m     \u001b[0mcontrol\u001b[0m \u001b[0;34m=\u001b[0m \u001b[0;34m[\u001b[0m\u001b[0mel\u001b[0m\u001b[0;34m[\u001b[0m\u001b[0;36m1\u001b[0m\u001b[0;34m]\u001b[0m \u001b[0;32mfor\u001b[0m \u001b[0mel\u001b[0m \u001b[0;32min\u001b[0m \u001b[0mcontrol\u001b[0m\u001b[0;34m]\u001b[0m\u001b[0;34m\u001b[0m\u001b[0m\n\u001b[1;32m     35\u001b[0m \u001b[0;34m\u001b[0m\u001b[0m\n\u001b[0;32m---> 36\u001b[0;31m     \u001b[0;36m5\u001b[0m\u001b[0;34m/\u001b[0m\u001b[0;36m0\u001b[0m\u001b[0;34m\u001b[0m\u001b[0m\n\u001b[0m\u001b[1;32m     37\u001b[0m \u001b[0;34m\u001b[0m\u001b[0m\n\u001b[1;32m     38\u001b[0m     \u001b[0;32mreturn\u001b[0m \u001b[0mcontrol\u001b[0m\u001b[0;34m\u001b[0m\u001b[0m\n",
      "\u001b[0;31mZeroDivisionError\u001b[0m: division by zero"
     ],
     "output_type": "error"
    }
   ],
   "source": [
    "h_Qw = []\n",
    "weights_Qw = [9.87, 0.243, 0, -0.18]\n",
    "\n",
    "st = datetime.today().strftime('%Y-%m-%d %H:%M:%S')\n",
    "print('[%s] start' % st)\n",
    "\n",
    "tic = time.clock()\n",
    "\n",
    "for s in range(1000):\n",
    "    sim = FireSimulator(grid_size, rng=s)\n",
    "    #sim = FireSimulator(grid_size, rng=s, fire_init=fire_init)\n",
    "    \n",
    "    while not sim.end:\n",
    "        action = []\n",
    "        action = Qw(sim, alpha, dp, gamma, weights_Qw, capacity)\n",
    "        \n",
    "        sim.step(action, dbeta=dp)\n",
    "        #print(sim.fires)\n",
    "        #print(action)\n",
    "       \n",
    "    h_Qw.append(sim.stats[0]/np.sum(sim.stats))\n",
    "    if (s+1) % 100 == 0:\n",
    "        st = datetime.today().strftime('%Y-%m-%d %H:%M:%S')\n",
    "        print('[%s] completed %d simulations' %(st,s+1))\n",
    "    \n",
    "st = datetime.today().strftime('%Y-%m-%d %H:%M:%S')\n",
    "print('[%s] finish' % st)\n",
    "\n",
    "toc = time.clock()\n",
    "print(\"%0.2fs = %0.2fm elapsed\" % (toc-tic,(toc-tic)/60))"
   ]
  },
  {
   "cell_type": "code",
   "execution_count": null,
   "metadata": {},
   "outputs": [],
   "source": [
    "plt.boxplot(h_Qw, showmeans=True)\n",
    "\n",
    "print('min: %0.2f' %np.amin(h_Qw))\n",
    "print('mean: %0.2f' % np.mean(h_Qw))\n",
    "print('median: %0.2f' %np.median(h_Qw))\n",
    "print('max: %0.2f' %np.amax(h_Qw))"
   ]
  },
  {
   "cell_type": "code",
   "execution_count": null,
   "metadata": {},
   "outputs": [],
   "source": []
  },
  {
   "cell_type": "markdown",
   "metadata": {},
   "source": [
    "### benchmark Forsell et al. basis functions"
   ]
  },
  {
   "cell_type": "code",
   "execution_count": 25,
   "metadata": {},
   "outputs": [],
   "source": [
    "def prior(sim, alpha, dbeta, gamma, weights, capacity):\n",
    "    control = []\n",
    "    fire_neigh = [(-1,0),(1,0),(0,-1),(0,1)]\n",
    "    if not sim.fires:\n",
    "        return control\n",
    "    \n",
    "    for f in sim.fires:\n",
    "        ni = 0\n",
    "        x,y = f\n",
    "        rf = y_to_row(grid_size,y)\n",
    "        cf = x_to_col(x)\n",
    "        for (dr,dc) in fire_neigh:\n",
    "            rn = rf + dr\n",
    "            cn = cf + dc\n",
    "            \n",
    "            if rn>=0 and rn<grid_size and cn>=0 and cn<grid_size and sim.state[rn,cn]==0:\n",
    "                counter = 0\n",
    "                for (dr2,dc2) in fire_neigh:\n",
    "                    rm = rn + dr2\n",
    "                    cm = rn + dc2\n",
    "                    \n",
    "                    if rm>=0 and rm<grid_size and cm>=0 and cm<grid_size and sim.state[rm,cm]==1:\n",
    "                        counter += 1\n",
    "                        \n",
    "                ni += (1 - alpha*counter)\n",
    "        \n",
    "        #value = alpha*dbeta*ni - gamma*weights[1]*dbeta + gamma*weights[2]*dbeta\n",
    "        value = dbeta - gamma*weights[1]*dbeta + gamma*weights[2]*dbeta\n",
    "        control.append((value,f))\n",
    "        \n",
    "    control = sorted(control, key=lambda tup: tup[0], reverse=True)[:capacity]\n",
    "    control = [el[1] for el in control]   \n",
    "    \n",
    "    return control"
   ]
  },
  {
   "cell_type": "code",
   "execution_count": 26,
   "metadata": {},
   "outputs": [
    {
     "name": "stdout",
     "output_type": "stream",
     "text": [
      "[2018-03-18 16:43:22] start\n",
      "[2018-03-18 16:44:41] completed 100 simulations\n",
      "[2018-03-18 16:46:02] completed 200 simulations\n",
      "[2018-03-18 16:47:16] completed 300 simulations\n",
      "[2018-03-18 16:48:31] completed 400 simulations\n",
      "[2018-03-18 16:49:48] completed 500 simulations\n",
      "[2018-03-18 16:50:58] completed 600 simulations\n",
      "[2018-03-18 16:52:16] completed 700 simulations\n",
      "[2018-03-18 16:53:28] completed 800 simulations\n",
      "[2018-03-18 16:54:50] completed 900 simulations\n",
      "[2018-03-18 16:56:09] completed 1000 simulations\n",
      "[2018-03-18 16:56:09] finish\n",
      "763.61s = 12.73m elapsed\n"
     ]
    }
   ],
   "source": [
    "h_prior = []\n",
    "# weights_prior = [1.22701395, -0.03731834, 0.02621872]\n",
    "weights_prior = [-1.02949270, -1.07226902, 4.75769649e-10]\n",
    "\n",
    "st = datetime.today().strftime('%Y-%m-%d %H:%M:%S')\n",
    "print('[%s] start' % st)\n",
    "\n",
    "tic = time.clock()\n",
    "\n",
    "for s in range(1000):\n",
    "    sim = FireSimulator(grid_size, rng=s)\n",
    "    #sim = FireSimulator(grid_size, rng=s, fire_init=fire_init)\n",
    "    \n",
    "    while not sim.end:\n",
    "        action = []\n",
    "        action = prior(sim, alpha, dp, gamma, weights_prior, capacity)\n",
    "        \n",
    "        sim.step(action, dbeta=dp)\n",
    "        #print(sim.fires)\n",
    "        #print(action)\n",
    "       \n",
    "    h_prior.append(sim.stats[0]/np.sum(sim.stats))\n",
    "    if (s+1) % 100 == 0:\n",
    "        st = datetime.today().strftime('%Y-%m-%d %H:%M:%S')\n",
    "        print('[%s] completed %d simulations' %(st,s+1))\n",
    "    \n",
    "st = datetime.today().strftime('%Y-%m-%d %H:%M:%S')\n",
    "print('[%s] finish' % st)\n",
    "\n",
    "toc = time.clock()\n",
    "print(\"%0.2fs = %0.2fm elapsed\" % (toc-tic,(toc-tic)/60))"
   ]
  },
  {
   "cell_type": "code",
   "execution_count": 27,
   "metadata": {},
   "outputs": [
    {
     "name": "stdout",
     "output_type": "stream",
     "text": [
      "min: 0.00\n",
      "mean: 0.15\n",
      "median: 0.01\n",
      "max: 0.99\n"
     ]
    },
    {
     "data": {
      "image/png": "[encoded data removed]",
      "text/plain": [
       "<Figure size 432x288 with 1 Axes>"
      ]
     },
     "metadata": {},
     "output_type": "display_data"
    }
   ],
   "source": [
    "plt.boxplot(h_prior, showmeans=True)\n",
    "\n",
    "print('min: %0.2f' %np.amin(h_prior))\n",
    "print('mean: %0.2f' % np.mean(h_prior))\n",
    "print('median: %0.2f' %np.median(h_prior))\n",
    "print('max: %0.2f' %np.amax(h_prior))"
   ]
  },
  {
   "cell_type": "code",
   "execution_count": null,
   "metadata": {},
   "outputs": [],
   "source": []
  },
  {
   "cell_type": "code",
   "execution_count": null,
   "metadata": {},
   "outputs": [],
   "source": []
  }
 ],
 "metadata": {
  "kernelspec": {
   "display_name": "Python 3",
   "language": "python",
   "name": "python3"
  },
  "language_info": {
   "codemirror_mode": {
    "name": "ipython",
    "version": 3
   },
   "file_extension": ".py",
   "mimetype": "text/x-python",
   "name": "python",
   "nbconvert_exporter": "python",
   "pygments_lexer": "ipython3",
   "version": "3.5.2"
  }
 },
 "nbformat": 4,
 "nbformat_minor": 2
}
