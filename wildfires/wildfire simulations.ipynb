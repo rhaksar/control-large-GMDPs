{
 "cells": [
  {
   "cell_type": "markdown",
   "metadata": {},
   "source": [
    "### setup"
   ]
  },
  {
   "cell_type": "code",
   "execution_count": 1,
   "metadata": {
    "collapsed": true
   },
   "outputs": [],
   "source": [
    "from FireSimulator import *\n",
    "from FireSimulatorUtilities import *\n",
    "\n",
    "from datetime import datetime\n",
    "import matplotlib.pyplot as plt\n",
    "import matplotlib.patches as patches\n",
    "import numpy as np\n",
    "import time\n",
    "\n",
    "%matplotlib inline\n",
    "%load_ext autoreload\n",
    "%autoreload 2"
   ]
  },
  {
   "cell_type": "code",
   "execution_count": null,
   "metadata": {
    "collapsed": true
   },
   "outputs": [],
   "source": []
  },
  {
   "cell_type": "markdown",
   "metadata": {},
   "source": [
    "### set up initial conditon"
   ]
  },
  {
   "cell_type": "code",
   "execution_count": 2,
   "metadata": {
    "collapsed": true
   },
   "outputs": [],
   "source": [
    "alpha = 0.2\n",
    "beta = np.exp(-1/10)\n",
    "gamma = 0.95\n",
    "grid_size = 50\n",
    "dp = 0.54\n",
    "capacity = 4"
   ]
  },
  {
   "cell_type": "code",
   "execution_count": 3,
   "metadata": {
    "collapsed": false
   },
   "outputs": [
    {
     "data": {
      "image/png": "[encoded data removed]",
      "text/plain": [
       "<matplotlib.figure.Figure at 0x7fba0db0e208>"
      ]
     },
     "metadata": {},
     "output_type": "display_data"
    }
   ],
   "source": [
    "x = math.ceil(grid_size/2)\n",
    "fire_init = []\n",
    "fire_init.append((x,x))\n",
    "for d in range(1,3):\n",
    "    fire_init.append((x-d,x+d))\n",
    "    fire_init.append((x+d,x+d))\n",
    "    fire_init.append((x-d,x-d))\n",
    "    fire_init.append((x+d,x-d))\n",
    "\n",
    "sim = FireSimulator(grid_size, fire_init=fire_init)\n",
    "fig = plt.figure()\n",
    "ax = fig.add_subplot(111, aspect='equal')\n",
    "plt.xlim([0,grid_size+1])\n",
    "plt.ylim([0,grid_size+1])\n",
    "plt.tick_params(axis='both', which='both', labelbottom=False, labelleft=False, bottom=False, left=False)\n",
    "\n",
    "for i in range(grid_size):\n",
    "    for j in range(grid_size):\n",
    "        x = col_to_x(j)\n",
    "        y = row_to_y(grid_size,i)\n",
    "        \n",
    "        #if sim.state[i,j] == 0:\n",
    "        #    rect = patches.Rectangle((x-0.5,y-0.5), 1, 1, alpha=0.6, color='g')\n",
    "        #    ax.add_patch(rect)\n",
    "        if sim.state[i,j] == 1:\n",
    "            rect = patches.Rectangle((x-0.5,y-0.5), 1, 1, alpha=0.6, color='r')\n",
    "            ax.add_patch(rect)"
   ]
  },
  {
   "cell_type": "code",
   "execution_count": null,
   "metadata": {
    "collapsed": true
   },
   "outputs": [],
   "source": []
  },
  {
   "cell_type": "markdown",
   "metadata": {},
   "source": [
    "### benchmark vw policy"
   ]
  },
  {
   "cell_type": "code",
   "execution_count": 6,
   "metadata": {
    "collapsed": true
   },
   "outputs": [],
   "source": [
    "def vw(sim, alpha, dbeta, gamma, weights, capacity):\n",
    "    control = []\n",
    "    fire_neigh = [(-1,0),(1,0),(0,-1),(0,1)]\n",
    "    if not sim.fires:\n",
    "        return control\n",
    "    \n",
    "    for f in sim.fires:\n",
    "        ni = 0\n",
    "        x,y = f\n",
    "        rf = y_to_row(grid_size,y)\n",
    "        cf = x_to_col(x)\n",
    "        for (dr,dc) in fire_neigh:\n",
    "            rn = rf + dr\n",
    "            cn = cf + dc\n",
    "            \n",
    "            if rn>=0 and rn<grid_size and cn>=0 and cn<grid_size and sim.state[rn,cn]==0:\n",
    "                counter = 0\n",
    "                for (dr2,dc2) in fire_neigh:\n",
    "                    rm = rn + dr2\n",
    "                    cm = rn + dc2\n",
    "                    \n",
    "                    if rm>=0 and rm<grid_size and cm>=0 and cm<grid_size and sim.state[rm,cm]==1:\n",
    "                        counter += 1\n",
    "                        \n",
    "                ni += (1 - alpha*counter)\n",
    "        \n",
    "        #value = (alpha - gamma*weights[2])*dbeta*ni\n",
    "        value = dbeta - gamma*weights[2]*dbeta*ni\n",
    "        control.append((value,f))\n",
    "        \n",
    "    control = sorted(control, key=lambda tup: tup[0], reverse=True)\n",
    "    control = control[:capacity]\n",
    "    control = [el[1] for el in control]   \n",
    "    \n",
    "    return control"
   ]
  },
  {
   "cell_type": "code",
   "execution_count": 7,
   "metadata": {
    "collapsed": false
   },
   "outputs": [
    {
     "name": "stdout",
     "output_type": "stream",
     "text": [
      "[2018-03-20 08:15:41] start\n",
      "[2018-03-20 08:15:42] completed 100 simulations\n",
      "[2018-03-20 08:15:43] completed 200 simulations\n",
      "[2018-03-20 08:15:43] completed 300 simulations\n",
      "[2018-03-20 08:15:44] completed 400 simulations\n",
      "[2018-03-20 08:15:44] completed 500 simulations\n",
      "[2018-03-20 08:15:44] completed 600 simulations\n",
      "[2018-03-20 08:15:45] completed 700 simulations\n",
      "[2018-03-20 08:15:45] completed 800 simulations\n",
      "[2018-03-20 08:15:46] completed 900 simulations\n",
      "[2018-03-20 08:15:46] completed 1000 simulations\n",
      "[2018-03-20 08:15:46] finish\n",
      "5.22s = 0.09m elapsed\n"
     ]
    }
   ],
   "source": [
    "h_vw = []\n",
    "# weights_vw = [9.38271605, 1.2345679, -0.03367766]\n",
    "weights_vw = [-24.88284629, 5.21893561, -1.37543106]\n",
    "\n",
    "st = datetime.today().strftime('%Y-%m-%d %H:%M:%S')\n",
    "print('[%s] start' % st)\n",
    "\n",
    "tic = time.clock()\n",
    "\n",
    "for s in range(1000):\n",
    "    sim = FireSimulator(grid_size, rng=s)\n",
    "    #sim = FireSimulator(grid_size, rng=s, fire_init=fire_init)\n",
    "    \n",
    "    while not sim.end:\n",
    "        action = []\n",
    "        action = vw(sim, alpha, dp, gamma, weights_vw, capacity)\n",
    "        \n",
    "        sim.step(action, dbeta=dp)\n",
    "        #print(sim.fires)\n",
    "        #print(action)\n",
    "        #break\n",
    "        \n",
    "    h_vw.append(sim.stats[0]/np.sum(sim.stats))\n",
    "    if (s+1) % 100 == 0:\n",
    "        st = datetime.today().strftime('%Y-%m-%d %H:%M:%S')\n",
    "        print('[%s] completed %d simulations' %(st,s+1))\n",
    "    \n",
    "st = datetime.today().strftime('%Y-%m-%d %H:%M:%S')\n",
    "print('[%s] finish' % st)\n",
    "\n",
    "toc = time.clock()\n",
    "print(\"%0.2fs = %0.2fm elapsed\" % (toc-tic,(toc-tic)/60))"
   ]
  },
  {
   "cell_type": "code",
   "execution_count": 8,
   "metadata": {
    "collapsed": false
   },
   "outputs": [
    {
     "name": "stdout",
     "output_type": "stream",
     "text": [
      "min: 0.12\n",
      "mean: 0.98\n",
      "median: 0.98\n",
      "max: 0.99\n"
     ]
    },
    {
     "data": {
      "image/png": "[encoded data removed]",
      "text/plain": [
       "<matplotlib.figure.Figure at 0x7f8522cde1d0>"
      ]
     },
     "metadata": {},
     "output_type": "display_data"
    }
   ],
   "source": [
    "plt.boxplot(h_vw, showmeans=True)\n",
    "\n",
    "print('min: %0.2f' %np.amin(h_vw))\n",
    "print('mean: %0.2f' % np.mean(h_vw))\n",
    "print('median: %0.2f' %np.median(h_vw))\n",
    "print('max: %0.2f' %np.amax(h_vw))"
   ]
  },
  {
   "cell_type": "code",
   "execution_count": null,
   "metadata": {
    "collapsed": true
   },
   "outputs": [],
   "source": []
  },
  {
   "cell_type": "markdown",
   "metadata": {},
   "source": [
    "### benchmark Qw method"
   ]
  },
  {
   "cell_type": "code",
   "execution_count": 9,
   "metadata": {
    "collapsed": true
   },
   "outputs": [],
   "source": [
    "def Qw(sim, alpha, dbeta, gamma, weights, capacity):\n",
    "    control = []\n",
    "    fire_neigh = [(-1,0),(1,0),(0,-1),(0,1)]\n",
    "    if not sim.fires:\n",
    "        return control\n",
    "    \n",
    "    for f in sim.fires:\n",
    "        ni = 0\n",
    "        x,y = f\n",
    "        rf = y_to_row(grid_size,y)\n",
    "        cf = x_to_col(x)\n",
    "        for (dr,dc) in fire_neigh:\n",
    "            rn = rf + dr\n",
    "            cn = cf + dc\n",
    "            \n",
    "            if rn>=0 and rn<grid_size and cn>=0 and cn<grid_size and sim.state[rn,cn]==0:\n",
    "                counter = 0\n",
    "                for (dr2,dc2) in fire_neigh:\n",
    "                    rm = rn + dr2\n",
    "                    cm = rn + dc2\n",
    "                    \n",
    "                    if rm>=0 and rm<grid_size and cm>=0 and cm<grid_size and sim.state[rm,cm]==1:\n",
    "                        counter += 1\n",
    "                        \n",
    "                ni += (1 - alpha*counter)\n",
    "        \n",
    "        value = weights[3]*ni\n",
    "        control.append((value,f))\n",
    "        \n",
    "    control = sorted(control, key=lambda tup: tup[0], reverse=True)\n",
    "    control = control[:capacity]\n",
    "    control = [el[1] for el in control]   \n",
    "\n",
    "    return control"
   ]
  },
  {
   "cell_type": "code",
   "execution_count": 10,
   "metadata": {
    "collapsed": false
   },
   "outputs": [
    {
     "name": "stdout",
     "output_type": "stream",
     "text": [
      "[2018-03-20 08:20:38] start\n",
      "[2018-03-20 08:21:19] completed 100 simulations\n",
      "[2018-03-20 08:21:57] completed 200 simulations\n",
      "[2018-03-20 08:22:35] completed 300 simulations\n",
      "[2018-03-20 08:23:17] completed 400 simulations\n",
      "[2018-03-20 08:23:58] completed 500 simulations\n",
      "[2018-03-20 08:24:37] completed 600 simulations\n",
      "[2018-03-20 08:25:18] completed 700 simulations\n",
      "[2018-03-20 08:25:56] completed 800 simulations\n",
      "[2018-03-20 08:26:35] completed 900 simulations\n",
      "[2018-03-20 08:27:14] completed 1000 simulations\n",
      "[2018-03-20 08:27:14] finish\n",
      "395.73s = 6.60m elapsed\n"
     ]
    }
   ],
   "source": [
    "h_Qw = []\n",
    "weights_Qw = [9.87, 0.243, 0, -0.18]\n",
    "\n",
    "st = datetime.today().strftime('%Y-%m-%d %H:%M:%S')\n",
    "print('[%s] start' % st)\n",
    "\n",
    "tic = time.clock()\n",
    "\n",
    "for s in range(1000):\n",
    "    sim = FireSimulator(grid_size, rng=s)\n",
    "    #sim = FireSimulator(grid_size, rng=s, fire_init=fire_init)\n",
    "    \n",
    "    while not sim.end:\n",
    "        action = []\n",
    "        action = Qw(sim, alpha, dp, gamma, weights_Qw, capacity)\n",
    "        \n",
    "        sim.step(action, dbeta=dp)\n",
    "        #print(sim.fires)\n",
    "        #print(action)\n",
    "       \n",
    "    h_Qw.append(sim.stats[0]/np.sum(sim.stats))\n",
    "    if (s+1) % 100 == 0:\n",
    "        st = datetime.today().strftime('%Y-%m-%d %H:%M:%S')\n",
    "        print('[%s] completed %d simulations' %(st,s+1))\n",
    "    \n",
    "st = datetime.today().strftime('%Y-%m-%d %H:%M:%S')\n",
    "print('[%s] finish' % st)\n",
    "\n",
    "toc = time.clock()\n",
    "print(\"%0.2fs = %0.2fm elapsed\" % (toc-tic,(toc-tic)/60))"
   ]
  },
  {
   "cell_type": "code",
   "execution_count": 11,
   "metadata": {
    "collapsed": false
   },
   "outputs": [
    {
     "name": "stdout",
     "output_type": "stream",
     "text": [
      "min: 0.00\n",
      "mean: 0.06\n",
      "median: 0.01\n",
      "max: 0.99\n"
     ]
    },
    {
     "data": {
      "image/png": "[encoded data removed]",
      "text/plain": [
       "<matplotlib.figure.Figure at 0x7f8522c90f60>"
      ]
     },
     "metadata": {},
     "output_type": "display_data"
    }
   ],
   "source": [
    "plt.boxplot(h_Qw, showmeans=True)\n",
    "\n",
    "print('min: %0.2f' %np.amin(h_Qw))\n",
    "print('mean: %0.2f' % np.mean(h_Qw))\n",
    "print('median: %0.2f' %np.median(h_Qw))\n",
    "print('max: %0.2f' %np.amax(h_Qw))"
   ]
  },
  {
   "cell_type": "code",
   "execution_count": null,
   "metadata": {
    "collapsed": true
   },
   "outputs": [],
   "source": []
  },
  {
   "cell_type": "markdown",
   "metadata": {},
   "source": [
    "### benchmark Forsell et al. basis functions"
   ]
  },
  {
   "cell_type": "code",
   "execution_count": 13,
   "metadata": {
    "collapsed": true
   },
   "outputs": [],
   "source": [
    "def prior(sim, alpha, dbeta, gamma, weights, capacity):\n",
    "    control = []\n",
    "    fire_neigh = [(-1,0),(1,0),(0,-1),(0,1)]\n",
    "    if not sim.fires:\n",
    "        return control\n",
    "    \n",
    "    for f in sim.fires:\n",
    "        ni = 0\n",
    "        x,y = f\n",
    "        rf = y_to_row(grid_size,y)\n",
    "        cf = x_to_col(x)\n",
    "        for (dr,dc) in fire_neigh:\n",
    "            rn = rf + dr\n",
    "            cn = cf + dc\n",
    "            \n",
    "            if rn>=0 and rn<grid_size and cn>=0 and cn<grid_size and sim.state[rn,cn]==0:\n",
    "                counter = 0\n",
    "                for (dr2,dc2) in fire_neigh:\n",
    "                    rm = rn + dr2\n",
    "                    cm = rn + dc2\n",
    "                    \n",
    "                    if rm>=0 and rm<grid_size and cm>=0 and cm<grid_size and sim.state[rm,cm]==1:\n",
    "                        counter += 1\n",
    "                        \n",
    "                ni += (1 - alpha*counter)\n",
    "        \n",
    "        #value = alpha*dbeta*ni - gamma*weights[1]*dbeta + gamma*weights[2]*dbeta\n",
    "        value = dbeta - gamma*weights[1]*dbeta + gamma*weights[2]*dbeta\n",
    "        control.append((value,f))\n",
    "        \n",
    "    control = sorted(control, key=lambda tup: tup[0], reverse=True)[:capacity]\n",
    "    control = [el[1] for el in control]   \n",
    "    \n",
    "    return control"
   ]
  },
  {
   "cell_type": "code",
   "execution_count": 8,
   "metadata": {
    "collapsed": false
   },
   "outputs": [
    {
     "name": "stdout",
     "output_type": "stream",
     "text": [
      "[2018-03-19 15:58:48] start\n",
      "[2018-03-19 15:59:26] completed 100 simulations\n",
      "[2018-03-19 16:00:07] completed 200 simulations\n",
      "[2018-03-19 16:00:46] completed 300 simulations\n",
      "[2018-03-19 16:01:24] completed 400 simulations\n",
      "[2018-03-19 16:02:02] completed 500 simulations\n",
      "[2018-03-19 16:02:35] completed 600 simulations\n",
      "[2018-03-19 16:03:12] completed 700 simulations\n",
      "[2018-03-19 16:03:46] completed 800 simulations\n",
      "[2018-03-19 16:04:24] completed 900 simulations\n",
      "[2018-03-19 16:04:59] completed 1000 simulations\n",
      "[2018-03-19 16:04:59] finish\n",
      "370.56s = 6.18m elapsed\n"
     ]
    }
   ],
   "source": [
    "h_prior = []\n",
    "# weights_prior = [1.22701395, -0.03731834, 0.02621872]\n",
    "# weights_prior = [-1.02949270, -1.07226902, 4.75769649e-10]\n",
    "weights_prior = [-25.93229649, -31.97601971, -30.81962663]\n",
    "\n",
    "st = datetime.today().strftime('%Y-%m-%d %H:%M:%S')\n",
    "print('[%s] start' % st)\n",
    "\n",
    "tic = time.clock()\n",
    "\n",
    "for s in range(1000):\n",
    "    sim = FireSimulator(grid_size, rng=s)\n",
    "    #sim = FireSimulator(grid_size, rng=s, fire_init=fire_init)\n",
    "    \n",
    "    while not sim.end:\n",
    "        action = []\n",
    "        action = prior(sim, alpha, dp, gamma, weights_prior, capacity)\n",
    "        \n",
    "        sim.step(action, dbeta=dp)\n",
    "        #print(sim.fires)\n",
    "        #print(action)\n",
    "       \n",
    "    h_prior.append(sim.stats[0]/np.sum(sim.stats))\n",
    "    if (s+1) % 100 == 0:\n",
    "        st = datetime.today().strftime('%Y-%m-%d %H:%M:%S')\n",
    "        print('[%s] completed %d simulations' %(st,s+1))\n",
    "    \n",
    "st = datetime.today().strftime('%Y-%m-%d %H:%M:%S')\n",
    "print('[%s] finish' % st)\n",
    "\n",
    "toc = time.clock()\n",
    "print(\"%0.2fs = %0.2fm elapsed\" % (toc-tic,(toc-tic)/60))"
   ]
  },
  {
   "cell_type": "code",
   "execution_count": 9,
   "metadata": {
    "collapsed": false
   },
   "outputs": [
    {
     "name": "stdout",
     "output_type": "stream",
     "text": [
      "min: 0.00\n",
      "mean: 0.15\n",
      "median: 0.01\n",
      "max: 0.99\n"
     ]
    },
    {
     "data": {
      "image/png": "[encoded data removed]",
      "text/plain": [
       "<matplotlib.figure.Figure at 0x7fba09329c18>"
      ]
     },
     "metadata": {},
     "output_type": "display_data"
    }
   ],
   "source": [
    "plt.boxplot(h_prior, showmeans=True)\n",
    "\n",
    "print('min: %0.2f' %np.amin(h_prior))\n",
    "print('mean: %0.2f' % np.mean(h_prior))\n",
    "print('median: %0.2f' %np.median(h_prior))\n",
    "print('max: %0.2f' %np.amax(h_prior))"
   ]
  },
  {
   "cell_type": "code",
   "execution_count": null,
   "metadata": {
    "collapsed": true
   },
   "outputs": [],
   "source": []
  },
  {
   "cell_type": "code",
   "execution_count": null,
   "metadata": {
    "collapsed": true
   },
   "outputs": [],
   "source": []
  },
  {
   "cell_type": "markdown",
   "metadata": {},
   "source": [
    "### visual comparison of policies"
   ]
  },
  {
   "cell_type": "code",
   "execution_count": 46,
   "metadata": {
    "collapsed": false
   },
   "outputs": [
    {
     "data": {
      "image/png": "[encoded data removed]",
      "text/plain": [
       "<matplotlib.figure.Figure at 0x7f85224527b8>"
      ]
     },
     "metadata": {},
     "output_type": "display_data"
    }
   ],
   "source": [
    "sim = FireSimulator(grid_size, rng=s)\n",
    "\n",
    "for _ in range(10):\n",
    "    action_vw = vw(sim, alpha, dp, gamma, weights_vw, capacity)\n",
    "    action_prior = prior(sim, alpha, dp, gamma, weights_prior, capacity)\n",
    "\n",
    "    sim.step([], dbeta=dp)\n",
    "\n",
    "fig = plt.figure(figsize=(10,10))\n",
    "ax = fig.add_subplot(111, aspect='equal')\n",
    "# plt.xlim([0,grid_size+1])\n",
    "# plt.ylim([0,grid_size+1])\n",
    "plt.xlim([18,32])\n",
    "plt.ylim([20,34])\n",
    "plt.tick_params(axis='both', which='both', labelbottom=False, labelleft=False, bottom=False, left=False)\n",
    "\n",
    "alpha_val = {}\n",
    "for f in sim.fires:\n",
    "    alpha_val[f] = 0.6\n",
    "    \n",
    "# alpha_val = {}\n",
    "# fire_neigh = [(-1,0),(1,0),(0,-1),(0,1)]\n",
    "# for f in sim.fires:\n",
    "#         ni = 0\n",
    "#         x,y = f\n",
    "#         rf = y_to_row(grid_size,y)\n",
    "#         cf = x_to_col(x)\n",
    "#         for (dr,dc) in fire_neigh:\n",
    "#             rn = rf + dr\n",
    "#             cn = cf + dc\n",
    "            \n",
    "#             if rn>=0 and rn<grid_size and cn>=0 and cn<grid_size and sim.state[rn,cn]==0:\n",
    "#                 counter = 0\n",
    "#                 for (dr2,dc2) in fire_neigh:\n",
    "#                     rm = rn + dr2\n",
    "#                     cm = rn + dc2\n",
    "                    \n",
    "#                     if rm>=0 and rm<grid_size and cm>=0 and cm<grid_size and sim.state[rm,cm]==1:\n",
    "#                         counter += 1\n",
    "                        \n",
    "#                 ni += (1 - alpha*counter)\n",
    "        \n",
    "#         value = dp - gamma*weights_vw[2]*dp*ni\n",
    "#         alpha_val[f] = value\n",
    "        \n",
    "# min_val = min(alpha_val.values())\n",
    "# max_val = max(alpha_val.values())\n",
    "# for f in sim.fires:\n",
    "#     alpha_val[f] = (alpha_val[f] - min_val)/(max_val - min_val)\n",
    "    \n",
    "for f in sim.fires:\n",
    "    x, y = f\n",
    "    val = alpha_val[f]\n",
    "    rect = patches.Rectangle((x-0.5,y-0.5), 1, 1, alpha=val, color='r')\n",
    "    ax.add_patch(rect)\n",
    "\n",
    "for i in range(grid_size):\n",
    "    for j in range(grid_size):\n",
    "        x = col_to_x(j)\n",
    "        y = row_to_y(grid_size,i)\n",
    "        \n",
    "        if sim.state[i,j] == 0:\n",
    "            rect = patches.Rectangle((x-0.5,y-0.5), 1, 1, alpha=0.6, color='g')\n",
    "            ax.add_patch(rect)\n",
    "        if sim.state[i,j] == 2:\n",
    "            rect = patches.Rectangle((x-0.5,y-0.5), 1, 1, alpha=0.6, color='k')\n",
    "            ax.add_patch(rect)\n",
    "\n",
    "# plt.savefig('wf_pol_prior.png', dpi=300, bbox_inches='tight')\n",
    "# plt.savefig('wf_pol_vw.png', dpi=300, bbox_inches='tight')"
   ]
  },
  {
   "cell_type": "code",
   "execution_count": null,
   "metadata": {
    "collapsed": true
   },
   "outputs": [],
   "source": []
  },
  {
   "cell_type": "code",
   "execution_count": null,
   "metadata": {
    "collapsed": true
   },
   "outputs": [],
   "source": []
  }
 ],
 "metadata": {
  "kernelspec": {
   "display_name": "Python 3",
   "language": "python",
   "name": "python3"
  },
  "language_info": {
   "codemirror_mode": {
    "name": "ipython",
    "version": 3
   },
   "file_extension": ".py",
   "mimetype": "text/x-python",
   "name": "python",
   "nbconvert_exporter": "python",
   "pygments_lexer": "ipython3",
   "version": "3.5.2"
  }
 },
 "nbformat": 4,
 "nbformat_minor": 2
}
